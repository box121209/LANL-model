{
 "cells": [
  {
   "cell_type": "markdown",
   "metadata": {},
   "source": [
    "# Import netflow sequence and box encoding"
   ]
  },
  {
   "cell_type": "code",
   "execution_count": 1,
   "metadata": {
    "collapsed": false
   },
   "outputs": [
    {
     "data": {
      "text/plain": [
       "[[1, 0, 9501, 138, 2205, 122, 1, 3, 12],\n",
       " [1, 0, 2244, 122, 8986, 122, 1, 2, 9],\n",
       " [1, 0, 2244, 122, 8986, 122, 1, 2, 9],\n",
       " [1, 0, 5354, 122, 9484, 0, 1, 0, 5],\n",
       " [1, 0, 5354, 122, 9484, 0, 1, 0, 5],\n",
       " [1, 0, 5354, 122, 9484, 0, 1, 0, 5],\n",
       " [1, 0, 8986, 122, 2244, 122, 1, 2, 8],\n",
       " [1, 0, 8986, 122, 2244, 122, 1, 2, 8],\n",
       " [1, 0, 8986, 122, 2408, 122, 1, 2, 8],\n",
       " [1, 0, 8986, 122, 2408, 122, 1, 2, 8]]"
      ]
     },
     "execution_count": 1,
     "metadata": {},
     "output_type": "execute_result"
    }
   ],
   "source": [
    "import csv\n",
    "\n",
    "infile = \"data/flows_for_rnn_model_100000.csv\"\n",
    "\n",
    "fp = open(infile, 'r')\n",
    "flowdata = [[int(x) for x in line] for line in csv.reader(fp)]\n",
    "fp.close()\n",
    "\n",
    "flowdata[:10]"
   ]
  },
  {
   "cell_type": "markdown",
   "metadata": {},
   "source": [
    "Note that the schema is:\n",
    "\n",
    "<ul>\n",
    "<li> timestamp\n",
    "<li> duration (log)\n",
    "<li> source computer\n",
    "<li> source port\n",
    "<li> destination computer\n",
    "<li> destination port\n",
    "<li> protocol\n",
    "<li> nr packets (log)\n",
    "<li> nr bytes (log)\n",
    "</ul>"
   ]
  },
  {
   "cell_type": "code",
   "execution_count": 20,
   "metadata": {
    "collapsed": false
   },
   "outputs": [],
   "source": [
    "# load box/port info from json:\n",
    "\n",
    "import json\n",
    "import re\n",
    "\n",
    "boxdata = json.load(open(\"data/boxport_data.json\", 'r'))\n",
    "\n",
    "def jsonIntKeys(x):\n",
    "    if isinstance(x, dict):\n",
    "            return {int(k):str(v) for k,v in x.items()}\n",
    "    return x\n",
    "\n",
    "def jsonIntVals(x):\n",
    "    if isinstance(x, dict):\n",
    "            return {str(k):int(v) for k,v in x.items()}\n",
    "    return x\n",
    "\n",
    "box_index = jsonIntVals( boxdata['box_indices'] )\n",
    "index_box = jsonIntKeys( boxdata['indices_box'] )\n",
    "port_index = jsonIntVals( boxdata['port_indices'] )\n",
    "index_port = jsonIntKeys( boxdata['indices_port'] )\n",
    "\n",
    "bbox = set([re.sub('[\\\"\\n]+', \"\", s) for s in box_index.keys()])"
   ]
  },
  {
   "cell_type": "code",
   "execution_count": 21,
   "metadata": {
    "collapsed": true
   },
   "outputs": [],
   "source": [
    "# set RNN input vector sizes:\n",
    "\n",
    "lg_duration = 7\n",
    "lg_packets = 22\n",
    "lg_bytes = 32\n",
    "nr_proto = 4\n",
    "nr_box = len(index_box)   # 10109\n",
    "nr_port = len(index_port) #   326"
   ]
  },
  {
   "cell_type": "markdown",
   "metadata": {},
   "source": [
    "# Import box embedding"
   ]
  },
  {
   "cell_type": "code",
   "execution_count": 15,
   "metadata": {
    "collapsed": false
   },
   "outputs": [],
   "source": [
    "# create dict from box name to 4-dimensional coords:\n",
    "\n",
    "infile = \"data/box_coords.csv\"\n",
    "\n",
    "fp = open(infile, 'r')\n",
    "boxcoords = {line[0]: [float(line[i]) for i in range(1,5)] for line in csv.reader(fp)}\n",
    "fp.close()"
   ]
  },
  {
   "cell_type": "code",
   "execution_count": 23,
   "metadata": {
    "collapsed": false
   },
   "outputs": [],
   "source": [
    "import numpy as np\n",
    "\n",
    "comp_embed = np.zeros([nr_box, 4])\n",
    "\n",
    "for b in boxcoords.keys():\n",
    "    comp_embed[box_index[b],:] = boxcoords[b]"
   ]
  },
  {
   "cell_type": "markdown",
   "metadata": {
    "collapsed": false
   },
   "source": [
    "# RNN architecture"
   ]
  },
  {
   "cell_type": "code",
   "execution_count": 31,
   "metadata": {
    "collapsed": false
   },
   "outputs": [
    {
     "name": "stdout",
     "output_type": "stream",
     "text": [
      "____________________________________________________________________________________________________\n",
      "Layer (type)                       Output Shape        Param #     Connected to                     \n",
      "====================================================================================================\n",
      "bytes (InputLayer)                 (None, 32)          0                                            \n",
      "____________________________________________________________________________________________________\n",
      "dst_pt (InputLayer)                (None, 32)          0                                            \n",
      "____________________________________________________________________________________________________\n",
      "duration (InputLayer)              (None, 32)          0                                            \n",
      "____________________________________________________________________________________________________\n",
      "packets (InputLayer)               (None, 32)          0                                            \n",
      "____________________________________________________________________________________________________\n",
      "proto (InputLayer)                 (None, 32)          0                                            \n",
      "____________________________________________________________________________________________________\n",
      "src_pt (InputLayer)                (None, 32)          0                                            \n",
      "____________________________________________________________________________________________________\n",
      "dst_input (InputLayer)             (None, 32)          0                                            \n",
      "____________________________________________________________________________________________________\n",
      "embedding_10 (Embedding)           (None, 32, 128)     41728       dst_pt[0][0]                     \n",
      "____________________________________________________________________________________________________\n",
      "embedding_11 (Embedding)           (None, 32, 2)       8           proto[0][0]                      \n",
      "____________________________________________________________________________________________________\n",
      "embedding_12 (Embedding)           (None, 32, 4)       28          duration[0][0]                   \n",
      "____________________________________________________________________________________________________\n",
      "embedding_13 (Embedding)           (None, 32, 8)       176         packets[0][0]                    \n",
      "____________________________________________________________________________________________________\n",
      "embedding_14 (Embedding)           (None, 32, 16)      512         bytes[0][0]                      \n",
      "____________________________________________________________________________________________________\n",
      "embedding_9 (Embedding)            (None, 32, 128)     41728       src_pt[0][0]                     \n",
      "____________________________________________________________________________________________________\n",
      "next_src (InputLayer)              (None, 32)          0                                            \n",
      "____________________________________________________________________________________________________\n",
      "src_input (InputLayer)             (None, 32)          0                                            \n",
      "____________________________________________________________________________________________________\n",
      "embedding_8 (Embedding)            (None, 32, 4)       40436       src_input[0][0]                  \n",
      "                                                                   dst_input[0][0]                  \n",
      "                                                                   next_src[0][0]                   \n",
      "____________________________________________________________________________________________________\n",
      "merge_3 (Merge)                    (None, 32, 286)     0           embedding_9[0][0]                \n",
      "                                                                   embedding_10[0][0]               \n",
      "                                                                   embedding_11[0][0]               \n",
      "                                                                   embedding_12[0][0]               \n",
      "                                                                   embedding_13[0][0]               \n",
      "                                                                   embedding_14[0][0]               \n",
      "____________________________________________________________________________________________________\n",
      "merge_4 (Merge)                    (None, 32, 298)     0           merge_3[0][0]                    \n",
      "                                                                   embedding_8[0][0]                \n",
      "                                                                   embedding_8[1][0]                \n",
      "                                                                   embedding_8[2][0]                \n",
      "____________________________________________________________________________________________________\n",
      "lstm_3 (LSTM)                      (None, 32, 512)     1660928     merge_4[0][0]                    \n",
      "____________________________________________________________________________________________________\n",
      "lstm_4 (LSTM)                      (None, 512)         2099200     lstm_3[0][0]                     \n",
      "____________________________________________________________________________________________________\n",
      "dropout_2 (Dropout)                (None, 512)         0           lstm_4[0][0]                     \n",
      "____________________________________________________________________________________________________\n",
      "bytes_output (Dense)               (None, 32)          16416       dropout_2[0][0]                  \n",
      "____________________________________________________________________________________________________\n",
      "dst_port_output (Dense)            (None, 326)         167238      dropout_2[0][0]                  \n",
      "____________________________________________________________________________________________________\n",
      "duration_output (Dense)            (None, 7)           3591        dropout_2[0][0]                  \n",
      "____________________________________________________________________________________________________\n",
      "next_dst (Dense)                   (None, 4)           2052        dropout_2[0][0]                  \n",
      "____________________________________________________________________________________________________\n",
      "packets_output (Dense)             (None, 22)          11286       dropout_2[0][0]                  \n",
      "____________________________________________________________________________________________________\n",
      "proto_output (Dense)               (None, 4)           2052        dropout_2[0][0]                  \n",
      "____________________________________________________________________________________________________\n",
      "src_port_output (Dense)            (None, 326)         167238      dropout_2[0][0]                  \n",
      "====================================================================================================\n",
      "Total params: 4254617\n",
      "____________________________________________________________________________________________________\n"
     ]
    }
   ],
   "source": [
    "import sys\n",
    "sys.setrecursionlimit(10000) # needed to prevent query-time bug...\n",
    "\n",
    "from keras.layers import Input, Embedding, LSTM, Dense, Dropout\n",
    "from keras.models import Model\n",
    "from keras.engine.topology import merge\n",
    "from keras.utils.visualize_util import plot\n",
    "\n",
    "# hyperparameters:\n",
    "nhidden = [512, 512]\n",
    "unroll = 32\n",
    "embed_dim = 4\n",
    "dropout_W = 0.2 # input gates\n",
    "dropout_U = 0.2 # recurrent connections\n",
    "\n",
    "# netflow inputs:\n",
    "src_input = Input(shape=(unroll,), dtype='int32', name='src_input')\n",
    "dst_input = Input(shape=(unroll,), dtype='int32', name='dst_input')\n",
    "src_pt_input = Input(shape=(unroll,), dtype='int32', name='src_pt')\n",
    "dst_pt_input = Input(shape=(unroll,), dtype='int32', name='dst_pt')\n",
    "proto_input = Input(shape=(unroll,), dtype='int32', name='proto')\n",
    "duration_input = Input(shape=(unroll,), dtype='int32', name='duration')\n",
    "packets_input = Input(shape=(unroll,), dtype='int32', name='packets')\n",
    "bytes_input = Input(shape=(unroll,), dtype='int32', name='bytes')\n",
    "\n",
    "# shared embedding for computer feeds:\n",
    "comp_encoding = Embedding(output_dim=embed_dim, input_dim=nr_box, input_length=unroll, weights=[comp_embed], trainable=False)\n",
    "src = comp_encoding(src_input)\n",
    "dst = comp_encoding(dst_input)\n",
    "\n",
    "# other embeddings:\n",
    "src_pt = Embedding(output_dim=128, input_dim=nr_port, input_length=unroll)(src_pt_input)\n",
    "dst_pt = Embedding(output_dim=128, input_dim=nr_port, input_length=unroll)(dst_pt_input)\n",
    "proto = Embedding(output_dim=2, input_dim=nr_proto, input_length=unroll)(proto_input)\n",
    "duration = Embedding(output_dim=4, input_dim=lg_duration, input_length=unroll)(duration_input)\n",
    "packets = Embedding(output_dim=8, input_dim=lg_packets, input_length=unroll)(packets_input)\n",
    "bytes = Embedding(output_dim=16, input_dim=lg_bytes, input_length=unroll)(bytes_input)\n",
    "\n",
    "# merge:\n",
    "data_merged = merge([src_pt, dst_pt, proto, duration, packets, bytes], mode='concat')\n",
    "\n",
    "# add src computer for next time-step, as a query stream to train on:\n",
    "next_src = Input(shape=(unroll,), dtype='int32', name='next_src')\n",
    "query = comp_encoding(next_src)\n",
    "\n",
    "# pass data and query to RNN layers:\n",
    "inner = merge([data_merged, src, dst, query], mode='concat')\n",
    "for i in range(len(nhidden)-1):\n",
    "    inner = LSTM(nhidden[i], return_sequences=True, dropout_U=dropout_U, dropout_W=dropout_W)(inner)\n",
    "inner = LSTM(nhidden[-1], return_sequences=False, dropout_U=dropout_U, dropout_W=dropout_W)(inner)\n",
    "inner = Dropout(dropout_W)(inner)\n",
    "\n",
    "# add softmax outputs:\n",
    "proto_output = Dense(4, activation='softmax', name='proto_output')(inner)\n",
    "duration_output = Dense(lg_duration, activation='softmax', name='duration_output')(inner)\n",
    "packets_output = Dense(lg_packets, activation='softmax', name='packets_output')(inner)\n",
    "bytes_output = Dense(lg_bytes, activation='softmax', name='bytes_output')(inner)\n",
    "src_port_output = Dense(nr_port, activation='softmax', name='src_port_output')(inner)\n",
    "dst_port_output = Dense(nr_port, activation='softmax', name='dst_port_output')(inner)\n",
    "\n",
    "# add dst computer output:\n",
    "next_dst = Dense(embed_dim, activation='relu', name='next_dst')(inner)\n",
    "\n",
    "# put it all together:\n",
    "model = Model(input=[src_input,\n",
    "                     dst_input,\n",
    "                     src_pt_input,\n",
    "                     dst_pt_input,\n",
    "                     proto_input,\n",
    "                     duration_input,\n",
    "                     packets_input, \n",
    "                     bytes_input,\n",
    "                     next_src], \n",
    "              output=[proto_output,\n",
    "                      duration_output,\n",
    "                      packets_output,\n",
    "                      bytes_output,\n",
    "                      src_port_output,\n",
    "                      dst_port_output,\n",
    "                      next_dst])\n",
    "model.compile(optimizer='rmsprop', \n",
    "              loss=['categorical_crossentropy' for i in range(6)] + ['mse'],\n",
    "              loss_weights=[0.5, 1., 1., 1., 2., 2., 4.])\n",
    "\n",
    "# ...and summarise:\n",
    "model.summary()\n",
    "plot(model, to_file='model.png')"
   ]
  },
  {
   "cell_type": "markdown",
   "metadata": {},
   "source": [
    "# Prepare training sequence"
   ]
  },
  {
   "cell_type": "code",
   "execution_count": 58,
   "metadata": {
    "collapsed": true
   },
   "outputs": [],
   "source": [
    "# inputs:\n",
    "\n",
    "import numpy as np\n",
    "\n",
    "# set nr training points:\n",
    "N = len(flowdata) - 1\n",
    "N = 1000\n",
    "\n",
    "train = np.array(flowdata[:N+1])\n",
    "\n",
    "def make_input_vectors(z, mx, unroll=unroll):\n",
    "    n = len(z)\n",
    "    X = np.zeros((n - unroll, unroll), dtype='int32')\n",
    "    for i in range(n - unroll):\n",
    "        X[i,:] = z[i: i + unroll]\n",
    "    return X\n",
    "\n",
    "src_in = make_input_vectors(train[range(N), 2], nr_box)\n",
    "dst_in = make_input_vectors(train[range(N), 4], nr_box)\n",
    "src_pt_in = make_input_vectors(train[range(N), 3], nr_port)\n",
    "dst_pt_in = make_input_vectors(train[range(N), 5], nr_port)\n",
    "proto_in = make_input_vectors(train[range(N), 6], nr_proto)\n",
    "duration_in = make_input_vectors(train[range(N), 1], lg_duration)\n",
    "packets_in = make_input_vectors(train[range(N), 7], lg_packets)\n",
    "bytes_in = make_input_vectors(train[range(N),8], lg_bytes)\n",
    "next_src_in = make_input_vectors(train[range(1,N+1),2], nr_box)\n",
    "\n",
    "input = [src_in, dst_in, src_pt_in, dst_pt_in, proto_in, duration_in, packets_in, bytes_in, next_src_in]"
   ]
  },
  {
   "cell_type": "code",
   "execution_count": 59,
   "metadata": {
    "collapsed": true
   },
   "outputs": [],
   "source": [
    "# targets:\n",
    "\n",
    "def make_onehot(x, n):\n",
    "    N = len(x)-unroll\n",
    "    out = np.zeros([N,n])\n",
    "    for i in range(1,N):\n",
    "        out[i, x[i]] = 1\n",
    "    return out\n",
    "\n",
    "proto_tgt = make_onehot(train[range(1,N+1), 6], nr_proto)\n",
    "duration_tgt = make_onehot(train[range(1,N+1), 1], lg_duration)\n",
    "packets_tgt = make_onehot(train[range(1,N+1), 7], lg_packets)\n",
    "bytes_tgt = make_onehot(train[range(1,N+1),8], lg_bytes)\n",
    "src_pt_tgt = make_onehot(train[range(1,N+1), 3], nr_port)\n",
    "dst_pt_tgt = make_onehot(train[range(1,N+1), 5], nr_port)\n",
    "\n",
    "def make_nextdst(x, cmp_code):\n",
    "    N = len(x)-unroll\n",
    "    out = np.zeros([N, embed_dim])\n",
    "    for i in range(N):\n",
    "        out[i,:] = cmp_code[x[i],:]\n",
    "    return out\n",
    "\n",
    "dst_tgt = make_nextdst(train[range(1,N+1), 4], comp_embed)\n",
    "target = [proto_tgt, duration_tgt, packets_tgt, bytes_tgt, src_pt_tgt, dst_pt_tgt, dst_tgt]"
   ]
  },
  {
   "cell_type": "markdown",
   "metadata": {},
   "source": [
    "# Testing the architecture (optional)"
   ]
  },
  {
   "cell_type": "code",
   "execution_count": 42,
   "metadata": {
    "collapsed": false
   },
   "outputs": [
    {
     "name": "stdout",
     "output_type": "stream",
     "text": [
      "[(68, 4), (68, 7), (68, 22), (68, 32), (68, 326), (68, 326), (68, 4)]\n",
      "[[  2.19199564e-02   8.41898501e-01   1.34521514e-01   1.66002382e-03]\n",
      " [  2.14816034e-02   8.51683855e-01   1.25184983e-01   1.64957228e-03]\n",
      " [  1.58133283e-02   8.52252007e-01   1.30265236e-01   1.66942494e-03]\n",
      " [  1.46434307e-02   8.24254453e-01   1.59528673e-01   1.57344039e-03]\n",
      " [  3.29837538e-02   9.19152975e-01   4.76046912e-02   2.58604705e-04]\n",
      " [  2.66646165e-02   9.46646631e-01   2.64343861e-02   2.54380633e-04]\n",
      " [  3.62941884e-02   9.34367657e-01   2.90191695e-02   3.19014420e-04]\n",
      " [  2.05556359e-02   8.14259052e-01   1.63295239e-01   1.89006177e-03]\n",
      " [  2.37861760e-02   8.25625598e-01   1.48486331e-01   2.10188935e-03]]\n"
     ]
    }
   ],
   "source": [
    "# theano:\n",
    "\n",
    "test = [x[:100] for x in input]\n",
    "output = model.predict(test)\n",
    "wts = model.get_weights()\n",
    "\n",
    "print([y.shape for y in output])\n",
    "print(output[0][1:10])"
   ]
  },
  {
   "cell_type": "code",
   "execution_count": 23,
   "metadata": {
    "collapsed": false
   },
   "outputs": [
    {
     "data": {
      "text/plain": [
       "[<tensorflow.python.framework.ops.Tensor at 0x12b2e2490>,\n",
       " <tensorflow.python.framework.ops.Tensor at 0x12b2d0910>,\n",
       " <tensorflow.python.framework.ops.Tensor at 0x12b2e2190>,\n",
       " <tensorflow.python.framework.ops.Tensor at 0x12b2c11d0>,\n",
       " <tensorflow.python.framework.ops.Tensor at 0x12b2e2ad0>,\n",
       " <tensorflow.python.framework.ops.Tensor at 0x12b2c1350>,\n",
       " <tensorflow.python.framework.ops.Tensor at 0x12b2d0850>]"
      ]
     },
     "execution_count": 23,
     "metadata": {},
     "output_type": "execute_result"
    }
   ],
   "source": [
    "# tensorflow:\n",
    "\n",
    "output = model(input)\n",
    "output"
   ]
  },
  {
   "cell_type": "code",
   "execution_count": 43,
   "metadata": {
    "collapsed": false
   },
   "outputs": [
    {
     "name": "stdout",
     "output_type": "stream",
     "text": [
      "(326, 128)\n",
      "(4, 2)\n",
      "(7, 4)\n",
      "(22, 8)\n",
      "(32, 16)\n",
      "(326, 128)\n",
      "(10109, 4)\n",
      "(298, 512)\n",
      "(512, 512)\n",
      "(512,)\n",
      "(298, 512)\n",
      "(512, 512)\n",
      "(512,)\n",
      "(298, 512)\n",
      "(512, 512)\n",
      "(512,)\n",
      "(298, 512)\n",
      "(512, 512)\n",
      "(512,)\n",
      "(512, 512)\n",
      "(512, 512)\n",
      "(512,)\n",
      "(512, 512)\n",
      "(512, 512)\n",
      "(512,)\n",
      "(512, 512)\n",
      "(512, 512)\n",
      "(512,)\n",
      "(512, 512)\n",
      "(512, 512)\n",
      "(512,)\n",
      "(512, 32)\n",
      "(32,)\n",
      "(512, 326)\n",
      "(326,)\n",
      "(512, 7)\n",
      "(7,)\n",
      "(512, 4)\n",
      "(4,)\n",
      "(512, 22)\n",
      "(22,)\n",
      "(512, 4)\n",
      "(4,)\n",
      "(512, 326)\n",
      "(326,)\n"
     ]
    }
   ],
   "source": [
    "# of particular interest is the shared computer encoding, which will also be needed in the loss function:\n",
    "wts = model.get_weights()\n",
    "for w in wts: print(w.shape)"
   ]
  },
  {
   "cell_type": "code",
   "execution_count": 54,
   "metadata": {
    "collapsed": false
   },
   "outputs": [
    {
     "name": "stdout",
     "output_type": "stream",
     "text": [
      "[  6.40943575  -0.33822641  49.54575729  39.56111526]\n",
      "[  6.4094359   -0.33822642  49.54575826  39.56111665]\n"
     ]
    }
   ],
   "source": [
    "# check the computer embedding:\n",
    "\n",
    "wts = model.get_weights()\n",
    "print(wts[6][0])\n",
    "print(comp_embed[0])"
   ]
  },
  {
   "cell_type": "markdown",
   "metadata": {},
   "source": [
    "# Training the model"
   ]
  },
  {
   "cell_type": "code",
   "execution_count": 60,
   "metadata": {
    "collapsed": false
   },
   "outputs": [],
   "source": [
    "# model fitting -- after each epoch, reset the target dst using the updated computer embedding matrix:\n",
    "# for 10^5 records, takes 50 mins/epoch\n",
    "\n",
    "#nr_epochs = 5\n",
    "\n",
    "#for i in range(nr_epochs):\n",
    "#    cmp_code = model.get_weights()[6]\n",
    "#    target[6] = make_nextdst(train[range(1,N+1), 4], cmp_code)\n",
    "#    model.fit(input, target, nb_epoch=1, verbose=1)"
   ]
  },
  {
   "cell_type": "code",
   "execution_count": 61,
   "metadata": {
    "collapsed": false
   },
   "outputs": [
    {
     "name": "stdout",
     "output_type": "stream",
     "text": [
      "Epoch 1/5\n",
      "968/968 [==============================] - 25s - loss: 2528.7871 - proto_output_loss: 0.6981 - duration_output_loss: 1.6187 - packets_output_loss: 1.7694 - bytes_output_loss: 2.4323 - src_port_output_loss: 1.5533 - dst_port_output_loss: 1.4473 - next_dst_loss: 629.1541    \n",
      "Epoch 2/5\n",
      "968/968 [==============================] - 26s - loss: 2508.8484 - proto_output_loss: 0.6906 - duration_output_loss: 1.5745 - packets_output_loss: 1.7365 - bytes_output_loss: 2.3709 - src_port_output_loss: 1.4319 - dst_port_output_loss: 1.3781 - next_dst_loss: 624.3003    \n",
      "Epoch 3/5\n",
      "968/968 [==============================] - 26s - loss: 2498.0047 - proto_output_loss: 0.6638 - duration_output_loss: 1.5705 - packets_output_loss: 1.7405 - bytes_output_loss: 2.3517 - src_port_output_loss: 1.4060 - dst_port_output_loss: 1.3511 - next_dst_loss: 621.6240    \n",
      "Epoch 4/5\n",
      "968/968 [==============================] - 25s - loss: 2475.5485 - proto_output_loss: 0.6827 - duration_output_loss: 1.5754 - packets_output_loss: 1.7021 - bytes_output_loss: 2.3199 - src_port_output_loss: 1.3682 - dst_port_output_loss: 1.3406 - next_dst_loss: 616.0481    \n",
      "Epoch 5/5\n",
      "968/968 [==============================] - 24s - loss: 2425.2155 - proto_output_loss: 0.6682 - duration_output_loss: 1.5690 - packets_output_loss: 1.7334 - bytes_output_loss: 2.3585 - src_port_output_loss: 1.3776 - dst_port_output_loss: 1.3025 - next_dst_loss: 603.4651    \n"
     ]
    },
    {
     "data": {
      "text/plain": [
       "<keras.callbacks.History at 0x158654ed0>"
      ]
     },
     "execution_count": 61,
     "metadata": {},
     "output_type": "execute_result"
    }
   ],
   "source": [
    "nr_epochs = 5\n",
    "\n",
    "model.fit(input, target, nb_epoch=nr_epochs, verbose=1)"
   ]
  },
  {
   "cell_type": "code",
   "execution_count": null,
   "metadata": {
    "collapsed": true
   },
   "outputs": [],
   "source": []
  }
 ],
 "metadata": {
  "kernelspec": {
   "display_name": "Python 2",
   "language": "python",
   "name": "python2"
  },
  "language_info": {
   "codemirror_mode": {
    "name": "ipython",
    "version": 2
   },
   "file_extension": ".py",
   "mimetype": "text/x-python",
   "name": "python",
   "nbconvert_exporter": "python",
   "pygments_lexer": "ipython2",
   "version": "2.7.11"
  }
 },
 "nbformat": 4,
 "nbformat_minor": 0
}
