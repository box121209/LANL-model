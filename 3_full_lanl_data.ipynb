{
 "cells": [
  {
   "cell_type": "code",
   "execution_count": 30,
   "metadata": {
    "collapsed": true
   },
   "outputs": [],
   "source": [
    "# the full netflow set:\n",
    "\n",
    "path = \"/Users/wmoxbury/data/LANL/\"\n",
    "\n",
    "authfile = path + \"auth.txt.bz2\"\n",
    "procfile = path + \"proc.txt.bz2\"\n",
    "dnsfile = path + \"dns.txt.bz2\"\n",
    "flowfile = path + \"flows.txt.bz2\"\n",
    "redfile = path + \"redteam.txt.bz2\""
   ]
  },
  {
   "cell_type": "code",
   "execution_count": 32,
   "metadata": {
    "collapsed": false
   },
   "outputs": [
    {
     "data": {
      "text/plain": [
       "[u'1,C1$@DOM1,C1,P16,Start',\n",
       " u'1,C1001$@DOM1,C1001,P4,Start',\n",
       " u'1,C1002$@DOM1,C1002,P4,Start',\n",
       " u'1,C1004$@DOM1,C1004,P4,Start',\n",
       " u'1,C1017$@DOM1,C1017,P4,Start',\n",
       " u'1,C1018$@DOM1,C1018,P4,Start',\n",
       " u'1,C1020$@DOM1,C1020,P3,Start',\n",
       " u'1,C1020$@DOM1,C1020,P4,Start',\n",
       " u'1,C1028$@DOM1,C1028,P16,End',\n",
       " u'1,C1029$@DOM1,C1029,P4,Start']"
      ]
     },
     "execution_count": 32,
     "metadata": {},
     "output_type": "execute_result"
    }
   ],
   "source": [
    "#auth = sc.textFile(authfile).map(lambda line: [str(x) for x in line.split(',')])\n",
    "\n",
    "proc = sc.textFile(procfile)\n",
    "proc.take(10)"
   ]
  },
  {
   "cell_type": "code",
   "execution_count": null,
   "metadata": {
    "collapsed": true
   },
   "outputs": [],
   "source": []
  },
  {
   "cell_type": "code",
   "execution_count": null,
   "metadata": {
    "collapsed": true
   },
   "outputs": [],
   "source": []
  },
  {
   "cell_type": "code",
   "execution_count": null,
   "metadata": {
    "collapsed": true
   },
   "outputs": [],
   "source": []
  },
  {
   "cell_type": "code",
   "execution_count": null,
   "metadata": {
    "collapsed": true
   },
   "outputs": [],
   "source": []
  }
 ],
 "metadata": {
  "kernelspec": {
   "display_name": "pySpark",
   "language": "python",
   "name": "pyspark"
  },
  "language_info": {
   "codemirror_mode": {
    "name": "ipython",
    "version": 2
   },
   "file_extension": ".py",
   "mimetype": "text/x-python",
   "name": "python",
   "nbconvert_exporter": "python",
   "pygments_lexer": "ipython2",
   "version": "2.7.11"
  }
 },
 "nbformat": 4,
 "nbformat_minor": 0
}
