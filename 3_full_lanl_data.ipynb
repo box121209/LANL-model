{
 "cells": [
  {
   "cell_type": "code",
   "execution_count": 31,
   "metadata": {
    "collapsed": false
   },
   "outputs": [],
   "source": [
    "# the full netflow set:\n",
    "\n",
    "#authfile = path + \"auth.txt.bz2\"\n",
    "#procfile = path + \"proc.txt.bz2\"\n",
    "#redfile = path + \"redteam.txt.bz2\"\n",
    "\n",
    "dnsfile = \"dns.txt\"\n",
    "flowfile = \"flows.txt\""
   ]
  },
  {
   "cell_type": "code",
   "execution_count": 33,
   "metadata": {
    "collapsed": false
   },
   "outputs": [
    {
     "data": {
      "text/plain": [
       "[[1, 0, 'C1065', '389', 'C3799', 'N10451', 6, 10, 5323],\n",
       " [1, 0, 'C1423', 'N1136', 'C1707', 'N1', 6, 5, 847],\n",
       " [1, 0, 'C1423', 'N1142', 'C1707', 'N1', 6, 5, 847],\n",
       " [1, 0, 'C14909', 'N8191', 'C5720', '2049', 6, 1, 52],\n",
       " [1, 0, 'C14909', 'N8192', 'C5720', '2049', 6, 1, 52],\n",
       " [1, 0, 'C14909', 'N8193', 'C5720', '2049', 6, 1, 52],\n",
       " [1, 0, 'C1707', 'N1', 'C1423', 'N1136', 6, 4, 414],\n",
       " [1, 0, 'C1707', 'N1', 'C1423', 'N1142', 6, 4, 413],\n",
       " [1, 0, 'C1707', 'N1', 'C925', 'N10487', 6, 4, 414],\n",
       " [1, 0, 'C1707', 'N1', 'C925', 'N10491', 6, 4, 413]]"
      ]
     },
     "execution_count": 33,
     "metadata": {},
     "output_type": "execute_result"
    }
   ],
   "source": [
    "def parser(x): return  [int(x[0]), int(x[1])] \\\n",
    "                + [str(x[i]) for i in range(2,6)] \\\n",
    "                + [int(x[i]) for i in range(6,9)]\n",
    "flows = sc.textFile(flowfile)\\\n",
    "    .map(lambda line: parser(line.split(',')))\n",
    "flows.take(10)"
   ]
  },
  {
   "cell_type": "code",
   "execution_count": 28,
   "metadata": {
    "collapsed": false
   },
   "outputs": [
    {
     "name": "stdout",
     "output_type": "stream",
     "text": [
      "36\n"
     ]
    }
   ],
   "source": [
    "# what time range is covered?\n",
    "\n",
    "flow_period = flows.map(lambda x: x[0]).max()\n",
    "print(flow_period/3600/24)"
   ]
  },
  {
   "cell_type": "code",
   "execution_count": 35,
   "metadata": {
    "collapsed": false
   },
   "outputs": [
    {
     "data": {
      "text/plain": [
       "[[2, 'C4653', 'C5030'],\n",
       " [2, 'C5782', 'C16712'],\n",
       " [6, 'C1191', 'C419'],\n",
       " [15, 'C3380', 'C22841'],\n",
       " [18, 'C2436', 'C5030'],\n",
       " [31, 'C161', 'C2109'],\n",
       " [35, 'C5642', 'C528'],\n",
       " [38, 'C3380', 'C22841'],\n",
       " [42, 'C2428', 'C1065'],\n",
       " [42, 'C2428', 'C2109']]"
      ]
     },
     "execution_count": 35,
     "metadata": {},
     "output_type": "execute_result"
    }
   ],
   "source": [
    "def parser(x): return [int(x[0])] \\\n",
    "               + [str(x[i]) for i in range(1,len(x))]\n",
    "dns = sc.textFile(dnsfile)\\\n",
    "    .map(lambda line: parser(line.split(',')))\n",
    "dns.take(10)"
   ]
  },
  {
   "cell_type": "code",
   "execution_count": 20,
   "metadata": {
    "collapsed": false
   },
   "outputs": [
    {
     "name": "stdout",
     "output_type": "stream",
     "text": [
      "57\n"
     ]
    }
   ],
   "source": [
    "# time range:\n",
    "\n",
    "time_span = dns.map(lambda x: x[0]).max()\n",
    "print(time_span/3600/24)"
   ]
  },
  {
   "cell_type": "code",
   "execution_count": 36,
   "metadata": {
    "collapsed": false
   },
   "outputs": [
    {
     "name": "stdout",
     "output_type": "stream",
     "text": [
      "15013\n",
      "13927\n"
     ]
    }
   ],
   "source": [
    "max_time = flow_period\n",
    "src_count = dns.map(lambda x: x[1]).countByValue()\n",
    "src_count_bdd = dns.filter(lambda x: x[0] <= max_time).map(lambda x: x[1]).countByValue()\n",
    "\n",
    "# how many sources?\n",
    "print(len(src_count.keys()))\n",
    "print(len(src_count_bdd.keys()))"
   ]
  },
  {
   "cell_type": "code",
   "execution_count": 37,
   "metadata": {
    "collapsed": false
   },
   "outputs": [
    {
     "name": "stdout",
     "output_type": "stream",
     "text": [
      "13776\n",
      "13316\n"
     ]
    }
   ],
   "source": [
    "max_time = flow_period\n",
    "dst_count = dns.map(lambda x: x[2]).countByValue()\n",
    "dst_count_bdd = dns.filter(lambda x: x[0] <= max_time).map(lambda x: x[2]).countByValue()\n",
    "\n",
    "# how many destinations?\n",
    "print(len(dst_count.keys()))\n",
    "print(len(dst_count_bdd.keys()))"
   ]
  },
  {
   "cell_type": "markdown",
   "metadata": {
    "collapsed": true
   },
   "source": [
    "These results are surprising. The total number of computers seen in the netflow data set is 12027, and we are seeing many more than that in the DNS queries. One might expect that this is because the period covered by the DNS data is longer (57 days, compared with only 36 days for the netflow). However, this appears not to be the case. Is there a large amount of data missing from the netflow set? "
   ]
  },
  {
   "cell_type": "code",
   "execution_count": null,
   "metadata": {
    "collapsed": true
   },
   "outputs": [],
   "source": []
  },
  {
   "cell_type": "code",
   "execution_count": null,
   "metadata": {
    "collapsed": true
   },
   "outputs": [],
   "source": []
  },
  {
   "cell_type": "code",
   "execution_count": null,
   "metadata": {
    "collapsed": true
   },
   "outputs": [],
   "source": []
  }
 ],
 "metadata": {
  "kernelspec": {
   "display_name": "pySpark",
   "language": "python",
   "name": "pyspark"
  },
  "language_info": {
   "codemirror_mode": {
    "name": "ipython",
    "version": 2
   },
   "file_extension": ".py",
   "mimetype": "text/x-python",
   "name": "python",
   "nbconvert_exporter": "python",
   "pygments_lexer": "ipython2",
   "version": "2.7.11"
  }
 },
 "nbformat": 4,
 "nbformat_minor": 0
}
