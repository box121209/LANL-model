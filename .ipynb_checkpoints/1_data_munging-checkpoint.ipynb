{
 "cells": [
  {
   "cell_type": "markdown",
   "metadata": {
    "collapsed": true
   },
   "source": [
    "# Munging the LANL netflow set in PySpark"
   ]
  },
  {
   "cell_type": "code",
   "execution_count": 1,
   "metadata": {
    "collapsed": false
   },
   "outputs": [
    {
     "data": {
      "text/plain": [
       "[['1', '0', 'C1065', '389', 'C3799', 'N10451', '6', '10', '5323'],\n",
       " ['1', '0', 'C1423', 'N1136', 'C1707', 'N1', '6', '5', '847'],\n",
       " ['1', '0', 'C1423', 'N1142', 'C1707', 'N1', '6', '5', '847'],\n",
       " ['1', '0', 'C14909', 'N8191', 'C5720', '2049', '6', '1', '52'],\n",
       " ['1', '0', 'C14909', 'N8192', 'C5720', '2049', '6', '1', '52'],\n",
       " ['1', '0', 'C14909', 'N8193', 'C5720', '2049', '6', '1', '52'],\n",
       " ['1', '0', 'C1707', 'N1', 'C1423', 'N1136', '6', '4', '414'],\n",
       " ['1', '0', 'C1707', 'N1', 'C1423', 'N1142', '6', '4', '413'],\n",
       " ['1', '0', 'C1707', 'N1', 'C925', 'N10487', '6', '4', '414'],\n",
       " ['1', '0', 'C1707', 'N1', 'C925', 'N10491', '6', '4', '413']]"
      ]
     },
     "execution_count": 1,
     "metadata": {},
     "output_type": "execute_result"
    }
   ],
   "source": [
    "# the full netflow set:\n",
    "\n",
    "path = \"~/data/LANL/\"\n",
    "\n",
    "flowfile = path + \"flows.csv\"\n",
    "\n",
    "flows = sc.textFile(flowfile).map(lambda line: [str(x) for x in line.split(',')])\n",
    "flows.take(10)"
   ]
  },
  {
   "cell_type": "code",
   "execution_count": null,
   "metadata": {
    "collapsed": true
   },
   "outputs": [],
   "source": [
    "# how many flows?\n",
    "\n",
    "flows.count()\n",
    "\n",
    "# 129,977,412"
   ]
  },
  {
   "cell_type": "code",
   "execution_count": 2,
   "metadata": {
    "collapsed": false
   },
   "outputs": [
    {
     "data": {
      "text/plain": [
       "10109"
      ]
     },
     "execution_count": 2,
     "metadata": {},
     "output_type": "execute_result"
    }
   ],
   "source": [
    "# restrict to the busiest boxes (listed on file):\n",
    "\n",
    "import re\n",
    "\n",
    "bfile = open(path + \"bbox.txt\")\n",
    "bbox = set([re.sub('[\\\"\\n]+', \"\", s) for s in bfile.readlines()])\n",
    "\n",
    "# index for later use:\n",
    "box_indices = dict((c, i) for i, c in enumerate(bbox))\n",
    "indices_box = dict((i, c) for i, c in enumerate(bbox))\n",
    "\n",
    "# how many distinct?\n",
    "len(bbox)"
   ]
  },
  {
   "cell_type": "code",
   "execution_count": 3,
   "metadata": {
    "collapsed": true
   },
   "outputs": [],
   "source": [
    "# define the flow set we're interested in:\n",
    "\n",
    "def f(x):\n",
    "    return [int(x[0]), int(x[1]), x[2], x[3], x[4], x[5], int(x[6]), int(x[7]), int(x[8])]\n",
    "\n",
    "subflows = flows.filter(lambda f: f[2] in bbox and f[4] in bbox).map(f)"
   ]
  },
  {
   "cell_type": "code",
   "execution_count": 76,
   "metadata": {
    "collapsed": false
   },
   "outputs": [
    {
     "data": {
      "text/plain": [
       "129925366"
      ]
     },
     "execution_count": 76,
     "metadata": {},
     "output_type": "execute_result"
    }
   ],
   "source": [
    "# how many flows in the subset?\n",
    "\n",
    "subflows.count()\n",
    "\n",
    "# should be 129,925,366"
   ]
  },
  {
   "cell_type": "code",
   "execution_count": 98,
   "metadata": {
    "collapsed": false
   },
   "outputs": [
    {
     "data": {
      "text/plain": [
       "PythonRDD[47] at RDD at PythonRDD.scala:43"
      ]
     },
     "execution_count": 98,
     "metadata": {},
     "output_type": "execute_result"
    }
   ],
   "source": [
    "# the integer features for suitable binning:\n",
    "\n",
    "duration = subflows.map(lambda x: x[1])\n",
    "packets = subflows.map(lambda x: x[7])\n",
    "bytes = subflows.map(lambda x: x[8])\n",
    "\n",
    "duration.cache()\n",
    "packets.cache()\n",
    "bytes.cache()"
   ]
  },
  {
   "cell_type": "markdown",
   "metadata": {},
   "source": [
    "# Duration"
   ]
  },
  {
   "cell_type": "code",
   "execution_count": 5,
   "metadata": {
    "collapsed": false
   },
   "outputs": [
    {
     "name": "stdout",
     "output_type": "stream",
     "text": [
      "Duration range: 0 , 76\n"
     ]
    }
   ],
   "source": [
    "from __future__ import print_function\n",
    "\n",
    "duration_min = duration.min()\n",
    "duration_max = duration.max()\n",
    "\n",
    "print(\"Duration range:\", duration_min, \",\", duration_max)"
   ]
  },
  {
   "cell_type": "code",
   "execution_count": 139,
   "metadata": {
    "collapsed": true
   },
   "outputs": [],
   "source": [
    "# define the log-binning function for use below:\n",
    "\n",
    "from math import floor, pow\n",
    "\n",
    "def bin_fn(x, mn, mx, alpha, nbins):\n",
    "    if alpha>1:\n",
    "        y_mn = pow(mx+1, 1 - alpha)\n",
    "        y_mx = pow(mn, 1 - alpha)\n",
    "    else:\n",
    "        y_mx = pow(mx+1, 1 - alpha)\n",
    "        y_mn = pow(mn, 1 - alpha)\n",
    "    blen = (y_mx - y_mn)/float(nbins)\n",
    "    y = pow(x, 1 - alpha)\n",
    "    return floor((y - y_mn)/blen)"
   ]
  },
  {
   "cell_type": "code",
   "execution_count": 24,
   "metadata": {
    "collapsed": false
   },
   "outputs": [],
   "source": [
    "duration_coef = 1.5\n",
    "nbins = 20\n",
    "\n",
    "duration_lbin = duration.map(lambda x: bin_fn(x+1, duration_min+1, duration_max+1, duration_coef, nbins))\n",
    "duration_hist = duration_lbin.countByValue()"
   ]
  },
  {
   "cell_type": "code",
   "execution_count": 26,
   "metadata": {
    "collapsed": false
   },
   "outputs": [
    {
     "data": {
      "image/png": "[encoded data removed]",
      "text/plain": [
       "<matplotlib.figure.Figure at 0x10af61590>"
      ]
     },
     "metadata": {},
     "output_type": "display_data"
    }
   ],
   "source": [
    "%matplotlib inline\n",
    "import matplotlib.pyplot as plt\n",
    "\n",
    "plt.semilogy(duration_hist.keys(), duration_hist.values())\n",
    "plt.stem(duration_hist.keys(), duration_hist.values())\n",
    "plt.axis([-1,21,1e05,2e08])\n",
    "plt.show()"
   ]
  },
  {
   "cell_type": "code",
   "execution_count": 27,
   "metadata": {
    "collapsed": false
   },
   "outputs": [
    {
     "data": {
      "text/plain": [
       "PythonRDD[3] at RDD at PythonRDD.scala:43"
      ]
     },
     "execution_count": 27,
     "metadata": {},
     "output_type": "execute_result"
    }
   ],
   "source": [
    "# free up cached memory:\n",
    "\n",
    "duration.unpersist()"
   ]
  },
  {
   "cell_type": "markdown",
   "metadata": {},
   "source": [
    "# Packets"
   ]
  },
  {
   "cell_type": "code",
   "execution_count": 28,
   "metadata": {
    "collapsed": false
   },
   "outputs": [
    {
     "name": "stdout",
     "output_type": "stream",
     "text": [
      "Packets range: 1 , 2471188\n"
     ]
    }
   ],
   "source": [
    "from __future__ import print_function\n",
    "\n",
    "packets_min = packets.min()\n",
    "packets_max = packets.max()\n",
    "\n",
    "print(\"Packets range:\", packets_min, \",\", packets_max)"
   ]
  },
  {
   "cell_type": "markdown",
   "metadata": {},
   "source": [
    "Fit the power law distribution:"
   ]
  },
  {
   "cell_type": "code",
   "execution_count": 147,
   "metadata": {
    "collapsed": true
   },
   "outputs": [],
   "source": [
    "from math import floor, log\n",
    "\n",
    "packets_freq = packets.map(lambda x: floor(log(x, 2))).countByValue()"
   ]
  },
  {
   "cell_type": "code",
   "execution_count": 208,
   "metadata": {
    "collapsed": false
   },
   "outputs": [
    {
     "data": {
      "image/png": "[encoded data removed]",
      "text/plain": [
       "<matplotlib.figure.Figure at 0x10aeb2110>"
      ]
     },
     "metadata": {},
     "output_type": "display_data"
    }
   ],
   "source": [
    "from math import pow\n",
    "\n",
    "plt.semilogy(packets_freq.keys(), packets_freq.values())\n",
    "plt.stem(packets_freq.keys(), packets_freq.values())\n",
    "\n",
    "packets_coef = 0.75\n",
    "x = range(24)\n",
    "y = [5*pow(2,(32-t)*packets_coef) for t in x]\n",
    "plt.plot(x,y, c='r')\n",
    "\n",
    "plt.axis([-1,24,1e02,1e08])\n",
    "plt.show()"
   ]
  },
  {
   "cell_type": "markdown",
   "metadata": {},
   "source": [
    "Now apply this coefficient to the binning procedure:"
   ]
  },
  {
   "cell_type": "code",
   "execution_count": 199,
   "metadata": {
    "collapsed": true
   },
   "outputs": [],
   "source": [
    "from math import floor, pow\n",
    "\n",
    "packets_coef = 0.2\n",
    "alpha = 1 + abs(1 - packets_coef)\n",
    "nbins = 32\n",
    "\n",
    "packets_lbin = packets.map(lambda x: bin_fn(x, packets_min, packets_max, alpha, nbins))\n",
    "packets_hist = packets_lbin.countByValue()"
   ]
  },
  {
   "cell_type": "code",
   "execution_count": 204,
   "metadata": {
    "collapsed": false
   },
   "outputs": [
    {
     "data": {
      "image/png": "[encoded data removed]",
      "text/plain": [
       "<matplotlib.figure.Figure at 0x10ccf0990>"
      ]
     },
     "metadata": {},
     "output_type": "display_data"
    }
   ],
   "source": [
    "%matplotlib inline\n",
    "import matplotlib.pyplot as plt\n",
    "\n",
    "k = sorted(packets_hist)\n",
    "v = [packets_hist[x] for x in k]\n",
    "plt.semilogy(k,v)\n",
    "plt.stem(k,v)\n",
    "\n",
    "plt.axis([-1,33,1e06,1e08])\n",
    "plt.show()"
   ]
  },
  {
   "cell_type": "code",
   "execution_count": 209,
   "metadata": {
    "collapsed": false
   },
   "outputs": [
    {
     "data": {
      "text/plain": [
       "PythonRDD[46] at RDD at PythonRDD.scala:43"
      ]
     },
     "execution_count": 209,
     "metadata": {},
     "output_type": "execute_result"
    }
   ],
   "source": [
    "# free up cached memory:\n",
    "\n",
    "packets.unpersist()"
   ]
  },
  {
   "cell_type": "markdown",
   "metadata": {},
   "source": [
    "# Bytes"
   ]
  },
  {
   "cell_type": "code",
   "execution_count": 77,
   "metadata": {
    "collapsed": false
   },
   "outputs": [
    {
     "name": "stdout",
     "output_type": "stream",
     "text": [
      "Bytes range: 46 , 2681847376\n"
     ]
    }
   ],
   "source": [
    "from __future__ import print_function\n",
    "\n",
    "bytes_min = bytes.min()\n",
    "bytes_max = bytes.max()\n",
    "\n",
    "print(\"Bytes range:\", bytes_min, \",\", bytes_max)"
   ]
  },
  {
   "cell_type": "markdown",
   "metadata": {},
   "source": [
    "Let's take a look at the power law distribution:"
   ]
  },
  {
   "cell_type": "code",
   "execution_count": 101,
   "metadata": {
    "collapsed": true
   },
   "outputs": [],
   "source": [
    "from math import floor, log\n",
    "\n",
    "bytes_freq = bytes.map(lambda x: floor(log(x, 2))).countByValue()"
   ]
  },
  {
   "cell_type": "code",
   "execution_count": 127,
   "metadata": {
    "collapsed": false
   },
   "outputs": [
    {
     "data": {
      "image/png": "[encoded data removed]",
      "text/plain": [
       "<matplotlib.figure.Figure at 0x10a9e4cd0>"
      ]
     },
     "metadata": {},
     "output_type": "display_data"
    }
   ],
   "source": [
    "from math import pow\n",
    "\n",
    "plt.semilogy(bytes_freq.keys(), bytes_freq.values())\n",
    "plt.stem(bytes_freq.keys(), bytes_freq.values())\n",
    "\n",
    "bytes_coef = 0.65\n",
    "x = range(4,32)\n",
    "y = [5e02 * pow(2,(32-t)*bytes_coef) for t in x]\n",
    "plt.plot(x,y, c='r')\n",
    "\n",
    "plt.axis([4,33,1e02,1e08])\n",
    "plt.show()"
   ]
  },
  {
   "cell_type": "markdown",
   "metadata": {},
   "source": [
    "Now apply this coefficient to the binning procedure:"
   ]
  },
  {
   "cell_type": "code",
   "execution_count": 142,
   "metadata": {
    "collapsed": false
   },
   "outputs": [],
   "source": [
    "from numpy import abs\n",
    "\n",
    "alpha = 1 + abs(1 - bytes_coef)\n",
    "nbins = 32\n",
    "\n",
    "bytes_lbin = bytes.map(lambda x: bin_fn(x, bytes_min, bytes_max, alpha, nbins))\n",
    "bytes_hist = bytes_lbin.countByValue()"
   ]
  },
  {
   "cell_type": "code",
   "execution_count": 144,
   "metadata": {
    "collapsed": false
   },
   "outputs": [
    {
     "data": {
      "image/png": "[encoded data removed]",
      "text/plain": [
       "<matplotlib.figure.Figure at 0x10a43e390>"
      ]
     },
     "metadata": {},
     "output_type": "display_data"
    }
   ],
   "source": [
    "plt.semilogy(bytes_hist.keys(), bytes_hist.values())\n",
    "plt.stem(bytes_hist.keys(), bytes_hist.values())\n",
    "plt.axis([-1,33,1e04,1e08])\n",
    "plt.show()"
   ]
  },
  {
   "cell_type": "code",
   "execution_count": 145,
   "metadata": {
    "collapsed": false
   },
   "outputs": [
    {
     "data": {
      "text/plain": [
       "PythonRDD[47] at RDD at PythonRDD.scala:43"
      ]
     },
     "execution_count": 145,
     "metadata": {},
     "output_type": "execute_result"
    }
   ],
   "source": [
    "# free up cached memory:\n",
    "bytes.unpersist()"
   ]
  },
  {
   "cell_type": "markdown",
   "metadata": {},
   "source": [
    "# Protocol and ports"
   ]
  },
  {
   "cell_type": "code",
   "execution_count": 59,
   "metadata": {
    "collapsed": false
   },
   "outputs": [
    {
     "data": {
      "text/plain": [
       "defaultdict(int, {1: 3316583, 6: 116505060, 17: 10103232, 41: 491})"
      ]
     },
     "execution_count": 59,
     "metadata": {},
     "output_type": "execute_result"
    }
   ],
   "source": [
    "protocol = subflows.map(lambda x: x[6])\n",
    "protocol.countByValue()"
   ]
  },
  {
   "cell_type": "code",
   "execution_count": 12,
   "metadata": {
    "collapsed": false
   },
   "outputs": [
    {
     "data": {
      "text/plain": [
       "defaultdict(int,\n",
       "            {1: 2378,\n",
       "             7: 872,\n",
       "             9: 841,\n",
       "             11: 408,\n",
       "             13: 870,\n",
       "             15: 390,\n",
       "             17: 876,\n",
       "             18: 384,\n",
       "             19: 876,\n",
       "             20: 1424,\n",
       "             21: 1022,\n",
       "             22: 262264,\n",
       "             23: 1005,\n",
       "             25: 1281,\n",
       "             37: 868,\n",
       "             42: 871,\n",
       "             43: 872,\n",
       "             49: 874,\n",
       "             50: 396,\n",
       "             53: 6406,\n",
       "             57: 407,\n",
       "             65: 405,\n",
       "             67: 398,\n",
       "             68: 811,\n",
       "             69: 4,\n",
       "             70: 856,\n",
       "             77: 417,\n",
       "             79: 912,\n",
       "             80: 3957306,\n",
       "             87: 391,\n",
       "             88: 2989193,\n",
       "             95: 403,\n",
       "             98: 386,\n",
       "             101: 374,\n",
       "             102: 398,\n",
       "             104: 402,\n",
       "             105: 399,\n",
       "             106: 867,\n",
       "             107: 389,\n",
       "             109: 872,\n",
       "             110: 1051,\n",
       "             111: 233278,\n",
       "             113: 993,\n",
       "             115: 395,\n",
       "             117: 395,\n",
       "             119: 852,\n",
       "             123: 361276,\n",
       "             129: 395,\n",
       "             135: 1469527,\n",
       "             137: 2547828,\n",
       "             138: 365432,\n",
       "             139: 1834388,\n",
       "             143: 948,\n",
       "             161: 1386,\n",
       "             162: 389,\n",
       "             163: 859,\n",
       "             164: 400,\n",
       "             174: 386,\n",
       "             177: 400,\n",
       "             178: 401,\n",
       "             179: 867,\n",
       "             191: 385,\n",
       "             194: 385,\n",
       "             199: 871,\n",
       "             201: 399,\n",
       "             202: 379,\n",
       "             204: 415,\n",
       "             206: 420,\n",
       "             209: 405,\n",
       "             210: 395,\n",
       "             213: 400,\n",
       "             220: 385,\n",
       "             345: 395,\n",
       "             346: 395,\n",
       "             347: 405,\n",
       "             369: 384,\n",
       "             370: 401,\n",
       "             371: 404,\n",
       "             372: 394,\n",
       "             389: 5169001,\n",
       "             406: 861,\n",
       "             427: 27810,\n",
       "             443: 967708,\n",
       "             444: 868,\n",
       "             445: 15590021,\n",
       "             464: 1170,\n",
       "             465: 872,\n",
       "             487: 391,\n",
       "             500: 2698,\n",
       "             512: 894,\n",
       "             513: 861,\n",
       "             514: 908,\n",
       "             515: 1039,\n",
       "             520: 403,\n",
       "             526: 394,\n",
       "             530: 398,\n",
       "             531: 398,\n",
       "             532: 402,\n",
       "             538: 394,\n",
       "             540: 410,\n",
       "             543: 869,\n",
       "             544: 862,\n",
       "             546: 405,\n",
       "             547: 397,\n",
       "             548: 2413,\n",
       "             549: 411,\n",
       "             554: 1096,\n",
       "             556: 398,\n",
       "             563: 861,\n",
       "             587: 872,\n",
       "             607: 507,\n",
       "             610: 505,\n",
       "             611: 529,\n",
       "             612: 509,\n",
       "             628: 505,\n",
       "             631: 924,\n",
       "             636: 973,\n",
       "             655: 560,\n",
       "             706: 6250,\n",
       "             749: 6661,\n",
       "             750: 985,\n",
       "             751: 973,\n",
       "             752: 63,\n",
       "             754: 653,\n",
       "             760: 775,\n",
       "             765: 1149,\n",
       "             775: 711,\n",
       "             777: 1225,\n",
       "             779: 237,\n",
       "             783: 1061,\n",
       "             808: 1311,\n",
       "             871: 618,\n",
       "             873: 1199,\n",
       "             901: 1060,\n",
       "             989: 826,\n",
       "             990: 1198,\n",
       "             992: 1339,\n",
       "             993: 1259,\n",
       "             994: 729,\n",
       "             995: 1528,\n",
       "             1001: 1844,\n",
       "             1080: 5091,\n",
       "             1093: 4730,\n",
       "             1094: 15744,\n",
       "             1099: 4820,\n",
       "             1109: 8549,\n",
       "             1127: 10640,\n",
       "             1178: 10384,\n",
       "             1194: 5118,\n",
       "             1210: 254,\n",
       "             1214: 15961,\n",
       "             1236: 5119,\n",
       "             1241: 41267,\n",
       "             1300: 9536,\n",
       "             1313: 4133,\n",
       "             1314: 4180,\n",
       "             1352: 5610,\n",
       "             1433: 741875,\n",
       "             1434: 7122,\n",
       "             1524: 4349,\n",
       "             1525: 7893,\n",
       "             1529: 5243,\n",
       "             1645: 3828,\n",
       "             1646: 4921,\n",
       "             1649: 4296,\n",
       "             1677: 4198,\n",
       "             1701: 4692,\n",
       "             1812: 4738,\n",
       "             1813: 4950,\n",
       "             1863: 4602,\n",
       "             1957: 3670,\n",
       "             1958: 3492,\n",
       "             1959: 3480,\n",
       "             2000: 6696,\n",
       "             2003: 3772,\n",
       "             2010: 4970,\n",
       "             2049: 373143,\n",
       "             2053: 3381,\n",
       "             2086: 10673,\n",
       "             2101: 4316,\n",
       "             2102: 232,\n",
       "             2103: 238,\n",
       "             2104: 215,\n",
       "             2105: 3783,\n",
       "             2111: 4646,\n",
       "             2119: 4254,\n",
       "             2121: 4100,\n",
       "             2135: 4029,\n",
       "             2150: 3718,\n",
       "             2401: 4420,\n",
       "             2430: 3553,\n",
       "             2431: 3972,\n",
       "             2432: 6053,\n",
       "             2433: 3565,\n",
       "             2583: 3450,\n",
       "             2600: 3765,\n",
       "             2601: 3716,\n",
       "             2602: 3738,\n",
       "             2603: 3607,\n",
       "             2604: 4426,\n",
       "             2605: 3770,\n",
       "             2606: 3293,\n",
       "             2607: 3716,\n",
       "             2608: 4048,\n",
       "             2628: 4234,\n",
       "             2792: 3557,\n",
       "             2811: 4028,\n",
       "             2947: 4080,\n",
       "             2988: 3537,\n",
       "             2989: 7216,\n",
       "             3050: 3955,\n",
       "             3130: 3476,\n",
       "             3306: 52555,\n",
       "             3493: 5679,\n",
       "             3632: 3284,\n",
       "             3689: 7495,\n",
       "             3690: 4337,\n",
       "             4031: 3865,\n",
       "             4094: 3858,\n",
       "             4190: 3655,\n",
       "             4224: 3180,\n",
       "             4353: 3731,\n",
       "             4369: 4059,\n",
       "             4373: 2757,\n",
       "             4557: 3224,\n",
       "             4559: 3385,\n",
       "             4569: 4325,\n",
       "             4600: 2936,\n",
       "             4691: 2810,\n",
       "             4899: 3539,\n",
       "             4949: 2464,\n",
       "             5002: 864,\n",
       "             5050: 850,\n",
       "             5051: 882,\n",
       "             5052: 401,\n",
       "             5060: 1044,\n",
       "             5061: 5658,\n",
       "             5151: 408,\n",
       "             5190: 871,\n",
       "             5222: 881,\n",
       "             5269: 885,\n",
       "             5308: 376,\n",
       "             5353: 417,\n",
       "             5354: 394,\n",
       "             5355: 517,\n",
       "             5432: 1289,\n",
       "             5555: 2,\n",
       "             5556: 392,\n",
       "             5666: 895,\n",
       "             5667: 2,\n",
       "             5672: 796,\n",
       "             5674: 406,\n",
       "             5675: 423,\n",
       "             5680: 407,\n",
       "             5688: 383,\n",
       "             6000: 1042,\n",
       "             6001: 886,\n",
       "             6002: 15835,\n",
       "             6003: 871,\n",
       "             6004: 868,\n",
       "             6005: 884,\n",
       "             6006: 878,\n",
       "             6007: 866,\n",
       "             6346: 875,\n",
       "             6347: 409,\n",
       "             6444: 2,\n",
       "             6445: 7,\n",
       "             6446: 4,\n",
       "             6566: 884,\n",
       "             6667: 877,\n",
       "             7000: 876,\n",
       "             7001: 897,\n",
       "             7002: 15875,\n",
       "             7003: 405,\n",
       "             7004: 874,\n",
       "             7005: 400,\n",
       "             7006: 398,\n",
       "             7007: 860,\n",
       "             7008: 389,\n",
       "             7009: 414,\n",
       "             7100: 863,\n",
       "             8021: 558,\n",
       "             8080: 16365,\n",
       "             8081: 6821,\n",
       "             8088: 868,\n",
       "             8990: 3,\n",
       "             9101: 859,\n",
       "             9102: 884,\n",
       "             9103: 870,\n",
       "             9359: 5,\n",
       "             9418: 875,\n",
       "             9667: 1,\n",
       "             9673: 1,\n",
       "             10000: 892,\n",
       "             10050: 5,\n",
       "             10051: 404,\n",
       "             10080: 408,\n",
       "             10081: 404,\n",
       "             10082: 874,\n",
       "             10083: 398,\n",
       "             10809: 179,\n",
       "             11201: 398,\n",
       "             11371: 397,\n",
       "             13720: 403,\n",
       "             13721: 396,\n",
       "             13722: 867,\n",
       "             13724: 402,\n",
       "             13782: 870,\n",
       "             13783: 892,\n",
       "             15345: 384,\n",
       "             17003: 2,\n",
       "             17004: 2,\n",
       "             20011: 402,\n",
       "             20012: 399,\n",
       "             22125: 3,\n",
       "             22128: 3,\n",
       "             22273: 400,\n",
       "             24554: 381,\n",
       "             27374: 404,\n",
       "             30865: 39,\n",
       "             57000: 1616,\n",
       "             60177: 1838,\n",
       "             60179: 2077,\n",
       "             'N': 92317889})"
      ]
     },
     "execution_count": 12,
     "metadata": {},
     "output_type": "execute_result"
    }
   ],
   "source": [
    "def normal_port(x, i):\n",
    "    if re.match('^N', x[i])!=None: \n",
    "        return 'N' \n",
    "    else: \n",
    "        return int(x[i])\n",
    "\n",
    "src_port = subflows.map(lambda x: normal_port(x,3))\n",
    "src_port_set = src_port.countByValue()\n",
    "src_port_set"
   ]
  },
  {
   "cell_type": "code",
   "execution_count": 13,
   "metadata": {
    "collapsed": false
   },
   "outputs": [
    {
     "data": {
      "text/plain": [
       "defaultdict(int,\n",
       "            {1: 2794,\n",
       "             7: 1631,\n",
       "             9: 1323,\n",
       "             11: 666,\n",
       "             13: 1690,\n",
       "             15: 653,\n",
       "             17: 1207,\n",
       "             18: 661,\n",
       "             19: 1636,\n",
       "             20: 1582,\n",
       "             21: 1488,\n",
       "             22: 651987,\n",
       "             23: 1292,\n",
       "             25: 1746,\n",
       "             37: 1124,\n",
       "             42: 1267,\n",
       "             43: 1280,\n",
       "             49: 1288,\n",
       "             50: 640,\n",
       "             53: 13260,\n",
       "             57: 639,\n",
       "             65: 699,\n",
       "             67: 1110,\n",
       "             68: 658,\n",
       "             69: 4395,\n",
       "             70: 1184,\n",
       "             77: 553,\n",
       "             79: 1239,\n",
       "             80: 4810348,\n",
       "             87: 635,\n",
       "             88: 2019214,\n",
       "             95: 677,\n",
       "             98: 705,\n",
       "             101: 715,\n",
       "             102: 666,\n",
       "             104: 675,\n",
       "             105: 738,\n",
       "             106: 1113,\n",
       "             107: 690,\n",
       "             109: 1219,\n",
       "             110: 1297,\n",
       "             111: 237166,\n",
       "             113: 1204,\n",
       "             115: 407,\n",
       "             117: 683,\n",
       "             119: 1258,\n",
       "             123: 361505,\n",
       "             129: 555,\n",
       "             135: 998497,\n",
       "             137: 2562394,\n",
       "             138: 368347,\n",
       "             139: 2118763,\n",
       "             143: 1127,\n",
       "             161: 181134,\n",
       "             162: 676,\n",
       "             163: 1291,\n",
       "             164: 604,\n",
       "             174: 718,\n",
       "             177: 1092,\n",
       "             178: 609,\n",
       "             179: 1238,\n",
       "             191: 739,\n",
       "             194: 652,\n",
       "             199: 1213,\n",
       "             201: 619,\n",
       "             202: 632,\n",
       "             204: 713,\n",
       "             206: 619,\n",
       "             209: 633,\n",
       "             210: 684,\n",
       "             213: 632,\n",
       "             220: 710,\n",
       "             345: 471,\n",
       "             346: 660,\n",
       "             347: 600,\n",
       "             369: 658,\n",
       "             370: 626,\n",
       "             371: 618,\n",
       "             372: 716,\n",
       "             389: 3951978,\n",
       "             406: 1215,\n",
       "             427: 12333,\n",
       "             443: 896949,\n",
       "             444: 1323,\n",
       "             445: 25889868,\n",
       "             464: 1976,\n",
       "             465: 1196,\n",
       "             487: 632,\n",
       "             500: 3379,\n",
       "             512: 1300,\n",
       "             513: 1338,\n",
       "             514: 1817,\n",
       "             515: 1439,\n",
       "             518: 398,\n",
       "             520: 796,\n",
       "             526: 715,\n",
       "             530: 569,\n",
       "             531: 640,\n",
       "             532: 660,\n",
       "             538: 716,\n",
       "             540: 693,\n",
       "             543: 1146,\n",
       "             544: 1313,\n",
       "             546: 551,\n",
       "             547: 722,\n",
       "             548: 2642,\n",
       "             549: 674,\n",
       "             554: 1492,\n",
       "             556: 697,\n",
       "             563: 1227,\n",
       "             587: 1250,\n",
       "             607: 764,\n",
       "             610: 789,\n",
       "             611: 853,\n",
       "             612: 709,\n",
       "             628: 845,\n",
       "             631: 1300,\n",
       "             636: 1372,\n",
       "             655: 842,\n",
       "             706: 7890,\n",
       "             749: 7099,\n",
       "             750: 1523,\n",
       "             751: 1239,\n",
       "             752: 63,\n",
       "             754: 959,\n",
       "             760: 1057,\n",
       "             765: 1564,\n",
       "             775: 1056,\n",
       "             777: 1547,\n",
       "             779: 243,\n",
       "             783: 1462,\n",
       "             808: 1639,\n",
       "             871: 910,\n",
       "             873: 1518,\n",
       "             901: 1372,\n",
       "             989: 935,\n",
       "             990: 1531,\n",
       "             992: 1747,\n",
       "             993: 1534,\n",
       "             994: 860,\n",
       "             995: 1924,\n",
       "             1001: 2174,\n",
       "             1080: 5699,\n",
       "             1093: 5329,\n",
       "             1094: 16014,\n",
       "             1099: 5463,\n",
       "             1109: 8024,\n",
       "             1127: 6829,\n",
       "             1178: 9219,\n",
       "             1194: 5107,\n",
       "             1210: 328,\n",
       "             1214: 10822,\n",
       "             1236: 4329,\n",
       "             1241: 58628,\n",
       "             1300: 5010,\n",
       "             1313: 4385,\n",
       "             1314: 4100,\n",
       "             1352: 6016,\n",
       "             1433: 126419,\n",
       "             1434: 5825,\n",
       "             1524: 4795,\n",
       "             1525: 7826,\n",
       "             1529: 3916,\n",
       "             1645: 4129,\n",
       "             1646: 4506,\n",
       "             1649: 4144,\n",
       "             1677: 4434,\n",
       "             1701: 5387,\n",
       "             1812: 5161,\n",
       "             1813: 4947,\n",
       "             1863: 4288,\n",
       "             1957: 3865,\n",
       "             1958: 3605,\n",
       "             1959: 3548,\n",
       "             2000: 5388,\n",
       "             2003: 4096,\n",
       "             2010: 4969,\n",
       "             2049: 360768,\n",
       "             2053: 3542,\n",
       "             2086: 4145,\n",
       "             2101: 3795,\n",
       "             2102: 296,\n",
       "             2103: 317,\n",
       "             2104: 291,\n",
       "             2105: 4098,\n",
       "             2111: 4319,\n",
       "             2119: 4612,\n",
       "             2121: 4328,\n",
       "             2135: 6499,\n",
       "             2150: 3942,\n",
       "             2401: 4347,\n",
       "             2430: 3798,\n",
       "             2431: 4315,\n",
       "             2432: 5421,\n",
       "             2433: 3871,\n",
       "             2583: 3695,\n",
       "             2600: 3876,\n",
       "             2601: 4056,\n",
       "             2602: 4003,\n",
       "             2603: 3572,\n",
       "             2604: 4523,\n",
       "             2605: 4356,\n",
       "             2606: 3515,\n",
       "             2607: 4001,\n",
       "             2608: 4017,\n",
       "             2628: 3780,\n",
       "             2792: 3872,\n",
       "             2811: 4231,\n",
       "             2947: 4246,\n",
       "             2988: 3853,\n",
       "             2989: 7362,\n",
       "             3050: 4258,\n",
       "             3130: 4177,\n",
       "             3306: 36302,\n",
       "             3493: 4245,\n",
       "             3632: 3571,\n",
       "             3689: 4265,\n",
       "             3690: 4269,\n",
       "             4031: 3471,\n",
       "             4094: 2932,\n",
       "             4190: 2684,\n",
       "             4224: 3184,\n",
       "             4353: 4065,\n",
       "             4369: 3797,\n",
       "             4373: 2780,\n",
       "             4557: 3193,\n",
       "             4559: 3125,\n",
       "             4569: 3816,\n",
       "             4600: 3011,\n",
       "             4691: 2855,\n",
       "             4899: 3807,\n",
       "             4949: 2494,\n",
       "             5002: 1240,\n",
       "             5050: 1251,\n",
       "             5051: 1155,\n",
       "             5052: 617,\n",
       "             5060: 1125,\n",
       "             5061: 1307,\n",
       "             5151: 631,\n",
       "             5190: 1218,\n",
       "             5222: 4973,\n",
       "             5269: 1159,\n",
       "             5308: 652,\n",
       "             5353: 965,\n",
       "             5354: 625,\n",
       "             5355: 614,\n",
       "             5432: 1207,\n",
       "             5555: 1,\n",
       "             5556: 615,\n",
       "             5666: 1146,\n",
       "             5667: 5,\n",
       "             5672: 802,\n",
       "             5674: 649,\n",
       "             5675: 574,\n",
       "             5680: 637,\n",
       "             5688: 640,\n",
       "             6000: 1785,\n",
       "             6001: 1207,\n",
       "             6002: 16151,\n",
       "             6003: 1067,\n",
       "             6004: 1992,\n",
       "             6005: 1195,\n",
       "             6006: 1163,\n",
       "             6007: 1232,\n",
       "             6346: 1246,\n",
       "             6347: 631,\n",
       "             6444: 5,\n",
       "             6445: 9,\n",
       "             6446: 7,\n",
       "             6566: 1222,\n",
       "             6667: 1222,\n",
       "             7000: 1169,\n",
       "             7001: 1661,\n",
       "             7002: 16229,\n",
       "             7003: 661,\n",
       "             7004: 1222,\n",
       "             7005: 638,\n",
       "             7006: 510,\n",
       "             7007: 1247,\n",
       "             7008: 675,\n",
       "             7009: 554,\n",
       "             7100: 1263,\n",
       "             8021: 580,\n",
       "             8080: 15620,\n",
       "             8081: 7088,\n",
       "             8088: 1205,\n",
       "             8990: 5,\n",
       "             9098: 2,\n",
       "             9101: 1598,\n",
       "             9102: 1139,\n",
       "             9103: 1211,\n",
       "             9359: 4,\n",
       "             9418: 1231,\n",
       "             9667: 3,\n",
       "             9673: 3,\n",
       "             10000: 1248,\n",
       "             10050: 31,\n",
       "             10051: 531,\n",
       "             10080: 1017,\n",
       "             10081: 1027,\n",
       "             10082: 1186,\n",
       "             10083: 614,\n",
       "             10809: 182,\n",
       "             11201: 514,\n",
       "             11371: 632,\n",
       "             13720: 612,\n",
       "             13721: 601,\n",
       "             13722: 1108,\n",
       "             13724: 565,\n",
       "             13782: 1231,\n",
       "             13783: 1248,\n",
       "             15345: 646,\n",
       "             17003: 2,\n",
       "             17004: 4,\n",
       "             20011: 657,\n",
       "             20012: 648,\n",
       "             22125: 6,\n",
       "             22128: 5,\n",
       "             22273: 602,\n",
       "             24554: 648,\n",
       "             27374: 620,\n",
       "             30865: 43,\n",
       "             57000: 1961,\n",
       "             60177: 1890,\n",
       "             60179: 4999,\n",
       "             'N': 83605504})"
      ]
     },
     "execution_count": 13,
     "metadata": {},
     "output_type": "execute_result"
    }
   ],
   "source": [
    "dst_port = subflows.map(lambda x: f(x,5))\n",
    "dst_port_set = dst_port.countByValue()\n",
    "dst_port_set"
   ]
  },
  {
   "cell_type": "code",
   "execution_count": 74,
   "metadata": {
    "collapsed": false
   },
   "outputs": [
    {
     "data": {
      "text/plain": [
       "{0: 2049,\n",
       " 1: 2053,\n",
       " 2: 1,\n",
       " 3: 9,\n",
       " 4: 11,\n",
       " 5: 13,\n",
       " 6: 15,\n",
       " 7: 17,\n",
       " 8: 18,\n",
       " 9: 19,\n",
       " 10: 20,\n",
       " 11: 21,\n",
       " 12: 22,\n",
       " 13: 23,\n",
       " 14: 25,\n",
       " 15: 5151,\n",
       " 16: 37,\n",
       " 17: 2086,\n",
       " 18: 42,\n",
       " 19: 7,\n",
       " 20: 49,\n",
       " 21: 50,\n",
       " 22: 2101,\n",
       " 23: 2102,\n",
       " 24: 2103,\n",
       " 25: 1080,\n",
       " 26: 2105,\n",
       " 27: 3130,\n",
       " 28: 2111,\n",
       " 29: 65,\n",
       " 30: 67,\n",
       " 31: 68,\n",
       " 32: 1093,\n",
       " 33: 70,\n",
       " 34: 2119,\n",
       " 35: 2121,\n",
       " 36: 1099,\n",
       " 37: 77,\n",
       " 38: 79,\n",
       " 39: 80,\n",
       " 40: 5190,\n",
       " 41: 1109,\n",
       " 42: 2135,\n",
       " 43: 88,\n",
       " 44: 4190,\n",
       " 45: 95,\n",
       " 46: 98,\n",
       " 47: 101,\n",
       " 48: 5222,\n",
       " 49: 1127,\n",
       " 50: 104,\n",
       " 51: 105,\n",
       " 52: 106,\n",
       " 53: 11371,\n",
       " 54: 109,\n",
       " 55: 110,\n",
       " 56: 111,\n",
       " 57: 113,\n",
       " 58: 115,\n",
       " 59: 117,\n",
       " 60: 119,\n",
       " 61: 123,\n",
       " 62: 4224,\n",
       " 63: 129,\n",
       " 64: 135,\n",
       " 65: 137,\n",
       " 66: 138,\n",
       " 67: 139,\n",
       " 68: 143,\n",
       " 69: 30865,\n",
       " 70: 5269,\n",
       " 71: 1178,\n",
       " 72: 7100,\n",
       " 73: 161,\n",
       " 74: 162,\n",
       " 75: 163,\n",
       " 76: 164,\n",
       " 77: 1194,\n",
       " 78: 174,\n",
       " 79: 177,\n",
       " 80: 178,\n",
       " 81: 179,\n",
       " 82: 1210,\n",
       " 83: 5308,\n",
       " 84: 9418,\n",
       " 85: 1214,\n",
       " 86: 191,\n",
       " 87: 194,\n",
       " 88: 199,\n",
       " 89: 201,\n",
       " 90: 6346,\n",
       " 91: 6347,\n",
       " 92: 204,\n",
       " 93: 546,\n",
       " 94: 206,\n",
       " 95: 209,\n",
       " 96: 210,\n",
       " 97: 5667,\n",
       " 98: 1236,\n",
       " 99: 213,\n",
       " 100: 1241,\n",
       " 101: 220,\n",
       " 102: 5353,\n",
       " 103: 5354,\n",
       " 104: 5355,\n",
       " 105: 5672,\n",
       " 106: 554,\n",
       " 107: 4353,\n",
       " 108: 43,\n",
       " 109: 556,\n",
       " 110: 4369,\n",
       " 111: 1300,\n",
       " 112: 4373,\n",
       " 113: 1313,\n",
       " 114: 1314,\n",
       " 115: 6444,\n",
       " 116: 6445,\n",
       " 117: 6446,\n",
       " 118: 5432,\n",
       " 119: 9098,\n",
       " 120: 53,\n",
       " 121: 1352,\n",
       " 122: 'N',\n",
       " 123: 2104,\n",
       " 124: 57,\n",
       " 125: 345,\n",
       " 126: 346,\n",
       " 127: 347,\n",
       " 128: 2401,\n",
       " 129: 369,\n",
       " 130: 370,\n",
       " 131: 371,\n",
       " 132: 372,\n",
       " 133: 3306,\n",
       " 134: 2430,\n",
       " 135: 2431,\n",
       " 136: 2432,\n",
       " 137: 2433,\n",
       " 138: 389,\n",
       " 139: 27374,\n",
       " 140: 406,\n",
       " 141: 1433,\n",
       " 142: 13720,\n",
       " 143: 13721,\n",
       " 144: 1434,\n",
       " 145: 13724,\n",
       " 146: 13722,\n",
       " 147: 69,\n",
       " 148: 5674,\n",
       " 149: 1094,\n",
       " 150: 6566,\n",
       " 151: 427,\n",
       " 152: 5555,\n",
       " 153: 5556,\n",
       " 154: 443,\n",
       " 155: 444,\n",
       " 156: 445,\n",
       " 157: 5675,\n",
       " 158: 9667,\n",
       " 159: 9673,\n",
       " 160: 4557,\n",
       " 161: 4559,\n",
       " 162: 464,\n",
       " 163: 465,\n",
       " 164: 13782,\n",
       " 165: 13783,\n",
       " 166: 4569,\n",
       " 167: 3493,\n",
       " 168: 487,\n",
       " 169: 9359,\n",
       " 170: 500,\n",
       " 171: 1525,\n",
       " 172: 2608,\n",
       " 173: 4600,\n",
       " 174: 1529,\n",
       " 175: 512,\n",
       " 176: 513,\n",
       " 177: 514,\n",
       " 178: 515,\n",
       " 179: 518,\n",
       " 180: 520,\n",
       " 181: 6667,\n",
       " 182: 526,\n",
       " 183: 530,\n",
       " 184: 531,\n",
       " 185: 532,\n",
       " 186: 2583,\n",
       " 187: 538,\n",
       " 188: 540,\n",
       " 189: 543,\n",
       " 190: 544,\n",
       " 191: 5666,\n",
       " 192: 547,\n",
       " 193: 548,\n",
       " 194: 549,\n",
       " 195: 2600,\n",
       " 196: 2601,\n",
       " 197: 2602,\n",
       " 198: 2603,\n",
       " 199: 2604,\n",
       " 200: 2605,\n",
       " 201: 2606,\n",
       " 202: 2607,\n",
       " 203: 3632,\n",
       " 204: 563,\n",
       " 205: 5688,\n",
       " 206: 10809,\n",
       " 207: 87,\n",
       " 208: 7009,\n",
       " 209: 2628,\n",
       " 210: 587,\n",
       " 211: 4691,\n",
       " 212: 5680,\n",
       " 213: 607,\n",
       " 214: 610,\n",
       " 215: 611,\n",
       " 216: 612,\n",
       " 217: 2150,\n",
       " 218: 3689,\n",
       " 219: 3690,\n",
       " 220: 17003,\n",
       " 221: 17004,\n",
       " 222: 1645,\n",
       " 223: 1646,\n",
       " 224: 22128,\n",
       " 225: 1649,\n",
       " 226: 628,\n",
       " 227: 631,\n",
       " 228: 636,\n",
       " 229: 10080,\n",
       " 230: 107,\n",
       " 231: 1677,\n",
       " 232: 655,\n",
       " 233: 1701,\n",
       " 234: 57000,\n",
       " 235: 706,\n",
       " 236: 2792,\n",
       " 237: 749,\n",
       " 238: 750,\n",
       " 239: 751,\n",
       " 240: 752,\n",
       " 241: 754,\n",
       " 242: 760,\n",
       " 243: 2811,\n",
       " 244: 765,\n",
       " 245: 22273,\n",
       " 246: 775,\n",
       " 247: 777,\n",
       " 248: 779,\n",
       " 249: 783,\n",
       " 250: 10000,\n",
       " 251: 60177,\n",
       " 252: 60179,\n",
       " 253: 1812,\n",
       " 254: 1813,\n",
       " 255: 8990,\n",
       " 256: 4899,\n",
       " 257: 808,\n",
       " 258: 10050,\n",
       " 259: 10051,\n",
       " 260: 1863,\n",
       " 261: 8021,\n",
       " 262: 7000,\n",
       " 263: 7001,\n",
       " 264: 7002,\n",
       " 265: 7003,\n",
       " 266: 7004,\n",
       " 267: 7005,\n",
       " 268: 7006,\n",
       " 269: 7007,\n",
       " 270: 7008,\n",
       " 271: 10081,\n",
       " 272: 10082,\n",
       " 273: 10083,\n",
       " 274: 871,\n",
       " 275: 873,\n",
       " 276: 6000,\n",
       " 277: 6001,\n",
       " 278: 6002,\n",
       " 279: 6003,\n",
       " 280: 6004,\n",
       " 281: 6005,\n",
       " 282: 6006,\n",
       " 283: 6007,\n",
       " 284: 3050,\n",
       " 285: 22125,\n",
       " 286: 20011,\n",
       " 287: 2947,\n",
       " 288: 901,\n",
       " 289: 5002,\n",
       " 290: 9101,\n",
       " 291: 9102,\n",
       " 292: 9103,\n",
       " 293: 8080,\n",
       " 294: 8081,\n",
       " 295: 8088,\n",
       " 296: 20012,\n",
       " 297: 1957,\n",
       " 298: 1958,\n",
       " 299: 1959,\n",
       " 300: 2988,\n",
       " 301: 2989,\n",
       " 302: 202,\n",
       " 303: 1524,\n",
       " 304: 5050,\n",
       " 305: 5051,\n",
       " 306: 5052,\n",
       " 307: 4031,\n",
       " 308: 11201,\n",
       " 309: 5060,\n",
       " 310: 5061,\n",
       " 311: 2000,\n",
       " 312: 2003,\n",
       " 313: 2010,\n",
       " 314: 989,\n",
       " 315: 990,\n",
       " 316: 992,\n",
       " 317: 993,\n",
       " 318: 994,\n",
       " 319: 995,\n",
       " 320: 1001,\n",
       " 321: 24554,\n",
       " 322: 15345,\n",
       " 323: 102,\n",
       " 324: 4094,\n",
       " 325: 4949}"
      ]
     },
     "execution_count": 74,
     "metadata": {},
     "output_type": "execute_result"
    }
   ],
   "source": [
    "# index union of src/dst ports:\n",
    "\n",
    "portset = set(src_port_set.keys()).union(set(dst_port_set.keys()))\n",
    "port_indices = dict((c, i) for i, c in enumerate(portset))\n",
    "indices_port = dict((i, c) for i, c in enumerate(portset))\n",
    "\n",
    "indices_port"
   ]
  },
  {
   "cell_type": "code",
   "execution_count": 77,
   "metadata": {
    "collapsed": false
   },
   "outputs": [],
   "source": [
    "import json\n",
    "\n",
    "json.dump(\n",
    "    {\n",
    "    'box_indices': box_indices,\n",
    "    'indices_box': indices_box,\n",
    "    'port_indices': port_indices,\n",
    "    'indices_port': indices_port\n",
    "    },\n",
    "    open(\"boxport_data.json\", 'w')\n",
    ")"
   ]
  },
  {
   "cell_type": "markdown",
   "metadata": {},
   "source": [
    "# Experimenting with a smaller RDD (skip)"
   ]
  },
  {
   "cell_type": "markdown",
   "metadata": {},
   "source": [
    "Let's write to disk, then read in to the session, the small set of protocol 41 flows:"
   ]
  },
  {
   "cell_type": "code",
   "execution_count": 126,
   "metadata": {
    "collapsed": false
   },
   "outputs": [],
   "source": [
    "# pull out subset and write to disk:\n",
    "\n",
    "def toCSVline(data):\n",
    "  return ','.join(str(d) for d in data)\n",
    "\n",
    "subflows.filter(lambda x: x[6]==41).map(toCSVline).saveAsTextFile(\"tmp\")"
   ]
  },
  {
   "cell_type": "code",
   "execution_count": 5,
   "metadata": {
    "collapsed": false
   },
   "outputs": [
    {
     "data": {
      "text/plain": [
       "[[132720, 13, 'C12651', 'N41444', 'C528', 'N41444', 41, 2, 184],\n",
       " [134106, 0, 'C12651', 'N16749', 'C528', 'N16749', 41, 1, 92],\n",
       " [134465, 0, 'C12651', 'N16749', 'C528', 'N16749', 41, 1, 92],\n",
       " [134826, 0, 'C12651', 'N16749', 'C528', 'N16749', 41, 1, 92],\n",
       " [135185, 0, 'C12651', 'N16749', 'C528', 'N16749', 41, 1, 92]]"
      ]
     },
     "execution_count": 5,
     "metadata": {},
     "output_type": "execute_result"
    }
   ],
   "source": [
    "# read from disk to new RDD:\n",
    "\n",
    "def f(x):\n",
    "    return [int(x[0]), int(x[1]), x[2], x[3], x[4], x[5], int(x[6]), int(x[7]), int(x[8])]\n",
    "\n",
    "tmp_rdd = sc.textFile(\"tmp\").map(lambda line: [str(x) for x in line.split(',')]).map(f)\n",
    "tmp_rdd.take(5)"
   ]
  },
  {
   "cell_type": "code",
   "execution_count": 6,
   "metadata": {
    "collapsed": false
   },
   "outputs": [
    {
     "data": {
      "text/plain": [
       "491"
      ]
     },
     "execution_count": 6,
     "metadata": {},
     "output_type": "execute_result"
    }
   ],
   "source": [
    "# how many lines?\n",
    "\n",
    "tmp_rdd.count()"
   ]
  },
  {
   "cell_type": "markdown",
   "metadata": {
    "collapsed": false
   },
   "source": [
    "# Generate definitive data set for RNN model"
   ]
  },
  {
   "cell_type": "code",
   "execution_count": 4,
   "metadata": {
    "collapsed": false
   },
   "outputs": [],
   "source": [
    "# load box/port info from json:\n",
    "\n",
    "import json\n",
    "import re\n",
    "\n",
    "data = json.load(open(\"data/boxport_data.json\", 'r'))\n",
    "\n",
    "def jsonIntKeys(x):\n",
    "    if isinstance(x, dict):\n",
    "            return {int(k):str(v) for k,v in x.items()}\n",
    "    return x\n",
    "\n",
    "def jsonIntVals(x):\n",
    "    if isinstance(x, dict):\n",
    "            return {str(k):int(v) for k,v in x.items()}\n",
    "    return x\n",
    "\n",
    "box_index = jsonIntVals( data['box_indices'] )\n",
    "index_box = jsonIntKeys( data['indices_box'] )\n",
    "port_index = jsonIntVals( data['port_indices'] )\n",
    "index_port = jsonIntKeys( data['indices_port'] )\n",
    "\n",
    "bbox = set([re.sub('[\\\"\\n]+', \"\", s) for s in box_index.keys()])"
   ]
  },
  {
   "cell_type": "code",
   "execution_count": 5,
   "metadata": {
    "collapsed": true
   },
   "outputs": [],
   "source": [
    "# define netflow RDD - filter to boxes in 'bbox' (busy computers):\n",
    "\n",
    "flowfile = path + \"flows.csv\"\n",
    "flows = sc.textFile(flowfile).map(lambda line: [str(x) for x in line.split(',')])\n",
    "\n",
    "def filt(x):\n",
    "    return [int(x[0]), int(x[1]), x[2], x[3], x[4], x[5], int(x[6]), int(x[7]), int(x[8])]\n",
    "\n",
    "subflows = flows.filter(lambda f: f[2] in bbox and f[4] in bbox).map(filt)"
   ]
  },
  {
   "cell_type": "code",
   "execution_count": 6,
   "metadata": {
    "collapsed": false
   },
   "outputs": [
    {
     "data": {
      "text/plain": [
       "[[1, 0, 9501, 138, 2205, 122, 1, 3, 12],\n",
       " [1, 0, 2244, 122, 8986, 122, 1, 2, 9],\n",
       " [1, 0, 2244, 122, 8986, 122, 1, 2, 9],\n",
       " [1, 0, 5354, 122, 9484, 0, 1, 0, 5],\n",
       " [1, 0, 5354, 122, 9484, 0, 1, 0, 5],\n",
       " [1, 0, 5354, 122, 9484, 0, 1, 0, 5],\n",
       " [1, 0, 8986, 122, 2244, 122, 1, 2, 8],\n",
       " [1, 0, 8986, 122, 2244, 122, 1, 2, 8],\n",
       " [1, 0, 8986, 122, 2408, 122, 1, 2, 8],\n",
       " [1, 0, 8986, 122, 2408, 122, 1, 2, 8]]"
      ]
     },
     "execution_count": 6,
     "metadata": {},
     "output_type": "execute_result"
    }
   ],
   "source": [
    "# define normalisation mapping to be readable in Keras:\n",
    "\n",
    "from math import log, floor\n",
    "\n",
    "protocols = [1,6,17,41]\n",
    "proto_index = dict((c, i) for i, c in enumerate(protocols))\n",
    "index_proto = dict((i, c) for i, c in enumerate(protocols))\n",
    "\n",
    "def logbin(x):\n",
    "    return int(floor(log(x, 2)))\n",
    "\n",
    "def normal_port(x):\n",
    "    if re.match('^N', x)!=None: \n",
    "        return 'N' \n",
    "    else: \n",
    "        return x\n",
    "\n",
    "def normalise(x):\n",
    "    return [x[0], \n",
    "            logbin(x[1]+1),\n",
    "            box_index[x[2]],\n",
    "            port_index[normal_port(x[3])],\n",
    "            box_index[x[4]],\n",
    "            port_index[normal_port(x[5])],\n",
    "            proto_index[x[6]], \n",
    "            logbin(x[7]), \n",
    "            logbin(x[8])]\n",
    "\n",
    "# check:\n",
    "subflows.map(normalise).take(10)"
   ]
  },
  {
   "cell_type": "code",
   "execution_count": 10,
   "metadata": {
    "collapsed": false
   },
   "outputs": [],
   "source": [
    "# write to disk:\n",
    "\n",
    "def toCSVline(data):\n",
    "  return ','.join(str(d) for d in data)\n",
    "\n",
    "subflows.map(normalise).map(toCSVline).saveAsTextFile(path + \"flows_for_rnn_model\")\n",
    "\n",
    "#outfile = open(path + \"flows_for_rnn_model_100000.csv\", 'w')\n",
    "#output = subflows.map(normalise).map(toCSVline).take(100000)\n",
    "#for line in output: outfile.write(line + '\\n')\n",
    "#outfile.close()"
   ]
  },
  {
   "cell_type": "markdown",
   "metadata": {
    "collapsed": true
   },
   "source": [
    "# Further EDA"
   ]
  },
  {
   "cell_type": "code",
   "execution_count": 7,
   "metadata": {
    "collapsed": true
   },
   "outputs": [],
   "source": [
    "normflows = subflows.map(normalise)\n",
    "\n",
    "normduration = normflows.map(lambda x: x[1])\n",
    "normduration = normflows.map(lambda x: x[1])\n",
    "normpackets = normflows.map(lambda x: x[7])\n",
    "normbytes = normflows.map(lambda x: x[8])"
   ]
  },
  {
   "cell_type": "code",
   "execution_count": 12,
   "metadata": {
    "collapsed": false
   },
   "outputs": [
    {
     "data": {
      "text/plain": [
       "defaultdict(int,\n",
       "            {0: 84193649,\n",
       "             1: 4499644,\n",
       "             2: 4529776,\n",
       "             3: 12052081,\n",
       "             4: 5755560,\n",
       "             5: 16689791,\n",
       "             6: 2204865})"
      ]
     },
     "execution_count": 12,
     "metadata": {},
     "output_type": "execute_result"
    }
   ],
   "source": [
    "normduration.countByValue()\n",
    "\n",
    "# should agree with\n",
    "# {0: 84193649,\n",
    "#  1: 4499644,\n",
    "#  2: 4529776,\n",
    "#  3: 12052081,\n",
    "#  4: 5755560,\n",
    "#  5: 16689791,\n",
    "#  6: 2204865}\n",
    "# from above."
   ]
  },
  {
   "cell_type": "code",
   "execution_count": 12,
   "metadata": {
    "collapsed": false
   },
   "outputs": [],
   "source": [
    "# how many src computers are typically seen within 1-sec time bins?\n",
    "\n",
    "src_process = normflows.map(lambda x: [x[0], x[2]]).groupByKey().cache()"
   ]
  },
  {
   "cell_type": "code",
   "execution_count": null,
   "metadata": {
    "collapsed": true
   },
   "outputs": [],
   "source": [
    "# histogram of '1-sec sharing':\n",
    "\n",
    "def f(y):\n",
    "    return float(len(set(y)))/float(len(y))\n",
    "\n",
    "h = src_process.sortBy(lambda x: x[0]).map(lambda x : f(list(x[1]))).collect()"
   ]
  },
  {
   "cell_type": "code",
   "execution_count": 58,
   "metadata": {
    "collapsed": false
   },
   "outputs": [
    {
     "data": {
      "image/png": "[encoded data removed]",
      "text/plain": [
       "<matplotlib.figure.Figure at 0x130fbb310>"
      ]
     },
     "metadata": {},
     "output_type": "display_data"
    }
   ],
   "source": [
    "%matplotlib inline\n",
    "import matplotlib.pyplot as plt\n",
    "\n",
    "plt.hist(h, bins=20)\n",
    "plt.title(\"Histogram of (nr distinct src)/(total nr src) per second\")\n",
    "plt.show()"
   ]
  },
  {
   "cell_type": "markdown",
   "metadata": {},
   "source": [
    "This shows that a typical src computer will appear twice ina typical 1-second time bin. Is this uniform over time? "
   ]
  },
  {
   "cell_type": "code",
   "execution_count": 61,
   "metadata": {
    "collapsed": false
   },
   "outputs": [
    {
     "data": {
      "image/png": "[encoded data removed]",
      "text/plain": [
       "<matplotlib.figure.Figure at 0x12e7a5a90>"
      ]
     },
     "metadata": {},
     "output_type": "display_data"
    }
   ],
   "source": [
    "# how does this sharing proportion vary with time?\n",
    "\n",
    "import numpy as np\n",
    "\n",
    "def movingaverage(x, window_size):\n",
    "    window = np.ones(int(window_size))/float(window_size)\n",
    "    return np.convolve(x, window, 'same')\n",
    "\n",
    "plt.figure(figsize=(20,10))\n",
    "plt.plot(movingaverage(h, 3600))\n",
    "plt.title(\"Moving average (nr distinct src)/(total nr src) per second\")\n",
    "plt.show()"
   ]
  },
  {
   "cell_type": "code",
   "execution_count": null,
   "metadata": {
    "collapsed": false
   },
   "outputs": [],
   "source": []
  },
  {
   "cell_type": "code",
   "execution_count": null,
   "metadata": {
    "collapsed": true
   },
   "outputs": [],
   "source": []
  }
 ],
 "metadata": {
  "kernelspec": {
   "display_name": "pySpark",
   "language": "python",
   "name": "pyspark"
  },
  "language_info": {
   "codemirror_mode": {
    "name": "ipython",
    "version": 2
   },
   "file_extension": ".py",
   "mimetype": "text/x-python",
   "name": "python",
   "nbconvert_exporter": "python",
   "pygments_lexer": "ipython2",
   "version": "2.7.11"
  }
 },
 "nbformat": 4,
 "nbformat_minor": 0
}
