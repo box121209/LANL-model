{
 "cells": [
  {
   "cell_type": "code",
   "execution_count": 1,
   "metadata": {
    "collapsed": false
   },
   "outputs": [
    {
     "data": {
      "text/plain": [
       "[[1, 0, 9501, 138, 2205, 122, 1, 3, 12],\n",
       " [1, 0, 2244, 122, 8986, 122, 1, 2, 9],\n",
       " [1, 0, 2244, 122, 8986, 122, 1, 2, 9],\n",
       " [1, 0, 5354, 122, 9484, 0, 1, 0, 5],\n",
       " [1, 0, 5354, 122, 9484, 0, 1, 0, 5],\n",
       " [1, 0, 5354, 122, 9484, 0, 1, 0, 5],\n",
       " [1, 0, 8986, 122, 2244, 122, 1, 2, 8],\n",
       " [1, 0, 8986, 122, 2244, 122, 1, 2, 8],\n",
       " [1, 0, 8986, 122, 2408, 122, 1, 2, 8],\n",
       " [1, 0, 8986, 122, 2408, 122, 1, 2, 8]]"
      ]
     },
     "execution_count": 1,
     "metadata": {},
     "output_type": "execute_result"
    }
   ],
   "source": [
    "import csv\n",
    "\n",
    "infile = \"flows_for_rnn_model_100000.csv\"\n",
    "\n",
    "fp = open(infile, 'r')\n",
    "flowdata = [[int(x) for x in line] for line in csv.reader(fp)]\n",
    "fp.close()\n",
    "\n",
    "flowdata[:10]"
   ]
  },
  {
   "cell_type": "markdown",
   "metadata": {},
   "source": [
    "Note that the schema is:\n",
    "\n",
    "<ul>\n",
    "<li> timestamp\n",
    "<li> duration (log)\n",
    "<li> source computer\n",
    "<li> source port\n",
    "<li> destination computer\n",
    "<li> destination port\n",
    "<li> protocol\n",
    "<li> nr packets (log)\n",
    "<li> nr bytes (log)\n",
    "</ul>"
   ]
  },
  {
   "cell_type": "code",
   "execution_count": 2,
   "metadata": {
    "collapsed": true
   },
   "outputs": [],
   "source": [
    "# load box/port info from json:\n",
    "\n",
    "import json\n",
    "import re\n",
    "\n",
    "boxdata = json.load(open(\"boxport_data.json\", 'r'))\n",
    "\n",
    "def jsonIntKeys(x):\n",
    "    if isinstance(x, dict):\n",
    "            return {int(k):str(v) for k,v in x.items()}\n",
    "    return x\n",
    "\n",
    "def jsonIntVals(x):\n",
    "    if isinstance(x, dict):\n",
    "            return {str(k):int(v) for k,v in x.items()}\n",
    "    return x\n",
    "\n",
    "box_index = jsonIntVals( boxdata['box_indices'] )\n",
    "index_box = jsonIntKeys( boxdata['indices_box'] )\n",
    "port_index = jsonIntVals( boxdata['port_indices'] )\n",
    "index_port = jsonIntKeys( boxdata['indices_port'] )\n",
    "\n",
    "bbox = set([re.sub('[\\\"\\n]+', \"\", s) for s in box_index.keys()])"
   ]
  },
  {
   "cell_type": "code",
   "execution_count": 3,
   "metadata": {
    "collapsed": false
   },
   "outputs": [],
   "source": [
    "# set input vector sizes:\n",
    "\n",
    "lg_duration = 7\n",
    "lg_packets = 22\n",
    "lg_bytes = 32\n",
    "nr_proto = 4\n",
    "nr_box = len(index_box)   # 10109\n",
    "nr_port = len(index_port) #   326"
   ]
  },
  {
   "cell_type": "code",
   "execution_count": 4,
   "metadata": {
    "collapsed": false
   },
   "outputs": [
    {
     "name": "stdout",
     "output_type": "stream",
     "text": [
      "____________________________________________________________________________________________________\n",
      "Layer (type)                       Output Shape        Param #     Connected to                     \n",
      "====================================================================================================\n",
      "bytes (InputLayer)                 (None, 32)          0                                            \n",
      "____________________________________________________________________________________________________\n",
      "dst_pt (InputLayer)                (None, 32)          0                                            \n",
      "____________________________________________________________________________________________________\n",
      "duration (InputLayer)              (None, 32)          0                                            \n",
      "____________________________________________________________________________________________________\n",
      "packets (InputLayer)               (None, 32)          0                                            \n",
      "____________________________________________________________________________________________________\n",
      "proto (InputLayer)                 (None, 32)          0                                            \n",
      "____________________________________________________________________________________________________\n",
      "src_pt (InputLayer)                (None, 32)          0                                            \n",
      "____________________________________________________________________________________________________\n",
      "dst_input (InputLayer)             (None, 32)          0                                            \n",
      "____________________________________________________________________________________________________\n",
      "embedding_2 (Embedding)            (None, 32, 128)     41728       src_pt[0][0]                     \n",
      "____________________________________________________________________________________________________\n",
      "embedding_3 (Embedding)            (None, 32, 128)     41728       dst_pt[0][0]                     \n",
      "____________________________________________________________________________________________________\n",
      "embedding_4 (Embedding)            (None, 32, 2)       8           proto[0][0]                      \n",
      "____________________________________________________________________________________________________\n",
      "embedding_5 (Embedding)            (None, 32, 4)       28          duration[0][0]                   \n",
      "____________________________________________________________________________________________________\n",
      "embedding_6 (Embedding)            (None, 32, 8)       176         packets[0][0]                    \n",
      "____________________________________________________________________________________________________\n",
      "embedding_7 (Embedding)            (None, 32, 16)      512         bytes[0][0]                      \n",
      "____________________________________________________________________________________________________\n",
      "next_src (InputLayer)              (None, 32)          0                                            \n",
      "____________________________________________________________________________________________________\n",
      "src_input (InputLayer)             (None, 32)          0                                            \n",
      "____________________________________________________________________________________________________\n",
      "embedding_1 (Embedding)            (None, 32, 256)     2587904     src_input[0][0]                  \n",
      "                                                                   dst_input[0][0]                  \n",
      "                                                                   next_src[0][0]                   \n",
      "____________________________________________________________________________________________________\n",
      "merge_1 (Merge)                    (None, 32, 286)     0           embedding_2[0][0]                \n",
      "                                                                   embedding_3[0][0]                \n",
      "                                                                   embedding_4[0][0]                \n",
      "                                                                   embedding_5[0][0]                \n",
      "                                                                   embedding_6[0][0]                \n",
      "                                                                   embedding_7[0][0]                \n",
      "____________________________________________________________________________________________________\n",
      "merge_2 (Merge)                    (None, 32, 1054)    0           merge_1[0][0]                    \n",
      "                                                                   embedding_1[0][0]                \n",
      "                                                                   embedding_1[1][0]                \n",
      "                                                                   embedding_1[2][0]                \n",
      "____________________________________________________________________________________________________\n",
      "lstm_1 (LSTM)                      (None, 32, 512)     3209216     merge_2[0][0]                    \n",
      "____________________________________________________________________________________________________\n",
      "lstm_2 (LSTM)                      (None, 512)         2099200     lstm_1[0][0]                     \n",
      "____________________________________________________________________________________________________\n",
      "dropout_1 (Dropout)                (None, 512)         0           lstm_2[0][0]                     \n",
      "____________________________________________________________________________________________________\n",
      "bytes_output (Dense)               (None, 32)          16416       dropout_1[0][0]                  \n",
      "____________________________________________________________________________________________________\n",
      "dst_port_output (Dense)            (None, 326)         167238      dropout_1[0][0]                  \n",
      "____________________________________________________________________________________________________\n",
      "duration_output (Dense)            (None, 7)           3591        dropout_1[0][0]                  \n",
      "____________________________________________________________________________________________________\n",
      "next_dst (Dense)                   (None, 256)         131328      dropout_1[0][0]                  \n",
      "____________________________________________________________________________________________________\n",
      "packets_output (Dense)             (None, 22)          11286       dropout_1[0][0]                  \n",
      "____________________________________________________________________________________________________\n",
      "proto_output (Dense)               (None, 4)           2052        dropout_1[0][0]                  \n",
      "____________________________________________________________________________________________________\n",
      "src_port_output (Dense)            (None, 326)         167238      dropout_1[0][0]                  \n",
      "====================================================================================================\n",
      "Total params: 8479649\n",
      "____________________________________________________________________________________________________\n"
     ]
    },
    {
     "name": "stderr",
     "output_type": "stream",
     "text": [
      "Using Theano backend.\n"
     ]
    }
   ],
   "source": [
    "import sys\n",
    "sys.setrecursionlimit(10000) # needed to prevent query-time bug...\n",
    "\n",
    "from keras.layers import Input, Embedding, LSTM, Dense, Dropout\n",
    "from keras.models import Model\n",
    "from keras.engine.topology import merge\n",
    "from keras.utils.visualize_util import plot\n",
    "\n",
    "# hyperparameters:\n",
    "nhidden = [512, 512]\n",
    "unroll = 32\n",
    "embed_dim = 256\n",
    "dropout_W = 0.2 # input gates\n",
    "dropout_U = 0.2 # recurrent connections\n",
    "\n",
    "# netflow inputs:\n",
    "src_input = Input(shape=(unroll,), dtype='int32', name='src_input')\n",
    "dst_input = Input(shape=(unroll,), dtype='int32', name='dst_input')\n",
    "src_pt_input = Input(shape=(unroll,), dtype='int32', name='src_pt')\n",
    "dst_pt_input = Input(shape=(unroll,), dtype='int32', name='dst_pt')\n",
    "proto_input = Input(shape=(unroll,), dtype='int32', name='proto')\n",
    "duration_input = Input(shape=(unroll,), dtype='int32', name='duration')\n",
    "packets_input = Input(shape=(unroll,), dtype='int32', name='packets')\n",
    "bytes_input = Input(shape=(unroll,), dtype='int32', name='bytes')\n",
    "\n",
    "# shared embedding for computer feeds:\n",
    "comp_encoding = Embedding(output_dim=embed_dim, input_dim=nr_box, input_length=unroll)\n",
    "src = comp_encoding(src_input)\n",
    "dst = comp_encoding(dst_input)\n",
    "\n",
    "# other embeddings:\n",
    "src_pt = Embedding(output_dim=128, input_dim=nr_port, input_length=unroll)(src_pt_input)\n",
    "dst_pt = Embedding(output_dim=128, input_dim=nr_port, input_length=unroll)(dst_pt_input)\n",
    "proto = Embedding(output_dim=2, input_dim=nr_proto, input_length=unroll)(proto_input)\n",
    "duration = Embedding(output_dim=4, input_dim=lg_duration, input_length=unroll)(duration_input)\n",
    "packets = Embedding(output_dim=8, input_dim=lg_packets, input_length=unroll)(packets_input)\n",
    "bytes = Embedding(output_dim=16, input_dim=lg_bytes, input_length=unroll)(bytes_input)\n",
    "\n",
    "# merge:\n",
    "data_merged = merge([src_pt, dst_pt, proto, duration, packets, bytes], mode='concat')\n",
    "\n",
    "# add src computer for next time-step, as a query stream to train on:\n",
    "next_src = Input(shape=(unroll,), dtype='int32', name='next_src')\n",
    "query = comp_encoding(next_src)\n",
    "\n",
    "# pass data and query to RNN layers:\n",
    "inner = merge([data_merged, src, dst, query], mode='concat')\n",
    "for i in range(len(nhidden)-1):\n",
    "    inner = LSTM(nhidden[i], return_sequences=True, dropout_U=dropout_U, dropout_W=dropout_W)(inner)\n",
    "inner = LSTM(nhidden[-1], return_sequences=False, dropout_U=dropout_U, dropout_W=dropout_W)(inner)\n",
    "inner = Dropout(dropout_W)(inner)\n",
    "\n",
    "# add softmax outputs:\n",
    "proto_output = Dense(4, activation='softmax', name='proto_output')(inner)\n",
    "duration_output = Dense(lg_duration, activation='softmax', name='duration_output')(inner)\n",
    "packets_output = Dense(lg_packets, activation='softmax', name='packets_output')(inner)\n",
    "bytes_output = Dense(lg_bytes, activation='softmax', name='bytes_output')(inner)\n",
    "src_port_output = Dense(nr_port, activation='softmax', name='src_port_output')(inner)\n",
    "dst_port_output = Dense(nr_port, activation='softmax', name='dst_port_output')(inner)\n",
    "\n",
    "# add dst computer output:\n",
    "next_dst = Dense(embed_dim, activation='relu', name='next_dst')(inner)\n",
    "\n",
    "# put it all together:\n",
    "model = Model(input=[src_input,\n",
    "                     dst_input,\n",
    "                     src_pt_input,\n",
    "                     dst_pt_input,\n",
    "                     proto_input,\n",
    "                     duration_input,\n",
    "                     packets_input, \n",
    "                     bytes_input,\n",
    "                     next_src], \n",
    "              output=[proto_output,\n",
    "                      duration_output,\n",
    "                      packets_output,\n",
    "                      bytes_output,\n",
    "                      src_port_output,\n",
    "                      dst_port_output,\n",
    "                      next_dst])\n",
    "model.compile(optimizer='rmsprop', \n",
    "              loss=['categorical_crossentropy' for i in range(6)] + ['mse'],\n",
    "              loss_weights=[0.5, 1., 1., 1., 2., 2., 4.])\n",
    "\n",
    "# ...and summarise:\n",
    "model.summary()\n",
    "plot(model, to_file='model.png')"
   ]
  },
  {
   "cell_type": "markdown",
   "metadata": {},
   "source": [
    "# Testing the architecture"
   ]
  },
  {
   "cell_type": "code",
   "execution_count": 14,
   "metadata": {
    "collapsed": false
   },
   "outputs": [],
   "source": [
    "import numpy as np\n",
    "\n",
    "N = len(flowdata) - 1\n",
    "train = np.array(flowdata[:N+1])\n",
    "\n",
    "def make_input_vectors(z, mx, unroll=unroll):\n",
    "    n = len(z)\n",
    "    X = np.zeros((n - unroll, unroll), dtype='int32')\n",
    "    for i in range(n - unroll):\n",
    "        X[i,:] = z[i: i + unroll]\n",
    "    return X\n",
    "\n",
    "src_in = make_input_vectors(train[range(N), 2], nr_box)\n",
    "dst_in = make_input_vectors(train[range(N), 4], nr_box)\n",
    "src_pt_in = make_input_vectors(train[range(N), 3], nr_port)\n",
    "dst_pt_in = make_input_vectors(train[range(N), 5], nr_port)\n",
    "proto_in = make_input_vectors(train[range(N), 6], nr_proto)\n",
    "duration_in = make_input_vectors(train[range(N), 1], lg_duration)\n",
    "packets_in = make_input_vectors(train[range(N), 7], lg_packets)\n",
    "bytes_in = make_input_vectors(train[range(N),8], lg_bytes)\n",
    "next_src_in = make_input_vectors(train[range(1,N+1),2], nr_box)\n",
    "\n",
    "input = [src_in, dst_in, src_pt_in, dst_pt_in, proto_in, duration_in, packets_in, bytes_in, next_src_in]"
   ]
  },
  {
   "cell_type": "code",
   "execution_count": 19,
   "metadata": {
    "collapsed": false
   },
   "outputs": [
    {
     "name": "stdout",
     "output_type": "stream",
     "text": [
      "[(100, 4), (100, 7), (100, 22), (100, 32), (100, 326), (100, 326), (100, 256)]\n",
      "[[  1.95558313e-02   9.03169990e-01   7.71048889e-02   1.69265884e-04]\n",
      " [  1.96206402e-02   9.03165579e-01   7.70446807e-02   1.69080493e-04]\n",
      " [  1.96515322e-02   9.03333843e-01   7.68462494e-02   1.68348633e-04]\n",
      " [  1.96394380e-02   9.03406620e-01   7.67855272e-02   1.68427214e-04]\n",
      " [  1.96213331e-02   9.03596759e-01   7.66136646e-02   1.68210478e-04]\n",
      " [  1.96027644e-02   9.03900743e-01   7.63285533e-02   1.67958424e-04]\n",
      " [  1.95593331e-02   9.04235005e-01   7.60390535e-02   1.66587284e-04]\n",
      " [  1.96104385e-02   9.04052198e-01   7.61699080e-02   1.67455364e-04]\n",
      " [  1.95637364e-02   9.04038429e-01   7.62307942e-02   1.67035265e-04]]\n"
     ]
    }
   ],
   "source": [
    "# theano:\n",
    "\n",
    "test = [x[:100] for x in input]\n",
    "output = model.predict(test)\n",
    "wts = model.get_weights()\n",
    "\n",
    "print([y.shape for y in output])\n",
    "print(output[0][1:10])"
   ]
  },
  {
   "cell_type": "code",
   "execution_count": 23,
   "metadata": {
    "collapsed": false
   },
   "outputs": [
    {
     "data": {
      "text/plain": [
       "[<tensorflow.python.framework.ops.Tensor at 0x12b2e2490>,\n",
       " <tensorflow.python.framework.ops.Tensor at 0x12b2d0910>,\n",
       " <tensorflow.python.framework.ops.Tensor at 0x12b2e2190>,\n",
       " <tensorflow.python.framework.ops.Tensor at 0x12b2c11d0>,\n",
       " <tensorflow.python.framework.ops.Tensor at 0x12b2e2ad0>,\n",
       " <tensorflow.python.framework.ops.Tensor at 0x12b2c1350>,\n",
       " <tensorflow.python.framework.ops.Tensor at 0x12b2d0850>]"
      ]
     },
     "execution_count": 23,
     "metadata": {},
     "output_type": "execute_result"
    }
   ],
   "source": [
    "# tensorflow:\n",
    "\n",
    "output = model(input)\n",
    "output"
   ]
  },
  {
   "cell_type": "code",
   "execution_count": 20,
   "metadata": {
    "collapsed": false
   },
   "outputs": [
    {
     "name": "stdout",
     "output_type": "stream",
     "text": [
      "(326, 128)\n",
      "(326, 128)\n",
      "(4, 2)\n",
      "(7, 4)\n",
      "(22, 8)\n",
      "(32, 16)\n",
      "(10109, 256)\n",
      "(1054, 512)\n",
      "(512, 512)\n",
      "(512,)\n",
      "(1054, 512)\n",
      "(512, 512)\n",
      "(512,)\n",
      "(1054, 512)\n",
      "(512, 512)\n",
      "(512,)\n",
      "(1054, 512)\n",
      "(512, 512)\n",
      "(512,)\n",
      "(512, 512)\n",
      "(512, 512)\n",
      "(512,)\n",
      "(512, 512)\n",
      "(512, 512)\n",
      "(512,)\n",
      "(512, 512)\n",
      "(512, 512)\n",
      "(512,)\n",
      "(512, 512)\n",
      "(512, 512)\n",
      "(512,)\n",
      "(512, 32)\n",
      "(32,)\n",
      "(512, 326)\n",
      "(326,)\n",
      "(512, 7)\n",
      "(7,)\n",
      "(512, 256)\n",
      "(256,)\n",
      "(512, 22)\n",
      "(22,)\n",
      "(512, 4)\n",
      "(4,)\n",
      "(512, 326)\n",
      "(326,)\n"
     ]
    }
   ],
   "source": [
    "# of particular interest is the shared computer encoding, which will also be needed in the loss function:\n",
    "wts = model.get_weights()\n",
    "for w in wts: print(w.shape)"
   ]
  },
  {
   "cell_type": "code",
   "execution_count": 21,
   "metadata": {
    "collapsed": false
   },
   "outputs": [
    {
     "name": "stdout",
     "output_type": "stream",
     "text": [
      "(10109, 256)\n"
     ]
    }
   ],
   "source": [
    "cmp_code = wts[6]\n",
    "print(cmp_code.shape)"
   ]
  },
  {
   "cell_type": "markdown",
   "metadata": {},
   "source": [
    "# Training the model"
   ]
  },
  {
   "cell_type": "code",
   "execution_count": 22,
   "metadata": {
    "collapsed": true
   },
   "outputs": [],
   "source": [
    "def make_onehot(x, n):\n",
    "    N = len(x)-unroll\n",
    "    out = np.zeros([N,n])\n",
    "    for i in range(1,N):\n",
    "        out[i, x[i]] = 1\n",
    "    return out\n",
    "\n",
    "proto_tgt = make_onehot(train[range(1,N+1), 6], nr_proto)\n",
    "duration_tgt = make_onehot(train[range(1,N+1), 1], lg_duration)\n",
    "packets_tgt = make_onehot(train[range(1,N+1), 7], lg_packets)\n",
    "bytes_tgt = make_onehot(train[range(1,N+1),8], lg_bytes)\n",
    "src_pt_tgt = make_onehot(train[range(1,N+1), 3], nr_port)\n",
    "dst_pt_tgt = make_onehot(train[range(1,N+1), 5], nr_port)\n",
    "\n",
    "def make_nextdst(x, cmp_code):\n",
    "    N = len(x)-unroll\n",
    "    out = np.zeros([N, embed_dim])\n",
    "    for i in range(N):\n",
    "        out[i,:] = cmp_code[x[i],:]\n",
    "    return out\n",
    "\n",
    "dst_tgt = make_nextdst(train[range(1,N+1), 4], cmp_code)\n",
    "target = [proto_tgt, duration_tgt, packets_tgt, bytes_tgt, src_pt_tgt, dst_pt_tgt, dst_tgt]"
   ]
  },
  {
   "cell_type": "code",
   "execution_count": 23,
   "metadata": {
    "collapsed": false
   },
   "outputs": [
    {
     "name": "stdout",
     "output_type": "stream",
     "text": [
      "Epoch 1/1\n",
      " 1600/99967 [..............................] - ETA: 3007s - loss: 11.0297 - proto_output_loss: 0.5988 - duration_output_loss: 1.3936 - packets_output_loss: 1.6543 - bytes_output_loss: 2.2250 - src_port_output_loss: 1.2881 - dst_port_output_loss: 1.4357 - next_dst_loss: 0.0024"
     ]
    },
    {
     "ename": "KeyboardInterrupt",
     "evalue": "",
     "output_type": "error",
     "traceback": [
      "\u001b[0;31m---------------------------------------------------------------------------\u001b[0m",
      "\u001b[0;31mKeyboardInterrupt\u001b[0m                         Traceback (most recent call last)",
      "\u001b[0;32m<ipython-input-23-b5d471e96a9f>\u001b[0m in \u001b[0;36m<module>\u001b[0;34m()\u001b[0m\n\u001b[1;32m      6\u001b[0m     \u001b[0mcmp_code\u001b[0m \u001b[0;34m=\u001b[0m \u001b[0mmodel\u001b[0m\u001b[0;34m.\u001b[0m\u001b[0mget_weights\u001b[0m\u001b[0;34m(\u001b[0m\u001b[0;34m)\u001b[0m\u001b[0;34m[\u001b[0m\u001b[0;36m6\u001b[0m\u001b[0;34m]\u001b[0m\u001b[0;34m\u001b[0m\u001b[0m\n\u001b[1;32m      7\u001b[0m     \u001b[0mtarget\u001b[0m\u001b[0;34m[\u001b[0m\u001b[0;36m6\u001b[0m\u001b[0;34m]\u001b[0m \u001b[0;34m=\u001b[0m \u001b[0mmake_nextdst\u001b[0m\u001b[0;34m(\u001b[0m\u001b[0mtrain\u001b[0m\u001b[0;34m[\u001b[0m\u001b[0mrange\u001b[0m\u001b[0;34m(\u001b[0m\u001b[0;36m1\u001b[0m\u001b[0;34m,\u001b[0m\u001b[0mN\u001b[0m\u001b[0;34m+\u001b[0m\u001b[0;36m1\u001b[0m\u001b[0;34m)\u001b[0m\u001b[0;34m,\u001b[0m \u001b[0;36m4\u001b[0m\u001b[0;34m]\u001b[0m\u001b[0;34m,\u001b[0m \u001b[0mcmp_code\u001b[0m\u001b[0;34m)\u001b[0m\u001b[0;34m\u001b[0m\u001b[0m\n\u001b[0;32m----> 8\u001b[0;31m     \u001b[0mmodel\u001b[0m\u001b[0;34m.\u001b[0m\u001b[0mfit\u001b[0m\u001b[0;34m(\u001b[0m\u001b[0minput\u001b[0m\u001b[0;34m,\u001b[0m \u001b[0mtarget\u001b[0m\u001b[0;34m,\u001b[0m \u001b[0mnb_epoch\u001b[0m\u001b[0;34m=\u001b[0m\u001b[0;36m1\u001b[0m\u001b[0;34m,\u001b[0m \u001b[0mverbose\u001b[0m\u001b[0;34m=\u001b[0m\u001b[0;36m1\u001b[0m\u001b[0;34m)\u001b[0m\u001b[0;34m\u001b[0m\u001b[0m\n\u001b[0m",
      "\u001b[0;32m/Developer/anaconda/lib/python2.7/site-packages/keras/engine/training.pyc\u001b[0m in \u001b[0;36mfit\u001b[0;34m(self, x, y, batch_size, nb_epoch, verbose, callbacks, validation_split, validation_data, shuffle, class_weight, sample_weight)\u001b[0m\n\u001b[1;32m   1049\u001b[0m                               \u001b[0mverbose\u001b[0m\u001b[0;34m=\u001b[0m\u001b[0mverbose\u001b[0m\u001b[0;34m,\u001b[0m \u001b[0mcallbacks\u001b[0m\u001b[0;34m=\u001b[0m\u001b[0mcallbacks\u001b[0m\u001b[0;34m,\u001b[0m\u001b[0;34m\u001b[0m\u001b[0m\n\u001b[1;32m   1050\u001b[0m                               \u001b[0mval_f\u001b[0m\u001b[0;34m=\u001b[0m\u001b[0mval_f\u001b[0m\u001b[0;34m,\u001b[0m \u001b[0mval_ins\u001b[0m\u001b[0;34m=\u001b[0m\u001b[0mval_ins\u001b[0m\u001b[0;34m,\u001b[0m \u001b[0mshuffle\u001b[0m\u001b[0;34m=\u001b[0m\u001b[0mshuffle\u001b[0m\u001b[0;34m,\u001b[0m\u001b[0;34m\u001b[0m\u001b[0m\n\u001b[0;32m-> 1051\u001b[0;31m                               callback_metrics=callback_metrics)\n\u001b[0m\u001b[1;32m   1052\u001b[0m \u001b[0;34m\u001b[0m\u001b[0m\n\u001b[1;32m   1053\u001b[0m     \u001b[0;32mdef\u001b[0m \u001b[0mevaluate\u001b[0m\u001b[0;34m(\u001b[0m\u001b[0mself\u001b[0m\u001b[0;34m,\u001b[0m \u001b[0mx\u001b[0m\u001b[0;34m,\u001b[0m \u001b[0my\u001b[0m\u001b[0;34m,\u001b[0m \u001b[0mbatch_size\u001b[0m\u001b[0;34m=\u001b[0m\u001b[0;36m32\u001b[0m\u001b[0;34m,\u001b[0m \u001b[0mverbose\u001b[0m\u001b[0;34m=\u001b[0m\u001b[0;36m1\u001b[0m\u001b[0;34m,\u001b[0m \u001b[0msample_weight\u001b[0m\u001b[0;34m=\u001b[0m\u001b[0mNone\u001b[0m\u001b[0;34m)\u001b[0m\u001b[0;34m:\u001b[0m\u001b[0;34m\u001b[0m\u001b[0m\n",
      "\u001b[0;32m/Developer/anaconda/lib/python2.7/site-packages/keras/engine/training.pyc\u001b[0m in \u001b[0;36m_fit_loop\u001b[0;34m(self, f, ins, out_labels, batch_size, nb_epoch, verbose, callbacks, val_f, val_ins, shuffle, callback_metrics)\u001b[0m\n\u001b[1;32m    787\u001b[0m                 \u001b[0mbatch_logs\u001b[0m\u001b[0;34m[\u001b[0m\u001b[0;34m'size'\u001b[0m\u001b[0;34m]\u001b[0m \u001b[0;34m=\u001b[0m \u001b[0mlen\u001b[0m\u001b[0;34m(\u001b[0m\u001b[0mbatch_ids\u001b[0m\u001b[0;34m)\u001b[0m\u001b[0;34m\u001b[0m\u001b[0m\n\u001b[1;32m    788\u001b[0m                 \u001b[0mcallbacks\u001b[0m\u001b[0;34m.\u001b[0m\u001b[0mon_batch_begin\u001b[0m\u001b[0;34m(\u001b[0m\u001b[0mbatch_index\u001b[0m\u001b[0;34m,\u001b[0m \u001b[0mbatch_logs\u001b[0m\u001b[0;34m)\u001b[0m\u001b[0;34m\u001b[0m\u001b[0m\n\u001b[0;32m--> 789\u001b[0;31m                 \u001b[0mouts\u001b[0m \u001b[0;34m=\u001b[0m \u001b[0mf\u001b[0m\u001b[0;34m(\u001b[0m\u001b[0mins_batch\u001b[0m\u001b[0;34m)\u001b[0m\u001b[0;34m\u001b[0m\u001b[0m\n\u001b[0m\u001b[1;32m    790\u001b[0m                 \u001b[0;32mif\u001b[0m \u001b[0mtype\u001b[0m\u001b[0;34m(\u001b[0m\u001b[0mouts\u001b[0m\u001b[0;34m)\u001b[0m \u001b[0;34m!=\u001b[0m \u001b[0mlist\u001b[0m\u001b[0;34m:\u001b[0m\u001b[0;34m\u001b[0m\u001b[0m\n\u001b[1;32m    791\u001b[0m                     \u001b[0mouts\u001b[0m \u001b[0;34m=\u001b[0m \u001b[0;34m[\u001b[0m\u001b[0mouts\u001b[0m\u001b[0;34m]\u001b[0m\u001b[0;34m\u001b[0m\u001b[0m\n",
      "\u001b[0;32m/Developer/anaconda/lib/python2.7/site-packages/keras/backend/theano_backend.pyc\u001b[0m in \u001b[0;36m__call__\u001b[0;34m(self, inputs)\u001b[0m\n\u001b[1;32m    506\u001b[0m     \u001b[0;32mdef\u001b[0m \u001b[0m__call__\u001b[0m\u001b[0;34m(\u001b[0m\u001b[0mself\u001b[0m\u001b[0;34m,\u001b[0m \u001b[0minputs\u001b[0m\u001b[0;34m)\u001b[0m\u001b[0;34m:\u001b[0m\u001b[0;34m\u001b[0m\u001b[0m\n\u001b[1;32m    507\u001b[0m         \u001b[0;32massert\u001b[0m \u001b[0mtype\u001b[0m\u001b[0;34m(\u001b[0m\u001b[0minputs\u001b[0m\u001b[0;34m)\u001b[0m \u001b[0;32min\u001b[0m \u001b[0;34m{\u001b[0m\u001b[0mlist\u001b[0m\u001b[0;34m,\u001b[0m \u001b[0mtuple\u001b[0m\u001b[0;34m}\u001b[0m\u001b[0;34m\u001b[0m\u001b[0m\n\u001b[0;32m--> 508\u001b[0;31m         \u001b[0;32mreturn\u001b[0m \u001b[0mself\u001b[0m\u001b[0;34m.\u001b[0m\u001b[0mfunction\u001b[0m\u001b[0;34m(\u001b[0m\u001b[0;34m*\u001b[0m\u001b[0minputs\u001b[0m\u001b[0;34m)\u001b[0m\u001b[0;34m\u001b[0m\u001b[0m\n\u001b[0m\u001b[1;32m    509\u001b[0m \u001b[0;34m\u001b[0m\u001b[0m\n\u001b[1;32m    510\u001b[0m \u001b[0;34m\u001b[0m\u001b[0m\n",
      "\u001b[0;32m/Developer/anaconda/lib/python2.7/site-packages/theano/compile/function_module.pyc\u001b[0m in \u001b[0;36m__call__\u001b[0;34m(self, *args, **kwargs)\u001b[0m\n\u001b[1;32m    857\u001b[0m         \u001b[0mt0_fn\u001b[0m \u001b[0;34m=\u001b[0m \u001b[0mtime\u001b[0m\u001b[0;34m.\u001b[0m\u001b[0mtime\u001b[0m\u001b[0;34m(\u001b[0m\u001b[0;34m)\u001b[0m\u001b[0;34m\u001b[0m\u001b[0m\n\u001b[1;32m    858\u001b[0m         \u001b[0;32mtry\u001b[0m\u001b[0;34m:\u001b[0m\u001b[0;34m\u001b[0m\u001b[0m\n\u001b[0;32m--> 859\u001b[0;31m             \u001b[0moutputs\u001b[0m \u001b[0;34m=\u001b[0m \u001b[0mself\u001b[0m\u001b[0;34m.\u001b[0m\u001b[0mfn\u001b[0m\u001b[0;34m(\u001b[0m\u001b[0;34m)\u001b[0m\u001b[0;34m\u001b[0m\u001b[0m\n\u001b[0m\u001b[1;32m    860\u001b[0m         \u001b[0;32mexcept\u001b[0m \u001b[0mException\u001b[0m\u001b[0;34m:\u001b[0m\u001b[0;34m\u001b[0m\u001b[0m\n\u001b[1;32m    861\u001b[0m             \u001b[0;32mif\u001b[0m \u001b[0mhasattr\u001b[0m\u001b[0;34m(\u001b[0m\u001b[0mself\u001b[0m\u001b[0;34m.\u001b[0m\u001b[0mfn\u001b[0m\u001b[0;34m,\u001b[0m \u001b[0;34m'position_of_error'\u001b[0m\u001b[0;34m)\u001b[0m\u001b[0;34m:\u001b[0m\u001b[0;34m\u001b[0m\u001b[0m\n",
      "\u001b[0;32m/Developer/anaconda/lib/python2.7/site-packages/theano/scan_module/scan_op.pyc\u001b[0m in \u001b[0;36mrval\u001b[0;34m(p, i, o, n, allow_gc)\u001b[0m\n\u001b[1;32m    949\u001b[0m         def rval(p=p, i=node_input_storage, o=node_output_storage, n=node,\n\u001b[1;32m    950\u001b[0m                  allow_gc=allow_gc):\n\u001b[0;32m--> 951\u001b[0;31m             \u001b[0mr\u001b[0m \u001b[0;34m=\u001b[0m \u001b[0mp\u001b[0m\u001b[0;34m(\u001b[0m\u001b[0mn\u001b[0m\u001b[0;34m,\u001b[0m \u001b[0;34m[\u001b[0m\u001b[0mx\u001b[0m\u001b[0;34m[\u001b[0m\u001b[0;36m0\u001b[0m\u001b[0;34m]\u001b[0m \u001b[0;32mfor\u001b[0m \u001b[0mx\u001b[0m \u001b[0;32min\u001b[0m \u001b[0mi\u001b[0m\u001b[0;34m]\u001b[0m\u001b[0;34m,\u001b[0m \u001b[0mo\u001b[0m\u001b[0;34m)\u001b[0m\u001b[0;34m\u001b[0m\u001b[0m\n\u001b[0m\u001b[1;32m    952\u001b[0m             \u001b[0;32mfor\u001b[0m \u001b[0mo\u001b[0m \u001b[0;32min\u001b[0m \u001b[0mnode\u001b[0m\u001b[0;34m.\u001b[0m\u001b[0moutputs\u001b[0m\u001b[0;34m:\u001b[0m\u001b[0;34m\u001b[0m\u001b[0m\n\u001b[1;32m    953\u001b[0m                 \u001b[0mcompute_map\u001b[0m\u001b[0;34m[\u001b[0m\u001b[0mo\u001b[0m\u001b[0;34m]\u001b[0m\u001b[0;34m[\u001b[0m\u001b[0;36m0\u001b[0m\u001b[0;34m]\u001b[0m \u001b[0;34m=\u001b[0m \u001b[0mTrue\u001b[0m\u001b[0;34m\u001b[0m\u001b[0m\n",
      "\u001b[0;32m/Developer/anaconda/lib/python2.7/site-packages/theano/scan_module/scan_op.pyc\u001b[0m in \u001b[0;36m<lambda>\u001b[0;34m(node, args, outs)\u001b[0m\n\u001b[1;32m    938\u001b[0m                         \u001b[0margs\u001b[0m\u001b[0;34m,\u001b[0m\u001b[0;34m\u001b[0m\u001b[0m\n\u001b[1;32m    939\u001b[0m                         \u001b[0mouts\u001b[0m\u001b[0;34m,\u001b[0m\u001b[0;34m\u001b[0m\u001b[0m\n\u001b[0;32m--> 940\u001b[0;31m                         self, node)\n\u001b[0m\u001b[1;32m    941\u001b[0m         \u001b[0;32mexcept\u001b[0m \u001b[0;34m(\u001b[0m\u001b[0mImportError\u001b[0m\u001b[0;34m,\u001b[0m \u001b[0mtheano\u001b[0m\u001b[0;34m.\u001b[0m\u001b[0mgof\u001b[0m\u001b[0;34m.\u001b[0m\u001b[0mcmodule\u001b[0m\u001b[0;34m.\u001b[0m\u001b[0mMissingGXX\u001b[0m\u001b[0;34m)\u001b[0m\u001b[0;34m:\u001b[0m\u001b[0;34m\u001b[0m\u001b[0m\n\u001b[1;32m    942\u001b[0m             \u001b[0mp\u001b[0m \u001b[0;34m=\u001b[0m \u001b[0mself\u001b[0m\u001b[0;34m.\u001b[0m\u001b[0mexecute\u001b[0m\u001b[0;34m\u001b[0m\u001b[0m\n",
      "\u001b[0;32mtheano/scan_module/scan_perform.pyx\u001b[0m in \u001b[0;36mtheano.scan_module.scan_perform.perform (/Users/wmoxbury/.theano/compiledir_Darwin-14.5.0-x86_64-i386-64bit-i386-2.7.11-64/scan_perform/mod.cpp:4193)\u001b[0;34m()\u001b[0m\n",
      "\u001b[0;32m/Developer/anaconda/lib/python2.7/site-packages/theano/gof/op.pyc\u001b[0m in \u001b[0;36mrval\u001b[0;34m(p, i, o, n)\u001b[0m\n\u001b[1;32m    909\u001b[0m         \u001b[0;32mif\u001b[0m \u001b[0mparams\u001b[0m \u001b[0;32mis\u001b[0m \u001b[0mgraph\u001b[0m\u001b[0;34m.\u001b[0m\u001b[0mNoParams\u001b[0m\u001b[0;34m:\u001b[0m\u001b[0;34m\u001b[0m\u001b[0m\n\u001b[1;32m    910\u001b[0m             \u001b[0;31m# default arguments are stored in the closure of `rval`\u001b[0m\u001b[0;34m\u001b[0m\u001b[0;34m\u001b[0m\u001b[0m\n\u001b[0;32m--> 911\u001b[0;31m             \u001b[0;32mdef\u001b[0m \u001b[0mrval\u001b[0m\u001b[0;34m(\u001b[0m\u001b[0mp\u001b[0m\u001b[0;34m=\u001b[0m\u001b[0mp\u001b[0m\u001b[0;34m,\u001b[0m \u001b[0mi\u001b[0m\u001b[0;34m=\u001b[0m\u001b[0mnode_input_storage\u001b[0m\u001b[0;34m,\u001b[0m \u001b[0mo\u001b[0m\u001b[0;34m=\u001b[0m\u001b[0mnode_output_storage\u001b[0m\u001b[0;34m,\u001b[0m \u001b[0mn\u001b[0m\u001b[0;34m=\u001b[0m\u001b[0mnode\u001b[0m\u001b[0;34m)\u001b[0m\u001b[0;34m:\u001b[0m\u001b[0;34m\u001b[0m\u001b[0m\n\u001b[0m\u001b[1;32m    912\u001b[0m                 \u001b[0mr\u001b[0m \u001b[0;34m=\u001b[0m \u001b[0mp\u001b[0m\u001b[0;34m(\u001b[0m\u001b[0mn\u001b[0m\u001b[0;34m,\u001b[0m \u001b[0;34m[\u001b[0m\u001b[0mx\u001b[0m\u001b[0;34m[\u001b[0m\u001b[0;36m0\u001b[0m\u001b[0;34m]\u001b[0m \u001b[0;32mfor\u001b[0m \u001b[0mx\u001b[0m \u001b[0;32min\u001b[0m \u001b[0mi\u001b[0m\u001b[0;34m]\u001b[0m\u001b[0;34m,\u001b[0m \u001b[0mo\u001b[0m\u001b[0;34m)\u001b[0m\u001b[0;34m\u001b[0m\u001b[0m\n\u001b[1;32m    913\u001b[0m                 \u001b[0;32mfor\u001b[0m \u001b[0mo\u001b[0m \u001b[0;32min\u001b[0m \u001b[0mnode\u001b[0m\u001b[0;34m.\u001b[0m\u001b[0moutputs\u001b[0m\u001b[0;34m:\u001b[0m\u001b[0;34m\u001b[0m\u001b[0m\n",
      "\u001b[0;31mKeyboardInterrupt\u001b[0m: "
     ]
    }
   ],
   "source": [
    "# model fitting -- after each epoch, reset the target dst using the updated computer embedding matrix:\n",
    "# for 10^5 records, takes 50 mins/epoch\n",
    "\n",
    "nr_epochs = 5\n",
    "\n",
    "for i in range(nr_epochs):\n",
    "    cmp_code = model.get_weights()[6]\n",
    "    target[6] = make_nextdst(train[range(1,N+1), 4], cmp_code)\n",
    "    model.fit(input, target, nb_epoch=1, verbose=1)"
   ]
  },
  {
   "cell_type": "code",
   "execution_count": null,
   "metadata": {
    "collapsed": true
   },
   "outputs": [],
   "source": []
  },
  {
   "cell_type": "code",
   "execution_count": null,
   "metadata": {
    "collapsed": true
   },
   "outputs": [],
   "source": []
  }
 ],
 "metadata": {
  "kernelspec": {
   "display_name": "Python 2",
   "language": "python",
   "name": "python2"
  },
  "language_info": {
   "codemirror_mode": {
    "name": "ipython",
    "version": 2
   },
   "file_extension": ".py",
   "mimetype": "text/x-python",
   "name": "python",
   "nbconvert_exporter": "python",
   "pygments_lexer": "ipython2",
   "version": "2.7.11"
  }
 },
 "nbformat": 4,
 "nbformat_minor": 0
}
