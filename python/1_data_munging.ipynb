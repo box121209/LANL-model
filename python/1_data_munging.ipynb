{
 "cells": [
  {
   "cell_type": "markdown",
   "metadata": {
    "collapsed": true
   },
   "source": [
    "# Munging the LANL netflow set in PySpark"
   ]
  },
  {
   "cell_type": "markdown",
   "metadata": {},
   "source": [
    "Some remarks on the system configuration and set-up for the use of PySpark below...\n",
    "\n",
    "The PySpark kernel can be found at <tt>~/.ipython/kernels/pyspark/kernel.json</tt>\n",
    "\n",
    "This file contains, in field `'env'`, a subfield\n",
    "<code>\n",
    "  \"PYSPARK_SUBMIT_ARGS\": \"--master local[4] pyspark-shell\"\n",
    "</code>\n",
    "\n",
    "So the PySpark session should run locally and (I assumed) look in the local file system for data.\n",
    "\n",
    "Including a valid environment variable HADOOP_HOME broke this behaviour, with the session now querying `localhost:9000` for HDFS services. \n",
    "\n",
    "As a fix, I now do the following before opening Jupyter notebook:\n",
    "<code>\n",
    "$HADOOP_HOME/sbin/start-all.sh\n",
    "</code>\n",
    "\n",
    "To check that the relevant HDSF services are up, `jps` should result in something like:\n",
    "<code>\n",
    "2465 Jps\n",
    "1603 NameNode\n",
    "1316 ResourceManager\n",
    "841 DataNode\n",
    "941 SecondaryNameNode\n",
    "1406 NodeManager\n",
    "</code>\n",
    "\n",
    "With relevant data copied into HDFS using `hadoop fs -put`, we're good to open Jupyter..."
   ]
  },
  {
   "cell_type": "code",
   "execution_count": 1,
   "metadata": {
    "collapsed": false
   },
   "outputs": [
    {
     "data": {
      "text/plain": [
       "[['1', '0', 'C1065', '389', 'C3799', 'N10451', '6', '10', '5323'],\n",
       " ['1', '0', 'C1423', 'N1136', 'C1707', 'N1', '6', '5', '847'],\n",
       " ['1', '0', 'C1423', 'N1142', 'C1707', 'N1', '6', '5', '847'],\n",
       " ['1', '0', 'C14909', 'N8191', 'C5720', '2049', '6', '1', '52'],\n",
       " ['1', '0', 'C14909', 'N8192', 'C5720', '2049', '6', '1', '52'],\n",
       " ['1', '0', 'C14909', 'N8193', 'C5720', '2049', '6', '1', '52'],\n",
       " ['1', '0', 'C1707', 'N1', 'C1423', 'N1136', '6', '4', '414'],\n",
       " ['1', '0', 'C1707', 'N1', 'C1423', 'N1142', '6', '4', '413'],\n",
       " ['1', '0', 'C1707', 'N1', 'C925', 'N10487', '6', '4', '414'],\n",
       " ['1', '0', 'C1707', 'N1', 'C925', 'N10491', '6', '4', '413']]"
      ]
     },
     "execution_count": 1,
     "metadata": {},
     "output_type": "execute_result"
    }
   ],
   "source": [
    "# the full netflow set:\n",
    "\n",
    "# HADOOP_HOME environment variable must be commented out (see remarks above):\n",
    "\n",
    "path = \"~/data/LANL/\"\n",
    "flowfile = path + \"flows.txt\"\n",
    "flows = sc.textFile(flowfile)\\\n",
    "    .map(lambda line: [str(x) for x in line.split(',')])\n",
    "flows.take(10)"
   ]
  },
  {
   "cell_type": "code",
   "execution_count": 3,
   "metadata": {
    "collapsed": false
   },
   "outputs": [
    {
     "data": {
      "text/plain": [
       "129977412"
      ]
     },
     "execution_count": 3,
     "metadata": {},
     "output_type": "execute_result"
    }
   ],
   "source": [
    "# how many flows?\n",
    "\n",
    "flows.count()\n",
    "\n",
    "# 129,977,412"
   ]
  },
  {
   "cell_type": "code",
   "execution_count": 25,
   "metadata": {
    "collapsed": false
   },
   "outputs": [
    {
     "data": {
      "text/plain": [
       "10109"
      ]
     },
     "execution_count": 25,
     "metadata": {},
     "output_type": "execute_result"
    }
   ],
   "source": [
    "# restrict to the busiest boxes (listed on file):\n",
    "\n",
    "import re\n",
    "\n",
    "bfile = open(path + \"bbox.txt\")\n",
    "bbox = set([re.sub('[\\\"\\n]+', \"\", s) for s in bfile.readlines()])\n",
    "\n",
    "# index for later use:\n",
    "box_indices = dict((c, i) for i, c in enumerate(bbox))\n",
    "indices_box = dict((i, c) for i, c in enumerate(bbox))\n",
    "\n",
    "# how many distinct?\n",
    "len(bbox)"
   ]
  },
  {
   "cell_type": "code",
   "execution_count": 26,
   "metadata": {
    "collapsed": true
   },
   "outputs": [],
   "source": [
    "# define the flow set we're interested in:\n",
    "\n",
    "def f(x):\n",
    "    return [int(x[0]), int(x[1]), x[2], x[3], x[4], x[5], int(x[6]), int(x[7]), int(x[8])]\n",
    "\n",
    "subflows = flows.filter(lambda f: f[2] in bbox and f[4] in bbox).map(f)"
   ]
  },
  {
   "cell_type": "code",
   "execution_count": 76,
   "metadata": {
    "collapsed": false
   },
   "outputs": [
    {
     "data": {
      "text/plain": [
       "129925366"
      ]
     },
     "execution_count": 76,
     "metadata": {},
     "output_type": "execute_result"
    }
   ],
   "source": [
    "# how many flows in the subset?\n",
    "\n",
    "subflows.count()\n",
    "\n",
    "# should be 129,925,366"
   ]
  },
  {
   "cell_type": "code",
   "execution_count": 32,
   "metadata": {
    "collapsed": false
   },
   "outputs": [
    {
     "data": {
      "text/plain": [
       "PythonRDD[52] at RDD at PythonRDD.scala:43"
      ]
     },
     "execution_count": 32,
     "metadata": {},
     "output_type": "execute_result"
    }
   ],
   "source": [
    "# the integer features for suitable binning:\n",
    "\n",
    "duration = subflows.map(lambda x: x[1])\n",
    "packets = subflows.map(lambda x: x[7])\n",
    "bytes = subflows.map(lambda x: x[8])\n",
    "\n",
    "duration.cache()\n",
    "packets.cache()\n",
    "bytes.cache()"
   ]
  },
  {
   "cell_type": "markdown",
   "metadata": {},
   "source": [
    "# Duration"
   ]
  },
  {
   "cell_type": "code",
   "execution_count": 5,
   "metadata": {
    "collapsed": false
   },
   "outputs": [
    {
     "name": "stdout",
     "output_type": "stream",
     "text": [
      "Duration range: 0 , 76\n"
     ]
    }
   ],
   "source": [
    "from __future__ import print_function\n",
    "\n",
    "duration_min = duration.min()\n",
    "duration_max = duration.max()\n",
    "\n",
    "print(\"Duration range:\", duration_min, \",\", duration_max)"
   ]
  },
  {
   "cell_type": "markdown",
   "metadata": {},
   "source": [
    "Define two 'scale-free' binning functions for use below:"
   ]
  },
  {
   "cell_type": "code",
   "execution_count": 18,
   "metadata": {
    "collapsed": true
   },
   "outputs": [],
   "source": [
    "from math import floor, ceil, pow\n",
    "from numpy import abs\n",
    "\n",
    "def bin_fn(x, mn, mx, alpha, nbins):\n",
    "    y_mx = pow(mx+1, -alpha)\n",
    "    y_mn = pow(mn, -alpha)\n",
    "    blen = abs(y_mx - y_mn)/float(nbins)\n",
    "    y = pow(x, -alpha)\n",
    "    return int(floor(abs(y - y_mn)/blen))\n",
    "\n",
    "def bin_breaks(mn, mx, alpha, nbins):\n",
    "    y_mx = pow(mx+1, -alpha)\n",
    "    y_mn = pow(mn, -alpha)\n",
    "    blen = (y_mx - y_mn)/float(nbins)\n",
    "    return [round(pow(y_mn + k*blen, -1/alpha), 2) for k in range(nbins+1)]"
   ]
  },
  {
   "cell_type": "code",
   "execution_count": 274,
   "metadata": {
    "collapsed": false
   },
   "outputs": [],
   "source": [
    "duration_coef = 0.5\n",
    "duration_nbins = 24\n",
    "\n",
    "def f(x): \n",
    "    return (bin_fn(x+1, duration_min+1, duration_max+1, duration_coef, duration_nbins))\n",
    "duration_lbin = duration.map(f)\n",
    "duration_hist = duration_lbin.countByValue()"
   ]
  },
  {
   "cell_type": "code",
   "execution_count": 275,
   "metadata": {
    "collapsed": false
   },
   "outputs": [
    {
     "data": {
      "image/png": "[encoded data removed]",
      "text/plain": [
       "<matplotlib.figure.Figure at 0x10baf4110>"
      ]
     },
     "metadata": {},
     "output_type": "display_data"
    }
   ],
   "source": [
    "%matplotlib inline\n",
    "import matplotlib.pyplot as plt\n",
    "\n",
    "k = sorted(duration_hist)\n",
    "v = [duration_hist[x] for x in k]\n",
    "plt.semilogy(k,v)\n",
    "plt.stem(k,v)\n",
    "\n",
    "plt.axis([-1, duration_nbins+1, 1e05, 2e08])\n",
    "plt.show()"
   ]
  },
  {
   "cell_type": "code",
   "execution_count": 276,
   "metadata": {
    "collapsed": false
   },
   "outputs": [
    {
     "name": "stdout",
     "output_type": "stream",
     "text": [
      "0 :\t[ 0 , 0 ]\n",
      "7 :\t[ 1 , 1 ]\n",
      "11 :\t[ 2 , 2 ]\n",
      "13 :\t[ 3 , 3 ]\n",
      "14 :\t[ 4 , 4 ]\n",
      "16 :\t[ 5 , 6 ]\n",
      "17 :\t[ 7 , 7 ]\n",
      "18 :\t[ 8 , 10 ]\n",
      "19 :\t[ 11 , 13 ]\n",
      "20 :\t[ 14 , 18 ]\n",
      "21 :\t[ 19 , 27 ]\n",
      "22 :\t[ 28 , 43 ]\n",
      "23 :\t[ 44 , 77 ]\n"
     ]
    }
   ],
   "source": [
    "# interpet what these values mean as packet ranges:\n",
    "\n",
    "breaks = [round(b-1,2) for b in bin_breaks(duration_min+1, duration_max+1, duration_coef, duration_nbins)]\n",
    "keys = [int(k) for k in duration_hist.keys()]\n",
    "lower = [int(ceil(breaks[i])) for i in keys]\n",
    "upper = [int(floor(breaks[i+1])) for i in keys]\n",
    "for z in zip(keys, lower, upper): \n",
    "    print(z[0],':\\t[', z[1], ',', z[2],']')"
   ]
  },
  {
   "cell_type": "code",
   "execution_count": 277,
   "metadata": {
    "collapsed": false
   },
   "outputs": [
    {
     "data": {
      "text/plain": [
       "PythonRDD[50] at RDD at PythonRDD.scala:43"
      ]
     },
     "execution_count": 277,
     "metadata": {},
     "output_type": "execute_result"
    }
   ],
   "source": [
    "# free up cached memory:\n",
    "\n",
    "duration.unpersist()"
   ]
  },
  {
   "cell_type": "markdown",
   "metadata": {},
   "source": [
    "# Packets"
   ]
  },
  {
   "cell_type": "code",
   "execution_count": 116,
   "metadata": {
    "collapsed": false
   },
   "outputs": [
    {
     "name": "stdout",
     "output_type": "stream",
     "text": [
      "Packets range: 1 , 2471188\n"
     ]
    }
   ],
   "source": [
    "from __future__ import print_function\n",
    "\n",
    "packets_min = packets.min()\n",
    "packets_max = packets.max()\n",
    "\n",
    "print(\"Packets range:\", packets_min, \",\", packets_max)"
   ]
  },
  {
   "cell_type": "markdown",
   "metadata": {},
   "source": [
    "Fit the power law distribution:"
   ]
  },
  {
   "cell_type": "code",
   "execution_count": 117,
   "metadata": {
    "collapsed": true
   },
   "outputs": [],
   "source": [
    "from math import floor, log\n",
    "\n",
    "packets_freq = packets.map(lambda x: floor(log(x, 2))).countByValue()"
   ]
  },
  {
   "cell_type": "code",
   "execution_count": 212,
   "metadata": {
    "collapsed": false
   },
   "outputs": [
    {
     "data": {
      "image/png": "[encoded data removed]",
      "text/plain": [
       "<matplotlib.figure.Figure at 0x10bcbd250>"
      ]
     },
     "metadata": {},
     "output_type": "display_data"
    }
   ],
   "source": [
    "from math import pow\n",
    "\n",
    "plt.semilogy(packets_freq.keys(), packets_freq.values())\n",
    "plt.stem(packets_freq.keys(), packets_freq.values())\n",
    "\n",
    "packets_coef = 0.75\n",
    "x = range(24)\n",
    "y = [1e08 * pow(2, -t*packets_coef) for t in x]\n",
    "plt.plot(x,y, c='r')\n",
    "\n",
    "plt.axis([-1,24,1e02,1e08])\n",
    "plt.show()"
   ]
  },
  {
   "cell_type": "markdown",
   "metadata": {},
   "source": [
    "Now apply this coefficient to the binning procedure:"
   ]
  },
  {
   "cell_type": "code",
   "execution_count": 213,
   "metadata": {
    "collapsed": false
   },
   "outputs": [],
   "source": [
    "packets_nbins = 32\n",
    "\n",
    "packets_lbin = packets.map(lambda x: bin_fn(x, packets_min, packets_max, packets_coef, packets_nbins))\n",
    "packets_hist = packets_lbin.countByValue()"
   ]
  },
  {
   "cell_type": "code",
   "execution_count": 215,
   "metadata": {
    "collapsed": false
   },
   "outputs": [
    {
     "data": {
      "image/png": "[encoded data removed]",
      "text/plain": [
       "<matplotlib.figure.Figure at 0x10ba71450>"
      ]
     },
     "metadata": {},
     "output_type": "display_data"
    }
   ],
   "source": [
    "%matplotlib inline\n",
    "import matplotlib.pyplot as plt\n",
    "\n",
    "k = sorted(packets_hist)\n",
    "v = [packets_hist[x] for x in k]\n",
    "plt.semilogy(k,v)\n",
    "plt.stem(k,v)\n",
    "\n",
    "plt.axis([-1,33,1e06,1e08])\n",
    "plt.show()"
   ]
  },
  {
   "cell_type": "code",
   "execution_count": 239,
   "metadata": {
    "collapsed": false
   },
   "outputs": [
    {
     "name": "stdout",
     "output_type": "stream",
     "text": [
      "0 :\t[ 1 , 1 ]\n",
      "12 :\t[ 2 , 2 ]\n",
      "17 :\t[ 3 , 3 ]\n",
      "20 :\t[ 4 , 4 ]\n",
      "22 :\t[ 5 , 5 ]\n",
      "23 :\t[ 6 , 6 ]\n",
      "24 :\t[ 7 , 7 ]\n",
      "25 :\t[ 8 , 9 ]\n",
      "26 :\t[ 10 , 11 ]\n",
      "27 :\t[ 12 , 16 ]\n",
      "28 :\t[ 16 , 23 ]\n",
      "29 :\t[ 24 , 40 ]\n",
      "30 :\t[ 41 , 101 ]\n",
      "31 :\t[ 102 , 2471189 ]\n"
     ]
    }
   ],
   "source": [
    "# interpet what these values mean as packet ranges:\n",
    "\n",
    "breaks = [round(b,2) for b in bin_breaks(packets_min, packets_max, packets_coef, packets_nbins)]\n",
    "keys = [int(k) for k in packets_hist.keys()]\n",
    "lower = [int(ceil(breaks[i])) for i in keys]\n",
    "upper = [int(floor(breaks[i+1])) for i in keys]\n",
    "for z in zip(keys, lower, upper): \n",
    "    print(z[0],':\\t[', z[1], ',', z[2],']')"
   ]
  },
  {
   "cell_type": "code",
   "execution_count": 236,
   "metadata": {
    "collapsed": false
   },
   "outputs": [
    {
     "data": {
      "text/plain": [
       "PythonRDD[4] at RDD at PythonRDD.scala:43"
      ]
     },
     "execution_count": 236,
     "metadata": {},
     "output_type": "execute_result"
    }
   ],
   "source": [
    "# free up cached memory:\n",
    "\n",
    "packets.unpersist()"
   ]
  },
  {
   "cell_type": "markdown",
   "metadata": {},
   "source": [
    "# Bytes"
   ]
  },
  {
   "cell_type": "code",
   "execution_count": 33,
   "metadata": {
    "collapsed": false
   },
   "outputs": [
    {
     "ename": "ValueError",
     "evalue": "Can not reduce() empty RDD",
     "output_type": "error",
     "traceback": [
      "\u001b[0;31m---------------------------------------------------------------------------\u001b[0m",
      "\u001b[0;31mValueError\u001b[0m                                Traceback (most recent call last)",
      "\u001b[0;32m<ipython-input-33-fc0d47869317>\u001b[0m in \u001b[0;36m<module>\u001b[0;34m()\u001b[0m\n\u001b[1;32m      1\u001b[0m \u001b[0;32mfrom\u001b[0m \u001b[0m__future__\u001b[0m \u001b[0;32mimport\u001b[0m \u001b[0mprint_function\u001b[0m\u001b[0;34m\u001b[0m\u001b[0m\n\u001b[1;32m      2\u001b[0m \u001b[0;34m\u001b[0m\u001b[0m\n\u001b[0;32m----> 3\u001b[0;31m \u001b[0mbytes_min\u001b[0m \u001b[0;34m=\u001b[0m \u001b[0mbytes\u001b[0m\u001b[0;34m.\u001b[0m\u001b[0mmin\u001b[0m\u001b[0;34m(\u001b[0m\u001b[0;34m)\u001b[0m\u001b[0;34m\u001b[0m\u001b[0m\n\u001b[0m\u001b[1;32m      4\u001b[0m \u001b[0mbytes_max\u001b[0m \u001b[0;34m=\u001b[0m \u001b[0mbytes\u001b[0m\u001b[0;34m.\u001b[0m\u001b[0mmax\u001b[0m\u001b[0;34m(\u001b[0m\u001b[0;34m)\u001b[0m\u001b[0;34m\u001b[0m\u001b[0m\n\u001b[1;32m      5\u001b[0m \u001b[0;34m\u001b[0m\u001b[0m\n",
      "\u001b[0;32m/Developer/Spark/spark-1.4.1/python/pyspark/rdd.pyc\u001b[0m in \u001b[0;36mmin\u001b[0;34m(self, key)\u001b[0m\n\u001b[1;32m    963\u001b[0m         \"\"\"\n\u001b[1;32m    964\u001b[0m         \u001b[0;32mif\u001b[0m \u001b[0mkey\u001b[0m \u001b[0;32mis\u001b[0m \u001b[0mNone\u001b[0m\u001b[0;34m:\u001b[0m\u001b[0;34m\u001b[0m\u001b[0m\n\u001b[0;32m--> 965\u001b[0;31m             \u001b[0;32mreturn\u001b[0m \u001b[0mself\u001b[0m\u001b[0;34m.\u001b[0m\u001b[0mreduce\u001b[0m\u001b[0;34m(\u001b[0m\u001b[0mmin\u001b[0m\u001b[0;34m)\u001b[0m\u001b[0;34m\u001b[0m\u001b[0m\n\u001b[0m\u001b[1;32m    966\u001b[0m         \u001b[0;32mreturn\u001b[0m \u001b[0mself\u001b[0m\u001b[0;34m.\u001b[0m\u001b[0mreduce\u001b[0m\u001b[0;34m(\u001b[0m\u001b[0;32mlambda\u001b[0m \u001b[0ma\u001b[0m\u001b[0;34m,\u001b[0m \u001b[0mb\u001b[0m\u001b[0;34m:\u001b[0m \u001b[0mmin\u001b[0m\u001b[0;34m(\u001b[0m\u001b[0ma\u001b[0m\u001b[0;34m,\u001b[0m \u001b[0mb\u001b[0m\u001b[0;34m,\u001b[0m \u001b[0mkey\u001b[0m\u001b[0;34m=\u001b[0m\u001b[0mkey\u001b[0m\u001b[0;34m)\u001b[0m\u001b[0;34m)\u001b[0m\u001b[0;34m\u001b[0m\u001b[0m\n\u001b[1;32m    967\u001b[0m \u001b[0;34m\u001b[0m\u001b[0m\n",
      "\u001b[0;32m/Developer/Spark/spark-1.4.1/python/pyspark/rdd.pyc\u001b[0m in \u001b[0;36mreduce\u001b[0;34m(self, f)\u001b[0m\n\u001b[1;32m    784\u001b[0m         \u001b[0;32mif\u001b[0m \u001b[0mvals\u001b[0m\u001b[0;34m:\u001b[0m\u001b[0;34m\u001b[0m\u001b[0m\n\u001b[1;32m    785\u001b[0m             \u001b[0;32mreturn\u001b[0m \u001b[0mreduce\u001b[0m\u001b[0;34m(\u001b[0m\u001b[0mf\u001b[0m\u001b[0;34m,\u001b[0m \u001b[0mvals\u001b[0m\u001b[0;34m)\u001b[0m\u001b[0;34m\u001b[0m\u001b[0m\n\u001b[0;32m--> 786\u001b[0;31m         \u001b[0;32mraise\u001b[0m \u001b[0mValueError\u001b[0m\u001b[0;34m(\u001b[0m\u001b[0;34m\"Can not reduce() empty RDD\"\u001b[0m\u001b[0;34m)\u001b[0m\u001b[0;34m\u001b[0m\u001b[0m\n\u001b[0m\u001b[1;32m    787\u001b[0m \u001b[0;34m\u001b[0m\u001b[0m\n\u001b[1;32m    788\u001b[0m     \u001b[0;32mdef\u001b[0m \u001b[0mtreeReduce\u001b[0m\u001b[0;34m(\u001b[0m\u001b[0mself\u001b[0m\u001b[0;34m,\u001b[0m \u001b[0mf\u001b[0m\u001b[0;34m,\u001b[0m \u001b[0mdepth\u001b[0m\u001b[0;34m=\u001b[0m\u001b[0;36m2\u001b[0m\u001b[0;34m)\u001b[0m\u001b[0;34m:\u001b[0m\u001b[0;34m\u001b[0m\u001b[0m\n",
      "\u001b[0;31mValueError\u001b[0m: Can not reduce() empty RDD"
     ]
    }
   ],
   "source": [
    "from __future__ import print_function\n",
    "\n",
    "bytes_min = bytes.min()\n",
    "bytes_max = bytes.max()\n",
    "\n",
    "print(\"Bytes range:\", bytes_min, \",\", bytes_max)"
   ]
  },
  {
   "cell_type": "markdown",
   "metadata": {},
   "source": [
    "Let's take a look at the power law distribution:"
   ]
  },
  {
   "cell_type": "code",
   "execution_count": 14,
   "metadata": {
    "collapsed": true
   },
   "outputs": [],
   "source": [
    "from math import floor, log\n",
    "\n",
    "bytes_freq = bytes.map(lambda x: floor(log(x, 2))).countByValue()"
   ]
  },
  {
   "cell_type": "code",
   "execution_count": 16,
   "metadata": {
    "collapsed": false
   },
   "outputs": [
    {
     "data": {
      "image/png": "[encoded data removed]",
      "text/plain": [
       "<matplotlib.figure.Figure at 0x10a1e0cd0>"
      ]
     },
     "metadata": {},
     "output_type": "display_data"
    }
   ],
   "source": [
    "%matplotlib inline\n",
    "import matplotlib.pyplot as plt\n",
    "\n",
    "plt.semilogy(bytes_freq.keys(), bytes_freq.values())\n",
    "plt.stem(bytes_freq.keys(), bytes_freq.values())\n",
    "\n",
    "bytes_coef = 0.5\n",
    "x = range(4,32)\n",
    "y = [2e08 * pow(2, -t*bytes_coef) for t in x]\n",
    "\n",
    "plt.plot(x,y, c='r')\n",
    "\n",
    "plt.axis([4,33,1e02,1e08])\n",
    "plt.show()"
   ]
  },
  {
   "cell_type": "markdown",
   "metadata": {},
   "source": [
    "Now apply this coefficient to the binning procedure:"
   ]
  },
  {
   "cell_type": "code",
   "execution_count": 19,
   "metadata": {
    "collapsed": false
   },
   "outputs": [],
   "source": [
    "bytes_nbins = 32\n",
    "\n",
    "# function bin_fn() defined earlier\n",
    "\n",
    "bytes_lbin = bytes.map(lambda x: bin_fn(x, bytes_min, bytes_max, bytes_coef, bytes_nbins))\n",
    "bytes_hist = bytes_lbin.countByValue()"
   ]
  },
  {
   "cell_type": "code",
   "execution_count": 20,
   "metadata": {
    "collapsed": false
   },
   "outputs": [
    {
     "data": {
      "image/png": "[encoded data removed]",
      "text/plain": [
       "<matplotlib.figure.Figure at 0x10a03d290>"
      ]
     },
     "metadata": {},
     "output_type": "display_data"
    }
   ],
   "source": [
    "plt.semilogy(bytes_hist.keys(), bytes_hist.values())\n",
    "plt.stem(bytes_hist.keys(), bytes_hist.values())\n",
    "plt.axis([-1,33,1e03,1e08])\n",
    "plt.show()"
   ]
  },
  {
   "cell_type": "code",
   "execution_count": 256,
   "metadata": {
    "collapsed": false
   },
   "outputs": [
    {
     "name": "stdout",
     "output_type": "stream",
     "text": [
      "0 :\t[ 46 , 49 ]\n",
      "1 :\t[ 50 , 52 ]\n",
      "2 :\t[ 53 , 56 ]\n",
      "3 :\t[ 57 , 60 ]\n",
      "4 :\t[ 61 , 64 ]\n",
      "5 :\t[ 65 , 69 ]\n",
      "6 :\t[ 70 , 75 ]\n",
      "7 :\t[ 76 , 81 ]\n",
      "8 :\t[ 82 , 89 ]\n",
      "9 :\t[ 90 , 97 ]\n",
      "10 :\t[ 98 , 106 ]\n",
      "11 :\t[ 107 , 117 ]\n",
      "12 :\t[ 118 , 130 ]\n",
      "13 :\t[ 131 , 145 ]\n",
      "14 :\t[ 146 , 162 ]\n",
      "15 :\t[ 163 , 183 ]\n",
      "16 :\t[ 184 , 209 ]\n",
      "17 :\t[ 210 , 240 ]\n",
      "18 :\t[ 241 , 278 ]\n",
      "19 :\t[ 279 , 326 ]\n",
      "20 :\t[ 327 , 389 ]\n",
      "21 :\t[ 390 , 470 ]\n",
      "22 :\t[ 471 , 581 ]\n",
      "23 :\t[ 582 , 735 ]\n",
      "24 :\t[ 736 , 960 ]\n",
      "25 :\t[ 961 , 1306 ]\n",
      "26 :\t[ 1307 , 1881 ]\n",
      "27 :\t[ 1882 , 2938 ]\n",
      "28 :\t[ 2939 , 5220 ]\n",
      "29 :\t[ 5221 , 11729 ]\n",
      "30 :\t[ 11730 , 46723 ]\n",
      "31 :\t[ 46724 , 2681847377 ]\n"
     ]
    }
   ],
   "source": [
    "# interpet what these values mean as packet ranges:\n",
    "\n",
    "# function bin_breaks() defined earlier\n",
    "\n",
    "breaks = [round(b,2) for b in bin_breaks(bytes_min, bytes_max, bytes_coef, bytes_nbins)]\n",
    "keys = [int(k) for k in bytes_hist.keys()]\n",
    "lower = [int(ceil(breaks[i])) for i in keys]\n",
    "upper = [int(floor(breaks[i+1])) for i in keys]\n",
    "for z in zip(keys, lower, upper): \n",
    "    print(z[0],':\\t[', z[1], ',', z[2],']')"
   ]
  },
  {
   "cell_type": "code",
   "execution_count": 28,
   "metadata": {
    "collapsed": false
   },
   "outputs": [
    {
     "data": {
      "text/plain": [
       "PythonRDD[40] at RDD at PythonRDD.scala:43"
      ]
     },
     "execution_count": 28,
     "metadata": {},
     "output_type": "execute_result"
    }
   ],
   "source": [
    "# free up cached memory:\n",
    "bytes.unpersist()"
   ]
  },
  {
   "cell_type": "markdown",
   "metadata": {},
   "source": [
    "# Protocol and ports"
   ]
  },
  {
   "cell_type": "code",
   "execution_count": 278,
   "metadata": {
    "collapsed": false
   },
   "outputs": [
    {
     "data": {
      "text/plain": [
       "defaultdict(int, {1: 3316583, 6: 116505060, 17: 10103232, 41: 491})"
      ]
     },
     "execution_count": 278,
     "metadata": {},
     "output_type": "execute_result"
    }
   ],
   "source": [
    "protocol = subflows.map(lambda x: x[6])\n",
    "protocol.countByValue()"
   ]
  },
  {
   "cell_type": "code",
   "execution_count": 12,
   "metadata": {
    "collapsed": false
   },
   "outputs": [
    {
     "data": {
      "text/plain": [
       "defaultdict(int,\n",
       "            {1: 2378,\n",
       "             7: 872,\n",
       "             9: 841,\n",
       "             11: 408,\n",
       "             13: 870,\n",
       "             15: 390,\n",
       "             17: 876,\n",
       "             18: 384,\n",
       "             19: 876,\n",
       "             20: 1424,\n",
       "             21: 1022,\n",
       "             22: 262264,\n",
       "             23: 1005,\n",
       "             25: 1281,\n",
       "             37: 868,\n",
       "             42: 871,\n",
       "             43: 872,\n",
       "             49: 874,\n",
       "             50: 396,\n",
       "             53: 6406,\n",
       "             57: 407,\n",
       "             65: 405,\n",
       "             67: 398,\n",
       "             68: 811,\n",
       "             69: 4,\n",
       "             70: 856,\n",
       "             77: 417,\n",
       "             79: 912,\n",
       "             80: 3957306,\n",
       "             87: 391,\n",
       "             88: 2989193,\n",
       "             95: 403,\n",
       "             98: 386,\n",
       "             101: 374,\n",
       "             102: 398,\n",
       "             104: 402,\n",
       "             105: 399,\n",
       "             106: 867,\n",
       "             107: 389,\n",
       "             109: 872,\n",
       "             110: 1051,\n",
       "             111: 233278,\n",
       "             113: 993,\n",
       "             115: 395,\n",
       "             117: 395,\n",
       "             119: 852,\n",
       "             123: 361276,\n",
       "             129: 395,\n",
       "             135: 1469527,\n",
       "             137: 2547828,\n",
       "             138: 365432,\n",
       "             139: 1834388,\n",
       "             143: 948,\n",
       "             161: 1386,\n",
       "             162: 389,\n",
       "             163: 859,\n",
       "             164: 400,\n",
       "             174: 386,\n",
       "             177: 400,\n",
       "             178: 401,\n",
       "             179: 867,\n",
       "             191: 385,\n",
       "             194: 385,\n",
       "             199: 871,\n",
       "             201: 399,\n",
       "             202: 379,\n",
       "             204: 415,\n",
       "             206: 420,\n",
       "             209: 405,\n",
       "             210: 395,\n",
       "             213: 400,\n",
       "             220: 385,\n",
       "             345: 395,\n",
       "             346: 395,\n",
       "             347: 405,\n",
       "             369: 384,\n",
       "             370: 401,\n",
       "             371: 404,\n",
       "             372: 394,\n",
       "             389: 5169001,\n",
       "             406: 861,\n",
       "             427: 27810,\n",
       "             443: 967708,\n",
       "             444: 868,\n",
       "             445: 15590021,\n",
       "             464: 1170,\n",
       "             465: 872,\n",
       "             487: 391,\n",
       "             500: 2698,\n",
       "             512: 894,\n",
       "             513: 861,\n",
       "             514: 908,\n",
       "             515: 1039,\n",
       "             520: 403,\n",
       "             526: 394,\n",
       "             530: 398,\n",
       "             531: 398,\n",
       "             532: 402,\n",
       "             538: 394,\n",
       "             540: 410,\n",
       "             543: 869,\n",
       "             544: 862,\n",
       "             546: 405,\n",
       "             547: 397,\n",
       "             548: 2413,\n",
       "             549: 411,\n",
       "             554: 1096,\n",
       "             556: 398,\n",
       "             563: 861,\n",
       "             587: 872,\n",
       "             607: 507,\n",
       "             610: 505,\n",
       "             611: 529,\n",
       "             612: 509,\n",
       "             628: 505,\n",
       "             631: 924,\n",
       "             636: 973,\n",
       "             655: 560,\n",
       "             706: 6250,\n",
       "             749: 6661,\n",
       "             750: 985,\n",
       "             751: 973,\n",
       "             752: 63,\n",
       "             754: 653,\n",
       "             760: 775,\n",
       "             765: 1149,\n",
       "             775: 711,\n",
       "             777: 1225,\n",
       "             779: 237,\n",
       "             783: 1061,\n",
       "             808: 1311,\n",
       "             871: 618,\n",
       "             873: 1199,\n",
       "             901: 1060,\n",
       "             989: 826,\n",
       "             990: 1198,\n",
       "             992: 1339,\n",
       "             993: 1259,\n",
       "             994: 729,\n",
       "             995: 1528,\n",
       "             1001: 1844,\n",
       "             1080: 5091,\n",
       "             1093: 4730,\n",
       "             1094: 15744,\n",
       "             1099: 4820,\n",
       "             1109: 8549,\n",
       "             1127: 10640,\n",
       "             1178: 10384,\n",
       "             1194: 5118,\n",
       "             1210: 254,\n",
       "             1214: 15961,\n",
       "             1236: 5119,\n",
       "             1241: 41267,\n",
       "             1300: 9536,\n",
       "             1313: 4133,\n",
       "             1314: 4180,\n",
       "             1352: 5610,\n",
       "             1433: 741875,\n",
       "             1434: 7122,\n",
       "             1524: 4349,\n",
       "             1525: 7893,\n",
       "             1529: 5243,\n",
       "             1645: 3828,\n",
       "             1646: 4921,\n",
       "             1649: 4296,\n",
       "             1677: 4198,\n",
       "             1701: 4692,\n",
       "             1812: 4738,\n",
       "             1813: 4950,\n",
       "             1863: 4602,\n",
       "             1957: 3670,\n",
       "             1958: 3492,\n",
       "             1959: 3480,\n",
       "             2000: 6696,\n",
       "             2003: 3772,\n",
       "             2010: 4970,\n",
       "             2049: 373143,\n",
       "             2053: 3381,\n",
       "             2086: 10673,\n",
       "             2101: 4316,\n",
       "             2102: 232,\n",
       "             2103: 238,\n",
       "             2104: 215,\n",
       "             2105: 3783,\n",
       "             2111: 4646,\n",
       "             2119: 4254,\n",
       "             2121: 4100,\n",
       "             2135: 4029,\n",
       "             2150: 3718,\n",
       "             2401: 4420,\n",
       "             2430: 3553,\n",
       "             2431: 3972,\n",
       "             2432: 6053,\n",
       "             2433: 3565,\n",
       "             2583: 3450,\n",
       "             2600: 3765,\n",
       "             2601: 3716,\n",
       "             2602: 3738,\n",
       "             2603: 3607,\n",
       "             2604: 4426,\n",
       "             2605: 3770,\n",
       "             2606: 3293,\n",
       "             2607: 3716,\n",
       "             2608: 4048,\n",
       "             2628: 4234,\n",
       "             2792: 3557,\n",
       "             2811: 4028,\n",
       "             2947: 4080,\n",
       "             2988: 3537,\n",
       "             2989: 7216,\n",
       "             3050: 3955,\n",
       "             3130: 3476,\n",
       "             3306: 52555,\n",
       "             3493: 5679,\n",
       "             3632: 3284,\n",
       "             3689: 7495,\n",
       "             3690: 4337,\n",
       "             4031: 3865,\n",
       "             4094: 3858,\n",
       "             4190: 3655,\n",
       "             4224: 3180,\n",
       "             4353: 3731,\n",
       "             4369: 4059,\n",
       "             4373: 2757,\n",
       "             4557: 3224,\n",
       "             4559: 3385,\n",
       "             4569: 4325,\n",
       "             4600: 2936,\n",
       "             4691: 2810,\n",
       "             4899: 3539,\n",
       "             4949: 2464,\n",
       "             5002: 864,\n",
       "             5050: 850,\n",
       "             5051: 882,\n",
       "             5052: 401,\n",
       "             5060: 1044,\n",
       "             5061: 5658,\n",
       "             5151: 408,\n",
       "             5190: 871,\n",
       "             5222: 881,\n",
       "             5269: 885,\n",
       "             5308: 376,\n",
       "             5353: 417,\n",
       "             5354: 394,\n",
       "             5355: 517,\n",
       "             5432: 1289,\n",
       "             5555: 2,\n",
       "             5556: 392,\n",
       "             5666: 895,\n",
       "             5667: 2,\n",
       "             5672: 796,\n",
       "             5674: 406,\n",
       "             5675: 423,\n",
       "             5680: 407,\n",
       "             5688: 383,\n",
       "             6000: 1042,\n",
       "             6001: 886,\n",
       "             6002: 15835,\n",
       "             6003: 871,\n",
       "             6004: 868,\n",
       "             6005: 884,\n",
       "             6006: 878,\n",
       "             6007: 866,\n",
       "             6346: 875,\n",
       "             6347: 409,\n",
       "             6444: 2,\n",
       "             6445: 7,\n",
       "             6446: 4,\n",
       "             6566: 884,\n",
       "             6667: 877,\n",
       "             7000: 876,\n",
       "             7001: 897,\n",
       "             7002: 15875,\n",
       "             7003: 405,\n",
       "             7004: 874,\n",
       "             7005: 400,\n",
       "             7006: 398,\n",
       "             7007: 860,\n",
       "             7008: 389,\n",
       "             7009: 414,\n",
       "             7100: 863,\n",
       "             8021: 558,\n",
       "             8080: 16365,\n",
       "             8081: 6821,\n",
       "             8088: 868,\n",
       "             8990: 3,\n",
       "             9101: 859,\n",
       "             9102: 884,\n",
       "             9103: 870,\n",
       "             9359: 5,\n",
       "             9418: 875,\n",
       "             9667: 1,\n",
       "             9673: 1,\n",
       "             10000: 892,\n",
       "             10050: 5,\n",
       "             10051: 404,\n",
       "             10080: 408,\n",
       "             10081: 404,\n",
       "             10082: 874,\n",
       "             10083: 398,\n",
       "             10809: 179,\n",
       "             11201: 398,\n",
       "             11371: 397,\n",
       "             13720: 403,\n",
       "             13721: 396,\n",
       "             13722: 867,\n",
       "             13724: 402,\n",
       "             13782: 870,\n",
       "             13783: 892,\n",
       "             15345: 384,\n",
       "             17003: 2,\n",
       "             17004: 2,\n",
       "             20011: 402,\n",
       "             20012: 399,\n",
       "             22125: 3,\n",
       "             22128: 3,\n",
       "             22273: 400,\n",
       "             24554: 381,\n",
       "             27374: 404,\n",
       "             30865: 39,\n",
       "             57000: 1616,\n",
       "             60177: 1838,\n",
       "             60179: 2077,\n",
       "             'N': 92317889})"
      ]
     },
     "execution_count": 12,
     "metadata": {},
     "output_type": "execute_result"
    }
   ],
   "source": [
    "def normal_port(x, i):\n",
    "    if re.match('^N', x[i])!=None: \n",
    "        return 'N' \n",
    "    else: \n",
    "        return int(x[i])\n",
    "\n",
    "src_port = subflows.map(lambda x: normal_port(x,3))\n",
    "src_port_set = src_port.countByValue()\n",
    "src_port_set"
   ]
  },
  {
   "cell_type": "code",
   "execution_count": 13,
   "metadata": {
    "collapsed": false
   },
   "outputs": [
    {
     "data": {
      "text/plain": [
       "defaultdict(int,\n",
       "            {1: 2794,\n",
       "             7: 1631,\n",
       "             9: 1323,\n",
       "             11: 666,\n",
       "             13: 1690,\n",
       "             15: 653,\n",
       "             17: 1207,\n",
       "             18: 661,\n",
       "             19: 1636,\n",
       "             20: 1582,\n",
       "             21: 1488,\n",
       "             22: 651987,\n",
       "             23: 1292,\n",
       "             25: 1746,\n",
       "             37: 1124,\n",
       "             42: 1267,\n",
       "             43: 1280,\n",
       "             49: 1288,\n",
       "             50: 640,\n",
       "             53: 13260,\n",
       "             57: 639,\n",
       "             65: 699,\n",
       "             67: 1110,\n",
       "             68: 658,\n",
       "             69: 4395,\n",
       "             70: 1184,\n",
       "             77: 553,\n",
       "             79: 1239,\n",
       "             80: 4810348,\n",
       "             87: 635,\n",
       "             88: 2019214,\n",
       "             95: 677,\n",
       "             98: 705,\n",
       "             101: 715,\n",
       "             102: 666,\n",
       "             104: 675,\n",
       "             105: 738,\n",
       "             106: 1113,\n",
       "             107: 690,\n",
       "             109: 1219,\n",
       "             110: 1297,\n",
       "             111: 237166,\n",
       "             113: 1204,\n",
       "             115: 407,\n",
       "             117: 683,\n",
       "             119: 1258,\n",
       "             123: 361505,\n",
       "             129: 555,\n",
       "             135: 998497,\n",
       "             137: 2562394,\n",
       "             138: 368347,\n",
       "             139: 2118763,\n",
       "             143: 1127,\n",
       "             161: 181134,\n",
       "             162: 676,\n",
       "             163: 1291,\n",
       "             164: 604,\n",
       "             174: 718,\n",
       "             177: 1092,\n",
       "             178: 609,\n",
       "             179: 1238,\n",
       "             191: 739,\n",
       "             194: 652,\n",
       "             199: 1213,\n",
       "             201: 619,\n",
       "             202: 632,\n",
       "             204: 713,\n",
       "             206: 619,\n",
       "             209: 633,\n",
       "             210: 684,\n",
       "             213: 632,\n",
       "             220: 710,\n",
       "             345: 471,\n",
       "             346: 660,\n",
       "             347: 600,\n",
       "             369: 658,\n",
       "             370: 626,\n",
       "             371: 618,\n",
       "             372: 716,\n",
       "             389: 3951978,\n",
       "             406: 1215,\n",
       "             427: 12333,\n",
       "             443: 896949,\n",
       "             444: 1323,\n",
       "             445: 25889868,\n",
       "             464: 1976,\n",
       "             465: 1196,\n",
       "             487: 632,\n",
       "             500: 3379,\n",
       "             512: 1300,\n",
       "             513: 1338,\n",
       "             514: 1817,\n",
       "             515: 1439,\n",
       "             518: 398,\n",
       "             520: 796,\n",
       "             526: 715,\n",
       "             530: 569,\n",
       "             531: 640,\n",
       "             532: 660,\n",
       "             538: 716,\n",
       "             540: 693,\n",
       "             543: 1146,\n",
       "             544: 1313,\n",
       "             546: 551,\n",
       "             547: 722,\n",
       "             548: 2642,\n",
       "             549: 674,\n",
       "             554: 1492,\n",
       "             556: 697,\n",
       "             563: 1227,\n",
       "             587: 1250,\n",
       "             607: 764,\n",
       "             610: 789,\n",
       "             611: 853,\n",
       "             612: 709,\n",
       "             628: 845,\n",
       "             631: 1300,\n",
       "             636: 1372,\n",
       "             655: 842,\n",
       "             706: 7890,\n",
       "             749: 7099,\n",
       "             750: 1523,\n",
       "             751: 1239,\n",
       "             752: 63,\n",
       "             754: 959,\n",
       "             760: 1057,\n",
       "             765: 1564,\n",
       "             775: 1056,\n",
       "             777: 1547,\n",
       "             779: 243,\n",
       "             783: 1462,\n",
       "             808: 1639,\n",
       "             871: 910,\n",
       "             873: 1518,\n",
       "             901: 1372,\n",
       "             989: 935,\n",
       "             990: 1531,\n",
       "             992: 1747,\n",
       "             993: 1534,\n",
       "             994: 860,\n",
       "             995: 1924,\n",
       "             1001: 2174,\n",
       "             1080: 5699,\n",
       "             1093: 5329,\n",
       "             1094: 16014,\n",
       "             1099: 5463,\n",
       "             1109: 8024,\n",
       "             1127: 6829,\n",
       "             1178: 9219,\n",
       "             1194: 5107,\n",
       "             1210: 328,\n",
       "             1214: 10822,\n",
       "             1236: 4329,\n",
       "             1241: 58628,\n",
       "             1300: 5010,\n",
       "             1313: 4385,\n",
       "             1314: 4100,\n",
       "             1352: 6016,\n",
       "             1433: 126419,\n",
       "             1434: 5825,\n",
       "             1524: 4795,\n",
       "             1525: 7826,\n",
       "             1529: 3916,\n",
       "             1645: 4129,\n",
       "             1646: 4506,\n",
       "             1649: 4144,\n",
       "             1677: 4434,\n",
       "             1701: 5387,\n",
       "             1812: 5161,\n",
       "             1813: 4947,\n",
       "             1863: 4288,\n",
       "             1957: 3865,\n",
       "             1958: 3605,\n",
       "             1959: 3548,\n",
       "             2000: 5388,\n",
       "             2003: 4096,\n",
       "             2010: 4969,\n",
       "             2049: 360768,\n",
       "             2053: 3542,\n",
       "             2086: 4145,\n",
       "             2101: 3795,\n",
       "             2102: 296,\n",
       "             2103: 317,\n",
       "             2104: 291,\n",
       "             2105: 4098,\n",
       "             2111: 4319,\n",
       "             2119: 4612,\n",
       "             2121: 4328,\n",
       "             2135: 6499,\n",
       "             2150: 3942,\n",
       "             2401: 4347,\n",
       "             2430: 3798,\n",
       "             2431: 4315,\n",
       "             2432: 5421,\n",
       "             2433: 3871,\n",
       "             2583: 3695,\n",
       "             2600: 3876,\n",
       "             2601: 4056,\n",
       "             2602: 4003,\n",
       "             2603: 3572,\n",
       "             2604: 4523,\n",
       "             2605: 4356,\n",
       "             2606: 3515,\n",
       "             2607: 4001,\n",
       "             2608: 4017,\n",
       "             2628: 3780,\n",
       "             2792: 3872,\n",
       "             2811: 4231,\n",
       "             2947: 4246,\n",
       "             2988: 3853,\n",
       "             2989: 7362,\n",
       "             3050: 4258,\n",
       "             3130: 4177,\n",
       "             3306: 36302,\n",
       "             3493: 4245,\n",
       "             3632: 3571,\n",
       "             3689: 4265,\n",
       "             3690: 4269,\n",
       "             4031: 3471,\n",
       "             4094: 2932,\n",
       "             4190: 2684,\n",
       "             4224: 3184,\n",
       "             4353: 4065,\n",
       "             4369: 3797,\n",
       "             4373: 2780,\n",
       "             4557: 3193,\n",
       "             4559: 3125,\n",
       "             4569: 3816,\n",
       "             4600: 3011,\n",
       "             4691: 2855,\n",
       "             4899: 3807,\n",
       "             4949: 2494,\n",
       "             5002: 1240,\n",
       "             5050: 1251,\n",
       "             5051: 1155,\n",
       "             5052: 617,\n",
       "             5060: 1125,\n",
       "             5061: 1307,\n",
       "             5151: 631,\n",
       "             5190: 1218,\n",
       "             5222: 4973,\n",
       "             5269: 1159,\n",
       "             5308: 652,\n",
       "             5353: 965,\n",
       "             5354: 625,\n",
       "             5355: 614,\n",
       "             5432: 1207,\n",
       "             5555: 1,\n",
       "             5556: 615,\n",
       "             5666: 1146,\n",
       "             5667: 5,\n",
       "             5672: 802,\n",
       "             5674: 649,\n",
       "             5675: 574,\n",
       "             5680: 637,\n",
       "             5688: 640,\n",
       "             6000: 1785,\n",
       "             6001: 1207,\n",
       "             6002: 16151,\n",
       "             6003: 1067,\n",
       "             6004: 1992,\n",
       "             6005: 1195,\n",
       "             6006: 1163,\n",
       "             6007: 1232,\n",
       "             6346: 1246,\n",
       "             6347: 631,\n",
       "             6444: 5,\n",
       "             6445: 9,\n",
       "             6446: 7,\n",
       "             6566: 1222,\n",
       "             6667: 1222,\n",
       "             7000: 1169,\n",
       "             7001: 1661,\n",
       "             7002: 16229,\n",
       "             7003: 661,\n",
       "             7004: 1222,\n",
       "             7005: 638,\n",
       "             7006: 510,\n",
       "             7007: 1247,\n",
       "             7008: 675,\n",
       "             7009: 554,\n",
       "             7100: 1263,\n",
       "             8021: 580,\n",
       "             8080: 15620,\n",
       "             8081: 7088,\n",
       "             8088: 1205,\n",
       "             8990: 5,\n",
       "             9098: 2,\n",
       "             9101: 1598,\n",
       "             9102: 1139,\n",
       "             9103: 1211,\n",
       "             9359: 4,\n",
       "             9418: 1231,\n",
       "             9667: 3,\n",
       "             9673: 3,\n",
       "             10000: 1248,\n",
       "             10050: 31,\n",
       "             10051: 531,\n",
       "             10080: 1017,\n",
       "             10081: 1027,\n",
       "             10082: 1186,\n",
       "             10083: 614,\n",
       "             10809: 182,\n",
       "             11201: 514,\n",
       "             11371: 632,\n",
       "             13720: 612,\n",
       "             13721: 601,\n",
       "             13722: 1108,\n",
       "             13724: 565,\n",
       "             13782: 1231,\n",
       "             13783: 1248,\n",
       "             15345: 646,\n",
       "             17003: 2,\n",
       "             17004: 4,\n",
       "             20011: 657,\n",
       "             20012: 648,\n",
       "             22125: 6,\n",
       "             22128: 5,\n",
       "             22273: 602,\n",
       "             24554: 648,\n",
       "             27374: 620,\n",
       "             30865: 43,\n",
       "             57000: 1961,\n",
       "             60177: 1890,\n",
       "             60179: 4999,\n",
       "             'N': 83605504})"
      ]
     },
     "execution_count": 13,
     "metadata": {},
     "output_type": "execute_result"
    }
   ],
   "source": [
    "dst_port = subflows.map(lambda x: f(x,5))\n",
    "dst_port_set = dst_port.countByValue()\n",
    "dst_port_set"
   ]
  },
  {
   "cell_type": "code",
   "execution_count": 74,
   "metadata": {
    "collapsed": false
   },
   "outputs": [
    {
     "data": {
      "text/plain": [
       "{0: 2049,\n",
       " 1: 2053,\n",
       " 2: 1,\n",
       " 3: 9,\n",
       " 4: 11,\n",
       " 5: 13,\n",
       " 6: 15,\n",
       " 7: 17,\n",
       " 8: 18,\n",
       " 9: 19,\n",
       " 10: 20,\n",
       " 11: 21,\n",
       " 12: 22,\n",
       " 13: 23,\n",
       " 14: 25,\n",
       " 15: 5151,\n",
       " 16: 37,\n",
       " 17: 2086,\n",
       " 18: 42,\n",
       " 19: 7,\n",
       " 20: 49,\n",
       " 21: 50,\n",
       " 22: 2101,\n",
       " 23: 2102,\n",
       " 24: 2103,\n",
       " 25: 1080,\n",
       " 26: 2105,\n",
       " 27: 3130,\n",
       " 28: 2111,\n",
       " 29: 65,\n",
       " 30: 67,\n",
       " 31: 68,\n",
       " 32: 1093,\n",
       " 33: 70,\n",
       " 34: 2119,\n",
       " 35: 2121,\n",
       " 36: 1099,\n",
       " 37: 77,\n",
       " 38: 79,\n",
       " 39: 80,\n",
       " 40: 5190,\n",
       " 41: 1109,\n",
       " 42: 2135,\n",
       " 43: 88,\n",
       " 44: 4190,\n",
       " 45: 95,\n",
       " 46: 98,\n",
       " 47: 101,\n",
       " 48: 5222,\n",
       " 49: 1127,\n",
       " 50: 104,\n",
       " 51: 105,\n",
       " 52: 106,\n",
       " 53: 11371,\n",
       " 54: 109,\n",
       " 55: 110,\n",
       " 56: 111,\n",
       " 57: 113,\n",
       " 58: 115,\n",
       " 59: 117,\n",
       " 60: 119,\n",
       " 61: 123,\n",
       " 62: 4224,\n",
       " 63: 129,\n",
       " 64: 135,\n",
       " 65: 137,\n",
       " 66: 138,\n",
       " 67: 139,\n",
       " 68: 143,\n",
       " 69: 30865,\n",
       " 70: 5269,\n",
       " 71: 1178,\n",
       " 72: 7100,\n",
       " 73: 161,\n",
       " 74: 162,\n",
       " 75: 163,\n",
       " 76: 164,\n",
       " 77: 1194,\n",
       " 78: 174,\n",
       " 79: 177,\n",
       " 80: 178,\n",
       " 81: 179,\n",
       " 82: 1210,\n",
       " 83: 5308,\n",
       " 84: 9418,\n",
       " 85: 1214,\n",
       " 86: 191,\n",
       " 87: 194,\n",
       " 88: 199,\n",
       " 89: 201,\n",
       " 90: 6346,\n",
       " 91: 6347,\n",
       " 92: 204,\n",
       " 93: 546,\n",
       " 94: 206,\n",
       " 95: 209,\n",
       " 96: 210,\n",
       " 97: 5667,\n",
       " 98: 1236,\n",
       " 99: 213,\n",
       " 100: 1241,\n",
       " 101: 220,\n",
       " 102: 5353,\n",
       " 103: 5354,\n",
       " 104: 5355,\n",
       " 105: 5672,\n",
       " 106: 554,\n",
       " 107: 4353,\n",
       " 108: 43,\n",
       " 109: 556,\n",
       " 110: 4369,\n",
       " 111: 1300,\n",
       " 112: 4373,\n",
       " 113: 1313,\n",
       " 114: 1314,\n",
       " 115: 6444,\n",
       " 116: 6445,\n",
       " 117: 6446,\n",
       " 118: 5432,\n",
       " 119: 9098,\n",
       " 120: 53,\n",
       " 121: 1352,\n",
       " 122: 'N',\n",
       " 123: 2104,\n",
       " 124: 57,\n",
       " 125: 345,\n",
       " 126: 346,\n",
       " 127: 347,\n",
       " 128: 2401,\n",
       " 129: 369,\n",
       " 130: 370,\n",
       " 131: 371,\n",
       " 132: 372,\n",
       " 133: 3306,\n",
       " 134: 2430,\n",
       " 135: 2431,\n",
       " 136: 2432,\n",
       " 137: 2433,\n",
       " 138: 389,\n",
       " 139: 27374,\n",
       " 140: 406,\n",
       " 141: 1433,\n",
       " 142: 13720,\n",
       " 143: 13721,\n",
       " 144: 1434,\n",
       " 145: 13724,\n",
       " 146: 13722,\n",
       " 147: 69,\n",
       " 148: 5674,\n",
       " 149: 1094,\n",
       " 150: 6566,\n",
       " 151: 427,\n",
       " 152: 5555,\n",
       " 153: 5556,\n",
       " 154: 443,\n",
       " 155: 444,\n",
       " 156: 445,\n",
       " 157: 5675,\n",
       " 158: 9667,\n",
       " 159: 9673,\n",
       " 160: 4557,\n",
       " 161: 4559,\n",
       " 162: 464,\n",
       " 163: 465,\n",
       " 164: 13782,\n",
       " 165: 13783,\n",
       " 166: 4569,\n",
       " 167: 3493,\n",
       " 168: 487,\n",
       " 169: 9359,\n",
       " 170: 500,\n",
       " 171: 1525,\n",
       " 172: 2608,\n",
       " 173: 4600,\n",
       " 174: 1529,\n",
       " 175: 512,\n",
       " 176: 513,\n",
       " 177: 514,\n",
       " 178: 515,\n",
       " 179: 518,\n",
       " 180: 520,\n",
       " 181: 6667,\n",
       " 182: 526,\n",
       " 183: 530,\n",
       " 184: 531,\n",
       " 185: 532,\n",
       " 186: 2583,\n",
       " 187: 538,\n",
       " 188: 540,\n",
       " 189: 543,\n",
       " 190: 544,\n",
       " 191: 5666,\n",
       " 192: 547,\n",
       " 193: 548,\n",
       " 194: 549,\n",
       " 195: 2600,\n",
       " 196: 2601,\n",
       " 197: 2602,\n",
       " 198: 2603,\n",
       " 199: 2604,\n",
       " 200: 2605,\n",
       " 201: 2606,\n",
       " 202: 2607,\n",
       " 203: 3632,\n",
       " 204: 563,\n",
       " 205: 5688,\n",
       " 206: 10809,\n",
       " 207: 87,\n",
       " 208: 7009,\n",
       " 209: 2628,\n",
       " 210: 587,\n",
       " 211: 4691,\n",
       " 212: 5680,\n",
       " 213: 607,\n",
       " 214: 610,\n",
       " 215: 611,\n",
       " 216: 612,\n",
       " 217: 2150,\n",
       " 218: 3689,\n",
       " 219: 3690,\n",
       " 220: 17003,\n",
       " 221: 17004,\n",
       " 222: 1645,\n",
       " 223: 1646,\n",
       " 224: 22128,\n",
       " 225: 1649,\n",
       " 226: 628,\n",
       " 227: 631,\n",
       " 228: 636,\n",
       " 229: 10080,\n",
       " 230: 107,\n",
       " 231: 1677,\n",
       " 232: 655,\n",
       " 233: 1701,\n",
       " 234: 57000,\n",
       " 235: 706,\n",
       " 236: 2792,\n",
       " 237: 749,\n",
       " 238: 750,\n",
       " 239: 751,\n",
       " 240: 752,\n",
       " 241: 754,\n",
       " 242: 760,\n",
       " 243: 2811,\n",
       " 244: 765,\n",
       " 245: 22273,\n",
       " 246: 775,\n",
       " 247: 777,\n",
       " 248: 779,\n",
       " 249: 783,\n",
       " 250: 10000,\n",
       " 251: 60177,\n",
       " 252: 60179,\n",
       " 253: 1812,\n",
       " 254: 1813,\n",
       " 255: 8990,\n",
       " 256: 4899,\n",
       " 257: 808,\n",
       " 258: 10050,\n",
       " 259: 10051,\n",
       " 260: 1863,\n",
       " 261: 8021,\n",
       " 262: 7000,\n",
       " 263: 7001,\n",
       " 264: 7002,\n",
       " 265: 7003,\n",
       " 266: 7004,\n",
       " 267: 7005,\n",
       " 268: 7006,\n",
       " 269: 7007,\n",
       " 270: 7008,\n",
       " 271: 10081,\n",
       " 272: 10082,\n",
       " 273: 10083,\n",
       " 274: 871,\n",
       " 275: 873,\n",
       " 276: 6000,\n",
       " 277: 6001,\n",
       " 278: 6002,\n",
       " 279: 6003,\n",
       " 280: 6004,\n",
       " 281: 6005,\n",
       " 282: 6006,\n",
       " 283: 6007,\n",
       " 284: 3050,\n",
       " 285: 22125,\n",
       " 286: 20011,\n",
       " 287: 2947,\n",
       " 288: 901,\n",
       " 289: 5002,\n",
       " 290: 9101,\n",
       " 291: 9102,\n",
       " 292: 9103,\n",
       " 293: 8080,\n",
       " 294: 8081,\n",
       " 295: 8088,\n",
       " 296: 20012,\n",
       " 297: 1957,\n",
       " 298: 1958,\n",
       " 299: 1959,\n",
       " 300: 2988,\n",
       " 301: 2989,\n",
       " 302: 202,\n",
       " 303: 1524,\n",
       " 304: 5050,\n",
       " 305: 5051,\n",
       " 306: 5052,\n",
       " 307: 4031,\n",
       " 308: 11201,\n",
       " 309: 5060,\n",
       " 310: 5061,\n",
       " 311: 2000,\n",
       " 312: 2003,\n",
       " 313: 2010,\n",
       " 314: 989,\n",
       " 315: 990,\n",
       " 316: 992,\n",
       " 317: 993,\n",
       " 318: 994,\n",
       " 319: 995,\n",
       " 320: 1001,\n",
       " 321: 24554,\n",
       " 322: 15345,\n",
       " 323: 102,\n",
       " 324: 4094,\n",
       " 325: 4949}"
      ]
     },
     "execution_count": 74,
     "metadata": {},
     "output_type": "execute_result"
    }
   ],
   "source": [
    "# index union of src/dst ports:\n",
    "\n",
    "portset = set(src_port_set.keys()).union(set(dst_port_set.keys()))\n",
    "port_indices = dict((c, i) for i, c in enumerate(portset))\n",
    "indices_port = dict((i, c) for i, c in enumerate(portset))\n",
    "\n",
    "indices_port"
   ]
  },
  {
   "cell_type": "code",
   "execution_count": 77,
   "metadata": {
    "collapsed": false
   },
   "outputs": [],
   "source": [
    "import json\n",
    "\n",
    "json.dump(\n",
    "    {\n",
    "    'box_indices': box_indices,\n",
    "    'indices_box': indices_box,\n",
    "    'port_indices': port_indices,\n",
    "    'indices_port': indices_port\n",
    "    },\n",
    "    open(\"boxport_data.json\", 'w')\n",
    ")"
   ]
  },
  {
   "cell_type": "markdown",
   "metadata": {},
   "source": [
    "# Experimenting with a smaller RDD (skip)"
   ]
  },
  {
   "cell_type": "markdown",
   "metadata": {},
   "source": [
    "Let's write to disk, then read in to the session, the small set of protocol 41 flows:"
   ]
  },
  {
   "cell_type": "code",
   "execution_count": 126,
   "metadata": {
    "collapsed": false
   },
   "outputs": [],
   "source": [
    "# pull out subset and write to disk:\n",
    "\n",
    "def toCSVline(data):\n",
    "  return ','.join(str(d) for d in data)\n",
    "\n",
    "subflows.filter(lambda x: x[6]==41).map(toCSVline).saveAsTextFile(\"tmp\")"
   ]
  },
  {
   "cell_type": "code",
   "execution_count": 5,
   "metadata": {
    "collapsed": false
   },
   "outputs": [
    {
     "data": {
      "text/plain": [
       "[[132720, 13, 'C12651', 'N41444', 'C528', 'N41444', 41, 2, 184],\n",
       " [134106, 0, 'C12651', 'N16749', 'C528', 'N16749', 41, 1, 92],\n",
       " [134465, 0, 'C12651', 'N16749', 'C528', 'N16749', 41, 1, 92],\n",
       " [134826, 0, 'C12651', 'N16749', 'C528', 'N16749', 41, 1, 92],\n",
       " [135185, 0, 'C12651', 'N16749', 'C528', 'N16749', 41, 1, 92]]"
      ]
     },
     "execution_count": 5,
     "metadata": {},
     "output_type": "execute_result"
    }
   ],
   "source": [
    "# read from disk to new RDD:\n",
    "\n",
    "def f(x):\n",
    "    return [int(x[0]), int(x[1]), x[2], x[3], x[4], x[5], int(x[6]), int(x[7]), int(x[8])]\n",
    "\n",
    "tmp_rdd = sc.textFile(\"tmp\").map(lambda line: [str(x) for x in line.split(',')]).map(f)\n",
    "tmp_rdd.take(5)"
   ]
  },
  {
   "cell_type": "code",
   "execution_count": 6,
   "metadata": {
    "collapsed": false
   },
   "outputs": [
    {
     "data": {
      "text/plain": [
       "491"
      ]
     },
     "execution_count": 6,
     "metadata": {},
     "output_type": "execute_result"
    }
   ],
   "source": [
    "# how many lines?\n",
    "\n",
    "tmp_rdd.count()"
   ]
  },
  {
   "cell_type": "markdown",
   "metadata": {
    "collapsed": false
   },
   "source": [
    "# Generate definitive data set for RNN model"
   ]
  },
  {
   "cell_type": "code",
   "execution_count": 279,
   "metadata": {
    "collapsed": false
   },
   "outputs": [],
   "source": [
    "# load box/port info from json:\n",
    "\n",
    "import json\n",
    "import re\n",
    "\n",
    "data = json.load(open(\"data/boxport_data.json\", 'r'))\n",
    "\n",
    "def jsonIntKeys(x):\n",
    "    if isinstance(x, dict):\n",
    "            return {int(k):str(v) for k,v in x.items()}\n",
    "    return x\n",
    "\n",
    "def jsonIntVals(x):\n",
    "    if isinstance(x, dict):\n",
    "            return {str(k):int(v) for k,v in x.items()}\n",
    "    return x\n",
    "\n",
    "box_index = jsonIntVals( data['box_indices'] )\n",
    "index_box = jsonIntKeys( data['indices_box'] )\n",
    "port_index = jsonIntVals( data['port_indices'] )\n",
    "index_port = jsonIntKeys( data['indices_port'] )\n",
    "\n",
    "bbox = set([re.sub('[\\\"\\n]+', \"\", s) for s in box_index.keys()])"
   ]
  },
  {
   "cell_type": "code",
   "execution_count": 280,
   "metadata": {
    "collapsed": true
   },
   "outputs": [],
   "source": [
    "# define netflow RDD - filter to boxes in 'bbox' (busy computers):\n",
    "\n",
    "flowfile = path + \"flows.csv\"\n",
    "flows = sc.textFile(flowfile).map(lambda line: [str(x) for x in line.split(',')])\n",
    "\n",
    "def filt(x):\n",
    "    return [int(x[0]), int(x[1]), x[2], x[3], x[4], x[5], int(x[6]), int(x[7]), int(x[8])]\n",
    "\n",
    "subflows = flows.filter(lambda f: f[2] in bbox and f[4] in bbox).map(filt)"
   ]
  },
  {
   "cell_type": "code",
   "execution_count": 281,
   "metadata": {
    "collapsed": true
   },
   "outputs": [],
   "source": [
    "duration_nbins = 24\n",
    "packets_nbins = 32\n",
    "bytes_nbins = 32"
   ]
  },
  {
   "cell_type": "code",
   "execution_count": 287,
   "metadata": {
    "collapsed": false
   },
   "outputs": [
    {
     "data": {
      "text/plain": [
       "[[1, 0, 9501, 138, 2205, 122, 1, 26, 29],\n",
       " [1, 0, 2244, 122, 8986, 122, 1, 22, 24],\n",
       " [1, 0, 2244, 122, 8986, 122, 1, 22, 24],\n",
       " [1, 0, 5354, 122, 9484, 0, 1, 0, 1],\n",
       " [1, 0, 5354, 122, 9484, 0, 1, 0, 1],\n",
       " [1, 0, 5354, 122, 9484, 0, 1, 0, 1],\n",
       " [1, 0, 8986, 122, 2244, 122, 1, 20, 21],\n",
       " [1, 0, 8986, 122, 2244, 122, 1, 20, 21],\n",
       " [1, 0, 8986, 122, 2408, 122, 1, 20, 21],\n",
       " [1, 0, 8986, 122, 2408, 122, 1, 20, 21]]"
      ]
     },
     "execution_count": 287,
     "metadata": {},
     "output_type": "execute_result"
    }
   ],
   "source": [
    "# define normalisation mapping to be readable in Keras:\n",
    "\n",
    "from math import log, floor\n",
    "\n",
    "protocols = [1,6,17,41]\n",
    "proto_index = dict((c, i) for i, c in enumerate(protocols))\n",
    "index_proto = dict((i, c) for i, c in enumerate(protocols))\n",
    "\n",
    "def duration_bin(x):\n",
    "    return bin_fn(x+1, duration_min+1, duration_max+1, duration_coef, duration_nbins)\n",
    "def packets_bin(x):\n",
    "    return bin_fn(x, packets_min, packets_max, packets_coef, packets_nbins)\n",
    "def bytes_bin(x):\n",
    "    return bin_fn(x, bytes_min, bytes_max, bytes_coef, bytes_nbins)\n",
    "\n",
    "def normal_port(x):\n",
    "    if re.match('^N', x)!=None: \n",
    "        return 'N' \n",
    "    else: \n",
    "        return x\n",
    "\n",
    "def normalise(x):\n",
    "    return [x[0], \n",
    "            duration_bin(x[1]),\n",
    "            box_index[x[2]],\n",
    "            port_index[normal_port(x[3])],\n",
    "            box_index[x[4]],\n",
    "            port_index[normal_port(x[5])],\n",
    "            proto_index[x[6]], \n",
    "            packets_bin(x[7]), \n",
    "            bytes_bin(x[8])]\n",
    "\n",
    "# check:\n",
    "subflows.map(normalise).take(10)"
   ]
  },
  {
   "cell_type": "code",
   "execution_count": 288,
   "metadata": {
    "collapsed": false
   },
   "outputs": [],
   "source": [
    "# write to disk:\n",
    "\n",
    "def toCSVline(data):\n",
    "  return ','.join(str(d) for d in data)\n",
    "\n",
    "subflows.map(normalise).map(toCSVline).saveAsTextFile(path + \"flows_for_rnn_model\")\n",
    "\n",
    "#outfile = open(path + \"flows_for_rnn_model_100000.csv\", 'w')\n",
    "#output = subflows.map(normalise).map(toCSVline).take(100000)\n",
    "#for line in output: outfile.write(line + '\\n')\n",
    "#outfile.close()"
   ]
  },
  {
   "cell_type": "markdown",
   "metadata": {},
   "source": [
    "Then run in the output directory:\n",
    "\n",
    "cat part-* | sort -g -k1 | bzip2 -c > flows_for_rnn_model.bz2"
   ]
  },
  {
   "cell_type": "markdown",
   "metadata": {
    "collapsed": true
   },
   "source": [
    "# Further EDA"
   ]
  },
  {
   "cell_type": "code",
   "execution_count": 7,
   "metadata": {
    "collapsed": true
   },
   "outputs": [],
   "source": [
    "normflows = subflows.map(normalise)\n",
    "\n",
    "normduration = normflows.map(lambda x: x[1])\n",
    "normduration = normflows.map(lambda x: x[1])\n",
    "normpackets = normflows.map(lambda x: x[7])\n",
    "normbytes = normflows.map(lambda x: x[8])"
   ]
  },
  {
   "cell_type": "code",
   "execution_count": 12,
   "metadata": {
    "collapsed": false
   },
   "outputs": [
    {
     "data": {
      "text/plain": [
       "defaultdict(int,\n",
       "            {0: 84193649,\n",
       "             1: 4499644,\n",
       "             2: 4529776,\n",
       "             3: 12052081,\n",
       "             4: 5755560,\n",
       "             5: 16689791,\n",
       "             6: 2204865})"
      ]
     },
     "execution_count": 12,
     "metadata": {},
     "output_type": "execute_result"
    }
   ],
   "source": [
    "normduration.countByValue()\n",
    "\n",
    "# should agree with\n",
    "# {0: 84193649,\n",
    "#  1: 4499644,\n",
    "#  2: 4529776,\n",
    "#  3: 12052081,\n",
    "#  4: 5755560,\n",
    "#  5: 16689791,\n",
    "#  6: 2204865}\n",
    "# from above."
   ]
  },
  {
   "cell_type": "code",
   "execution_count": 12,
   "metadata": {
    "collapsed": false
   },
   "outputs": [],
   "source": [
    "# how many src computers are typically seen within 1-sec time bins?\n",
    "\n",
    "src_process = normflows.map(lambda x: [x[0], x[2]]).groupByKey().cache()"
   ]
  },
  {
   "cell_type": "code",
   "execution_count": null,
   "metadata": {
    "collapsed": true
   },
   "outputs": [],
   "source": [
    "# histogram of '1-sec sharing':\n",
    "\n",
    "def f(y):\n",
    "    return float(len(set(y)))/float(len(y))\n",
    "\n",
    "h = src_process.sortBy(lambda x: x[0]).map(lambda x : f(list(x[1]))).collect()"
   ]
  },
  {
   "cell_type": "code",
   "execution_count": 58,
   "metadata": {
    "collapsed": false
   },
   "outputs": [
    {
     "data": {
      "image/png": "[encoded data removed]",
      "text/plain": [
       "<matplotlib.figure.Figure at 0x130fbb310>"
      ]
     },
     "metadata": {},
     "output_type": "display_data"
    }
   ],
   "source": [
    "%matplotlib inline\n",
    "import matplotlib.pyplot as plt\n",
    "\n",
    "plt.hist(h, bins=20)\n",
    "plt.title(\"Histogram of (nr distinct src)/(total nr src) per second\")\n",
    "plt.show()"
   ]
  },
  {
   "cell_type": "markdown",
   "metadata": {},
   "source": [
    "This shows that a typical src computer will appear twice ina typical 1-second time bin. Is this uniform over time? "
   ]
  },
  {
   "cell_type": "code",
   "execution_count": 61,
   "metadata": {
    "collapsed": false
   },
   "outputs": [
    {
     "data": {
      "image/png": "[encoded data removed]",
      "text/plain": [
       "<matplotlib.figure.Figure at 0x12e7a5a90>"
      ]
     },
     "metadata": {},
     "output_type": "display_data"
    }
   ],
   "source": [
    "# how does this sharing proportion vary with time?\n",
    "\n",
    "import numpy as np\n",
    "\n",
    "def movingaverage(x, window_size):\n",
    "    window = np.ones(int(window_size))/float(window_size)\n",
    "    return np.convolve(x, window, 'same')\n",
    "\n",
    "plt.figure(figsize=(20,10))\n",
    "plt.plot(movingaverage(h, 3600))\n",
    "plt.title(\"Moving average (nr distinct src)/(total nr src) per second\")\n",
    "plt.show()"
   ]
  },
  {
   "cell_type": "markdown",
   "metadata": {
    "collapsed": false
   },
   "source": [
    "# Ashley's periodicity observation"
   ]
  },
  {
   "cell_type": "markdown",
   "metadata": {},
   "source": [
    "There is something odd about the duration field, I have several examples of oddities. \n",
    "\n",
    "On port 445 (Microsoft Directory Services) there are examples of inconsistencies but I wouldn't be surprised if they did keep opening and shutting tcp connections on the same ports.\n",
    "\n",
    "For example: on source C7513:1094 destination  C5720:445 there is a tcp session for over a week, where most of the time a new record is started every 68.3 seconds of duration 34.4 seconds.\n",
    "\n",
    "More likely to show a problem in collection and/or anonymisation is ssh where in this example in one direction the duration 72, exceeds the time between records.\n",
    "\n",
    "Also looks at:\n",
    "<ul>\n",
    "<li>\n",
    "duration=72, source_computer=C15733, source_port=N1, destination_computer=C5696, destination_port=22, protocol=6 \n",
    "<li>\n",
    "source_computer=C5696, source_port=22, destination_computer=C15733, destination_port=N1, protocol=6\n",
    "</ul>"
   ]
  },
  {
   "cell_type": "code",
   "execution_count": 13,
   "metadata": {
    "collapsed": false
   },
   "outputs": [
    {
     "data": {
      "text/plain": [
       "[True, True, True, True]"
      ]
     },
     "execution_count": 13,
     "metadata": {},
     "output_type": "execute_result"
    }
   ],
   "source": [
    "# check these are all in bbox, so we can restrict to subflows:\n",
    "\n",
    "[x in bbox for x in ['C7513','C5720','C15733','C5696']]"
   ]
  },
  {
   "cell_type": "code",
   "execution_count": 15,
   "metadata": {
    "collapsed": false
   },
   "outputs": [],
   "source": [
    "def outflows(comp):\n",
    "    return subflows.filter(lambda x: x[2]==comp)\n",
    "\n",
    "def inflows(comp):\n",
    "    return subflows.filter(lambda x: x[4]==comp)"
   ]
  },
  {
   "cell_type": "code",
   "execution_count": 23,
   "metadata": {
    "collapsed": false
   },
   "outputs": [
    {
     "data": {
      "text/plain": [
       "44722"
      ]
     },
     "execution_count": 23,
     "metadata": {},
     "output_type": "execute_result"
    }
   ],
   "source": [
    "comp = 'C15733'\n",
    "\n",
    "dat = outflows(comp)\n",
    "dat.cache()\n",
    "dat.count()"
   ]
  },
  {
   "cell_type": "code",
   "execution_count": 69,
   "metadata": {
    "collapsed": false
   },
   "outputs": [
    {
     "name": "stdout",
     "output_type": "stream",
     "text": [
      "C1685 \t 11227\n",
      "C1883 \t 482\n",
      "C26408 \t 9\n",
      "C604 \t 1706\n",
      "C1707 \t 6508\n",
      "C529 \t 3\n",
      "C3028 \t 45\n",
      "C5900 \t 22\n",
      "C5720 \t 14902\n",
      "C5760 \t 3490\n",
      "C5696 \t 6295\n",
      "C4592 \t 33\n"
     ]
    }
   ],
   "source": [
    "# group by destination computers:\n",
    "\n",
    "from __future__ import print_function\n",
    "\n",
    "edges = dat.groupBy(lambda x: x[4]).map(lambda x : (x[0], list(x[1]))).collect()\n",
    "for x in edges:\n",
    "    print(x[0], '\\t', len(x[1]))"
   ]
  },
  {
   "cell_type": "code",
   "execution_count": 70,
   "metadata": {
    "collapsed": false
   },
   "outputs": [
    {
     "data": {
      "text/plain": [
       "('C26408',\n",
       " [[563779, 1, 'C15733', 'N16432', 'C26408', '443', 6, 14, 2121],\n",
       "  [563780, 1, 'C15733', 'N9583', 'C26408', '443', 6, 15, 2019],\n",
       "  [563781, 0, 'C15733', 'N20453', 'C26408', '443', 6, 11, 1811],\n",
       "  [563781, 0, 'C15733', 'N21346', 'C26408', '443', 6, 22, 2783],\n",
       "  [563781, 0, 'C15733', 'N21505', 'C26408', '443', 6, 11, 1811],\n",
       "  [563781, 0, 'C15733', 'N37865', 'C26408', '443', 6, 11, 1795],\n",
       "  [563781, 0, 'C15733', 'N3926', 'C26408', '443', 6, 11, 1683],\n",
       "  [563808, 1, 'C15733', 'N18740', 'C26408', '443', 6, 11, 2083],\n",
       "  [563809, 0, 'C15733', 'N27357', 'C26408', '443', 6, 22, 2927]])"
      ]
     },
     "execution_count": 70,
     "metadata": {},
     "output_type": "execute_result"
    }
   ],
   "source": [
    "# for example:\n",
    "\n",
    "edges[2]"
   ]
  },
  {
   "cell_type": "code",
   "execution_count": 88,
   "metadata": {
    "collapsed": false
   },
   "outputs": [
    {
     "data": {
      "text/plain": [
       "<matplotlib.collections.PathCollection at 0x117862310>"
      ]
     },
     "execution_count": 88,
     "metadata": {},
     "output_type": "execute_result"
    },
    {
     "data": {
      "image/png": "[encoded data removed]",
      "text/plain": [
       "<matplotlib.figure.Figure at 0x1156e4d50>"
      ]
     },
     "metadata": {},
     "output_type": "display_data"
    }
   ],
   "source": [
    "%matplotlib inline\n",
    "import matplotlib.pyplot as plt\n",
    "\n",
    "dst = 'C5696'\n",
    "\n",
    "idx = [x[0] for x in edges].index(dst)\n",
    "traffic = edges[idx][1]\n",
    "time = [x[0] for x in traffic]\n",
    "dur = [x[1] for x in traffic]\n",
    "\n",
    "plt.figure(figsize=(20,5))\n",
    "plt.scatter(time, dur)"
   ]
  },
  {
   "cell_type": "code",
   "execution_count": null,
   "metadata": {
    "collapsed": false
   },
   "outputs": [],
   "source": []
  },
  {
   "cell_type": "code",
   "execution_count": null,
   "metadata": {
    "collapsed": true
   },
   "outputs": [],
   "source": []
  }
 ],
 "metadata": {
  "kernelspec": {
   "display_name": "pySpark",
   "language": "python",
   "name": "pyspark"
  },
  "language_info": {
   "codemirror_mode": {
    "name": "ipython",
    "version": 2
   },
   "file_extension": ".py",
   "mimetype": "text/x-python",
   "name": "python",
   "nbconvert_exporter": "python",
   "pygments_lexer": "ipython2",
   "version": "2.7.11"
  }
 },
 "nbformat": 4,
 "nbformat_minor": 0
}
